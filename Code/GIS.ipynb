{
 "cells": [
  {
   "cell_type": "code",
   "execution_count": 1,
   "id": "381035bd",
   "metadata": {},
   "outputs": [],
   "source": [
    "import pandas as pd\n",
    "import glob\n",
    "import re"
   ]
  },
  {
   "cell_type": "code",
   "execution_count": 2,
   "id": "df9c5674",
   "metadata": {},
   "outputs": [],
   "source": [
    "df = pd.read_csv(\"/home/smitesh22/Data/extent.csv\")"
   ]
  },
  {
   "cell_type": "code",
   "execution_count": 3,
   "id": "19037824",
   "metadata": {},
   "outputs": [],
   "source": [
    "filenames_DEM = set(df.filename)"
   ]
  },
  {
   "cell_type": "code",
   "execution_count": 4,
   "id": "f6449b86",
   "metadata": {},
   "outputs": [],
   "source": [
    "filenames_GIS = glob.glob(\"/home/smitesh22/Data/GIS/*.zip\")"
   ]
  },
  {
   "cell_type": "code",
   "execution_count": 5,
   "id": "2e2c2b4b",
   "metadata": {},
   "outputs": [],
   "source": [
    "filenames_GIS = {re.search(r'/([^/]+)\\.zip$', name).group(1) for name in filenames_GIS}"
   ]
  },
  {
   "cell_type": "code",
   "execution_count": 6,
   "id": "a8f0508f",
   "metadata": {},
   "outputs": [],
   "source": [
    "assert filenames_GIS == filenames_DEM"
   ]
  },
  {
   "cell_type": "code",
   "execution_count": 15,
   "id": "aa19dbda",
   "metadata": {},
   "outputs": [],
   "source": [
    "from osgeo import ogr, osr"
   ]
  },
  {
   "cell_type": "code",
   "execution_count": 16,
   "id": "c895d81e",
   "metadata": {},
   "outputs": [],
   "source": [
    "folders = glob.glob(\"/home/smitesh22/Data/GIS Extracted/\")\n"
   ]
  },
  {
   "cell_type": "code",
   "execution_count": 17,
   "id": "6d46bfe7",
   "metadata": {},
   "outputs": [
    {
     "data": {
      "text/plain": [
       "['/home/smitesh22/Data/GIS Extracted/']"
      ]
     },
     "execution_count": 17,
     "metadata": {},
     "output_type": "execute_result"
    }
   ],
   "source": [
    "folders"
   ]
  },
  {
   "cell_type": "code",
   "execution_count": 9,
   "id": "d9b04aed",
   "metadata": {},
   "outputs": [],
   "source": [
    "# Open the shapefile with GDAL\n",
    "driver = ogr.GetDriverByName('ESRI Shapefile')\n",
    "dataset = driver.Open(\"/home/smitesh22/jordan-latest-free.shp\", 0)\n",
    "layer = dataset.GetLayer()"
   ]
  },
  {
   "cell_type": "code",
   "execution_count": 10,
   "id": "163b898c",
   "metadata": {},
   "outputs": [],
   "source": [
    "extent = layer.GetExtent()"
   ]
  },
  {
   "cell_type": "code",
   "execution_count": 11,
   "id": "11d65d82",
   "metadata": {},
   "outputs": [
    {
     "name": "stdout",
     "output_type": "stream",
     "text": [
      "Min X: 34.966434\n",
      "Max X: 38.2006278\n",
      "Min Y: 29.1922604\n",
      "Max Y: 32.729977\n"
     ]
    }
   ],
   "source": [
    "min_x, max_x, min_y, max_y = extent\n",
    "\n",
    "# Print the extent\n",
    "print(\"Min X:\", min_x)\n",
    "print(\"Max X:\", max_x)\n",
    "print(\"Min Y:\", min_y)\n",
    "print(\"Max Y:\", max_y)"
   ]
  },
  {
   "cell_type": "code",
   "execution_count": 12,
   "id": "34b4a9d6",
   "metadata": {},
   "outputs": [],
   "source": [
    "driver = ogr.GetDriverByName('ESRI Shapefile')\n",
    "dataset = driver.Open(\"/home/smitesh22/Data/GIS/N29E075_wgs84/planet_75,29_76,30/shape\", 0)\n",
    "layer = dataset.GetLayer()"
   ]
  },
  {
   "cell_type": "code",
   "execution_count": 13,
   "id": "3261dc56",
   "metadata": {},
   "outputs": [],
   "source": [
    "extent = layer.GetExtent()"
   ]
  },
  {
   "cell_type": "code",
   "execution_count": 14,
   "id": "c4d6f2f1",
   "metadata": {},
   "outputs": [
    {
     "name": "stdout",
     "output_type": "stream",
     "text": [
      "Min X: 75.0067882\n",
      "Max X: 75.9998575\n",
      "Min Y: 29.0063107\n",
      "Max Y: 29.9982034\n"
     ]
    }
   ],
   "source": [
    "min_x, max_x, min_y, max_y = extent\n",
    "\n",
    "# Print the extent\n",
    "print(\"Min X:\", min_x)\n",
    "print(\"Max X:\", max_x)\n",
    "print(\"Min Y:\", min_y)\n",
    "print(\"Max Y:\", max_y)"
   ]
  },
  {
   "cell_type": "code",
   "execution_count": null,
   "id": "bab160b1",
   "metadata": {},
   "outputs": [],
   "source": []
  }
 ],
 "metadata": {
  "kernelspec": {
   "display_name": "Python 3 (ipykernel)",
   "language": "python",
   "name": "python3"
  },
  "language_info": {
   "codemirror_mode": {
    "name": "ipython",
    "version": 3
   },
   "file_extension": ".py",
   "mimetype": "text/x-python",
   "name": "python",
   "nbconvert_exporter": "python",
   "pygments_lexer": "ipython3",
   "version": "3.10.9"
  }
 },
 "nbformat": 4,
 "nbformat_minor": 5
}
