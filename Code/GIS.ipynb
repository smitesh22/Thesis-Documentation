{
 "cells": [
  {
   "cell_type": "code",
   "execution_count": 1,
   "id": "381035bd",
   "metadata": {},
   "outputs": [],
   "source": [
    "import pandas as pd\n",
    "import glob\n",
    "import os\n",
    "import re\n",
    "import numpy as np"
   ]
  },
  {
   "cell_type": "code",
   "execution_count": 2,
   "id": "df9c5674",
   "metadata": {},
   "outputs": [],
   "source": [
    "df = pd.read_csv(\"/home/smitesh22/Data/extent.csv\")"
   ]
  },
  {
   "cell_type": "code",
   "execution_count": 3,
   "id": "19037824",
   "metadata": {},
   "outputs": [],
   "source": [
    "filenames_DEM = set(df.filename)"
   ]
  },
  {
   "cell_type": "code",
   "execution_count": 4,
   "id": "f6449b86",
   "metadata": {},
   "outputs": [],
   "source": [
    "filenames_GIS = glob.glob(\"/home/smitesh22/Data/GIS/*.zip\")"
   ]
  },
  {
   "cell_type": "code",
   "execution_count": 5,
   "id": "2e2c2b4b",
   "metadata": {},
   "outputs": [],
   "source": [
    "filenames_GIS = {re.search(r'/([^/]+)\\.zip$', name).group(1) for name in filenames_GIS}"
   ]
  },
  {
   "cell_type": "code",
   "execution_count": 6,
   "id": "a8f0508f",
   "metadata": {},
   "outputs": [],
   "source": [
    "assert filenames_GIS == filenames_DEM"
   ]
  },
  {
   "cell_type": "code",
   "execution_count": 7,
   "id": "aa19dbda",
   "metadata": {},
   "outputs": [],
   "source": [
    "from osgeo import ogr, osr"
   ]
  },
  {
   "cell_type": "code",
   "execution_count": 8,
   "id": "bab160b1",
   "metadata": {},
   "outputs": [],
   "source": [
    "path = \"/home/smitesh22/Data/GIS Extracted/\""
   ]
  },
  {
   "cell_type": "code",
   "execution_count": 9,
   "id": "963357f8",
   "metadata": {},
   "outputs": [],
   "source": [
    "directories = [os.path.join(path, name) for name in os.listdir(path) if os.path.isdir(os.path.join(path, name))]"
   ]
  },
  {
   "cell_type": "code",
   "execution_count": 10,
   "id": "fa067ed4",
   "metadata": {},
   "outputs": [],
   "source": [
    "driver = ogr.GetDriverByName('ESRI Shapefile')\n",
    "file_paths = []\n",
    "for directory in directories:\n",
    "    for root, dirs, files in os.walk(directory):\n",
    "        for dir_name in dirs:\n",
    "            file_paths.append(os.path.join(root, dir_name))\n",
    "            "
   ]
  },
  {
   "cell_type": "code",
   "execution_count": 11,
   "id": "3c6944de",
   "metadata": {},
   "outputs": [],
   "source": [
    "driver = ogr.GetDriverByName('ESRI Shapefile')\n",
    "\n",
    "for shape_file in file_paths[1::2]:\n",
    "    match = re.findall(r'\\d+', shape_file)\n",
    "    match  = [int(num) for num in match[1:3]]\n",
    "    dataset = driver.Open(shape_file, 0)\n",
    "    layer = dataset.GetLayer()\n",
    "    extent = layer.GetExtent()\n",
    "    min_x, max_x, min_y, max_y = extent\n",
    "    coords = [int(np.round(coord)) for coord in extent]\n",
    "        \n",
    "    assert abs(coords[2] - match[0]) in (0, 1) and abs(coords[0] - match[1]) in (0, 1), f'Error with file {shape_file}'\n",
    "    \n",
    "     "
   ]
  },
  {
   "cell_type": "code",
   "execution_count": null,
   "id": "ca917bd5",
   "metadata": {},
   "outputs": [],
   "source": []
  }
 ],
 "metadata": {
  "kernelspec": {
   "display_name": "Python 3 (ipykernel)",
   "language": "python",
   "name": "python3"
  },
  "language_info": {
   "codemirror_mode": {
    "name": "ipython",
    "version": 3
   },
   "file_extension": ".py",
   "mimetype": "text/x-python",
   "name": "python",
   "nbconvert_exporter": "python",
   "pygments_lexer": "ipython3",
   "version": "3.10.9"
  }
 },
 "nbformat": 4,
 "nbformat_minor": 5
}
