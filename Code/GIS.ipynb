{
 "cells": [
  {
   "cell_type": "code",
   "execution_count": 1,
   "id": "381035bd",
   "metadata": {},
   "outputs": [],
   "source": [
    "import pandas as pd\n",
    "import glob\n",
    "import os\n",
    "import re\n",
    "import numpy as np"
   ]
  },
  {
   "cell_type": "code",
   "execution_count": 2,
   "id": "df9c5674",
   "metadata": {},
   "outputs": [],
   "source": [
    "df = pd.read_csv(\"/home/smitesh22/Data/extent.csv\")"
   ]
  },
  {
   "cell_type": "code",
   "execution_count": 3,
   "id": "19037824",
   "metadata": {},
   "outputs": [],
   "source": [
    "filenames_DEM = set(df.filename)"
   ]
  },
  {
   "cell_type": "code",
   "execution_count": 4,
   "id": "f6449b86",
   "metadata": {},
   "outputs": [],
   "source": [
    "filenames_GIS = glob.glob(\"/home/smitesh22/Data/GIS/*.zip\")"
   ]
  },
  {
   "cell_type": "code",
   "execution_count": 5,
   "id": "2e2c2b4b",
   "metadata": {},
   "outputs": [],
   "source": [
    "filenames_GIS = {re.search(r'/([^/]+)\\.zip$', name).group(1) for name in filenames_GIS}"
   ]
  },
  {
   "cell_type": "code",
   "execution_count": 6,
   "id": "a8f0508f",
   "metadata": {},
   "outputs": [],
   "source": [
    "assert filenames_GIS == filenames_DEM"
   ]
  },
  {
   "cell_type": "code",
   "execution_count": 7,
   "id": "aa19dbda",
   "metadata": {},
   "outputs": [],
   "source": [
    "from osgeo import ogr, osr"
   ]
  },
  {
   "cell_type": "code",
   "execution_count": 8,
   "id": "bab160b1",
   "metadata": {},
   "outputs": [],
   "source": [
    "path = \"/home/smitesh22/Data/GIS Extracted/\""
   ]
  },
  {
   "cell_type": "code",
   "execution_count": 9,
   "id": "963357f8",
   "metadata": {},
   "outputs": [],
   "source": [
    "directories = [os.path.join(path, name) for name in os.listdir(path) if os.path.isdir(os.path.join(path, name))]"
   ]
  },
  {
   "cell_type": "code",
   "execution_count": 10,
   "id": "fa067ed4",
   "metadata": {},
   "outputs": [],
   "source": [
    "driver = ogr.GetDriverByName('ESRI Shapefile')\n",
    "file_paths = []\n",
    "for directory in directories:\n",
    "    for root, dirs, files in os.walk(directory):\n",
    "        for dir_name in dirs:\n",
    "            file_paths.append(os.path.join(root, dir_name))\n",
    "            "
   ]
  },
  {
   "cell_type": "code",
   "execution_count": 13,
   "id": "3c6944de",
   "metadata": {},
   "outputs": [
    {
     "name": "stdout",
     "output_type": "stream",
     "text": [
      "/home/smitesh22/Data/GIS Extracted/N24E086_wgs84/planet_86,24_87,25-shp/shape\n",
      "<osgeo.ogr.Layer; proxy of <Swig Object of type 'OGRLayerShadow *' at 0x7ff081423270> >\n",
      "/home/smitesh22/Data/GIS Extracted/N32E077_wgs84/planet_77,32_78,33-shp/shape\n",
      "<osgeo.ogr.Layer; proxy of <Swig Object of type 'OGRLayerShadow *' at 0x7ff081420300> >\n",
      "/home/smitesh22/Data/GIS Extracted/N29E074_wgs84/planet_74,29_75,30-shp/shape\n",
      "<osgeo.ogr.Layer; proxy of <Swig Object of type 'OGRLayerShadow *' at 0x7ff081423600> >\n",
      "/home/smitesh22/Data/GIS Extracted/N23E079_wgs84/planet_79,23_80,24-shp/shape\n",
      "<osgeo.ogr.Layer; proxy of <Swig Object of type 'OGRLayerShadow *' at 0x7ff081423270> >\n",
      "/home/smitesh22/Data/GIS Extracted/N23E081_wgs84/planet_81,23_82,24-shp/shape\n",
      "<osgeo.ogr.Layer; proxy of <Swig Object of type 'OGRLayerShadow *' at 0x7ff0812fc5d0> >\n",
      "/home/smitesh22/Data/GIS Extracted/N24E076_wgs84/planet_76,24_77,25-shp/shape\n",
      "<osgeo.ogr.Layer; proxy of <Swig Object of type 'OGRLayerShadow *' at 0x7ff081423600> >\n",
      "/home/smitesh22/Data/GIS Extracted/N32E076_wgs84/planet_76,32_77,33-shp/shape\n",
      "<osgeo.ogr.Layer; proxy of <Swig Object of type 'OGRLayerShadow *' at 0x7ff081423270> >\n",
      "/home/smitesh22/Data/GIS Extracted/N22E074_wgs84/planet_74,22_75,23-shp/shape\n",
      "<osgeo.ogr.Layer; proxy of <Swig Object of type 'OGRLayerShadow *' at 0x7ff0812edc80> >\n",
      "/home/smitesh22/Data/GIS Extracted/N30E078_wgs84/planet_78,30_79,31-shp/shape\n",
      "<osgeo.ogr.Layer; proxy of <Swig Object of type 'OGRLayerShadow *' at 0x7ff081423600> >\n",
      "/home/smitesh22/Data/GIS Extracted/N14E077_wgs84/planet_77,14_78,15-shp/shape\n",
      "<osgeo.ogr.Layer; proxy of <Swig Object of type 'OGRLayerShadow *' at 0x7ff081423270> >\n",
      "/home/smitesh22/Data/GIS Extracted/N27E088_wgs84/planet_88,27_89,28-shp/shape\n",
      "<osgeo.ogr.Layer; proxy of <Swig Object of type 'OGRLayerShadow *' at 0x7ff081420300> >\n",
      "/home/smitesh22/Data/GIS Extracted/N25E071_wgs84/planet_71,25_72,26-shp/shape\n",
      "<osgeo.ogr.Layer; proxy of <Swig Object of type 'OGRLayerShadow *' at 0x7ff081423600> >\n",
      "/home/smitesh22/Data/GIS Extracted/N33E078_wgs84/planet_78,33_79,34-shp/shape\n",
      "<osgeo.ogr.Layer; proxy of <Swig Object of type 'OGRLayerShadow *' at 0x7ff081423270> >\n",
      "/home/smitesh22/Data/GIS Extracted/N23E087_wgs84/planet_87,23_88,24-shp/shape\n",
      "<osgeo.ogr.Layer; proxy of <Swig Object of type 'OGRLayerShadow *' at 0x7ff0812fc5d0> >\n",
      "/home/smitesh22/Data/GIS Extracted/N16E082_wgs84/planet_82,16_83,17-shp/shape\n",
      "<osgeo.ogr.Layer; proxy of <Swig Object of type 'OGRLayerShadow *' at 0x7ff081423600> >\n",
      "/home/smitesh22/Data/GIS Extracted/N34E075_wgs84/planet_75,34_76,35-shp/shape\n",
      "<osgeo.ogr.Layer; proxy of <Swig Object of type 'OGRLayerShadow *' at 0x7ff081423270> >\n",
      "/home/smitesh22/Data/GIS Extracted/N24E085_wgs84/planet_85,24_86,25-shp/shape\n",
      "<osgeo.ogr.Layer; proxy of <Swig Object of type 'OGRLayerShadow *' at 0x7ff0812edc80> >\n",
      "/home/smitesh22/Data/GIS Extracted/N24E093_wgs84/planet_93,24_94,25-shp/shape\n",
      "<osgeo.ogr.Layer; proxy of <Swig Object of type 'OGRLayerShadow *' at 0x7ff081423600> >\n",
      "/home/smitesh22/Data/GIS Extracted/N27E071_wgs84/planet_71,27_72,28-shp/shape\n",
      "<osgeo.ogr.Layer; proxy of <Swig Object of type 'OGRLayerShadow *' at 0x7ff081423270> >\n",
      "/home/smitesh22/Data/GIS Extracted/N13E092_wgs84/planet_92,13_93,14-shp/shape\n",
      "<osgeo.ogr.Layer; proxy of <Swig Object of type 'OGRLayerShadow *' at 0x7ff081420300> >\n",
      "/home/smitesh22/Data/GIS Extracted/N29E075_wgs84/planet_75,29_76,30-shp/shape\n",
      "<osgeo.ogr.Layer; proxy of <Swig Object of type 'OGRLayerShadow *' at 0x7ff081423600> >\n",
      "/home/smitesh22/Data/GIS Extracted/N24E081_wgs84/planet_81,24_82,25-shp/shape\n",
      "<osgeo.ogr.Layer; proxy of <Swig Object of type 'OGRLayerShadow *' at 0x7ff081423270> >\n",
      "/home/smitesh22/Data/GIS Extracted/N27E093_wgs84/planet_93,27_94,28-shp/shape\n",
      "<osgeo.ogr.Layer; proxy of <Swig Object of type 'OGRLayerShadow *' at 0x7ff0812fc5d0> >\n",
      "/home/smitesh22/Data/GIS Extracted/N23E084_wgs84/planet_84,23_85,24-shp/shape\n",
      "<osgeo.ogr.Layer; proxy of <Swig Object of type 'OGRLayerShadow *' at 0x7ff081423600> >\n",
      "/home/smitesh22/Data/GIS Extracted/N09E092_wgs84/planet_92,9_93,10-shp/shape\n",
      "<osgeo.ogr.Layer; proxy of <Swig Object of type 'OGRLayerShadow *' at 0x7ff081423270> >\n",
      "/home/smitesh22/Data/GIS Extracted/N17E073_wgs84/planet_73,17_74,18-shp/shape\n",
      "<osgeo.ogr.Layer; proxy of <Swig Object of type 'OGRLayerShadow *' at 0x7ff0812edc80> >\n",
      "/home/smitesh22/Data/GIS Extracted/N30E080_wgs84/planet_80,30_81,31-shp/shape\n",
      "<osgeo.ogr.Layer; proxy of <Swig Object of type 'OGRLayerShadow *' at 0x7ff081423600> >\n",
      "/home/smitesh22/Data/GIS Extracted/N23E082_wgs84/planet_82,23_83,24-shp/shape\n",
      "<osgeo.ogr.Layer; proxy of <Swig Object of type 'OGRLayerShadow *' at 0x7ff081423270> >\n",
      "/home/smitesh22/Data/GIS Extracted/N33E076_wgs84/planet_76,33_77,34-shp/shape\n",
      "<osgeo.ogr.Layer; proxy of <Swig Object of type 'OGRLayerShadow *' at 0x7ff081420300> >\n",
      "/home/smitesh22/Data/GIS Extracted/N21E075_wgs84/planet_75,21_76,22-shp/shape\n",
      "<osgeo.ogr.Layer; proxy of <Swig Object of type 'OGRLayerShadow *' at 0x7ff081423600> >\n",
      "/home/smitesh22/Data/GIS Extracted/N32E078_wgs84/planet_78,32_79,33-shp/shape\n",
      "<osgeo.ogr.Layer; proxy of <Swig Object of type 'OGRLayerShadow *' at 0x7ff081423270> >\n",
      "/home/smitesh22/Data/GIS Extracted/N28E094_wgs84/planet_94,28_95,29-shp/shape\n",
      "<osgeo.ogr.Layer; proxy of <Swig Object of type 'OGRLayerShadow *' at 0x7ff0812fc5d0> >\n",
      "/home/smitesh22/Data/GIS Extracted/N23E078_wgs84/planet_78,23_79,24-shp/shape\n",
      "<osgeo.ogr.Layer; proxy of <Swig Object of type 'OGRLayerShadow *' at 0x7ff081423600> >\n",
      "/home/smitesh22/Data/GIS Extracted/N20E078_wgs84/planet_78,20_79,21-shp/shape\n",
      "<osgeo.ogr.Layer; proxy of <Swig Object of type 'OGRLayerShadow *' at 0x7ff081423270> >\n",
      "/home/smitesh22/Data/GIS Extracted/N22E069_wgs84/planet_69,22_70,23-shp/shape\n",
      "<osgeo.ogr.Layer; proxy of <Swig Object of type 'OGRLayerShadow *' at 0x7ff0812edc80> >\n",
      "/home/smitesh22/Data/GIS Extracted/N23E071_wgs84/planet_71,23_72,24-shp/shape\n",
      "<osgeo.ogr.Layer; proxy of <Swig Object of type 'OGRLayerShadow *' at 0x7ff081423600> >\n",
      "/home/smitesh22/Data/GIS Extracted/N22E078_wgs84/planet_78,22_79,23-shp/shape\n",
      "<osgeo.ogr.Layer; proxy of <Swig Object of type 'OGRLayerShadow *' at 0x7ff081423270> >\n",
      "/home/smitesh22/Data/GIS Extracted/N27E073_wgs84/planet_73,27_74,28-shp/shape\n",
      "<osgeo.ogr.Layer; proxy of <Swig Object of type 'OGRLayerShadow *' at 0x7ff081420300> >\n",
      "/home/smitesh22/Data/GIS Extracted/N27E072_wgs84/planet_72,27_73,28-shp/shape\n",
      "<osgeo.ogr.Layer; proxy of <Swig Object of type 'OGRLayerShadow *' at 0x7ff081423600> >\n",
      "/home/smitesh22/Data/GIS Extracted/N15E078_wgs84/planet_78,15_79,16-shp/shape\n",
      "<osgeo.ogr.Layer; proxy of <Swig Object of type 'OGRLayerShadow *' at 0x7ff081423270> >\n",
      "/home/smitesh22/Data/GIS Extracted/N15E073_wgs84/planet_73,15_74,16-shp/shape\n",
      "<osgeo.ogr.Layer; proxy of <Swig Object of type 'OGRLayerShadow *' at 0x7ff0812fc5d0> >\n",
      "/home/smitesh22/Data/GIS Extracted/N21E074_wgs84/planet_74,21_75,22-shp/shape\n",
      "<osgeo.ogr.Layer; proxy of <Swig Object of type 'OGRLayerShadow *' at 0x7ff081423600> >\n",
      "/home/smitesh22/Data/GIS Extracted/N24E071_wgs84/planet_71,24_72,25-shp/shape\n",
      "<osgeo.ogr.Layer; proxy of <Swig Object of type 'OGRLayerShadow *' at 0x7ff081423270> >\n",
      "/home/smitesh22/Data/GIS Extracted/N19E072_wgs84/planet_72,19_73,20-shp/shape\n",
      "<osgeo.ogr.Layer; proxy of <Swig Object of type 'OGRLayerShadow *' at 0x7ff0812edc80> >\n",
      "/home/smitesh22/Data/GIS Extracted/N26E091_wgs84/planet_91,26_92,27-shp/shape\n",
      "<osgeo.ogr.Layer; proxy of <Swig Object of type 'OGRLayerShadow *' at 0x7ff081423600> >\n",
      "/home/smitesh22/Data/GIS Extracted/N23E069_wgs84/planet_69,23_70,24-shp/shape\n",
      "<osgeo.ogr.Layer; proxy of <Swig Object of type 'OGRLayerShadow *' at 0x7ff081423270> >\n",
      "/home/smitesh22/Data/GIS Extracted/N09E078_wgs84/planet_78,9_79,10-shp/shape\n",
      "<osgeo.ogr.Layer; proxy of <Swig Object of type 'OGRLayerShadow *' at 0x7ff081420300> >\n",
      "/home/smitesh22/Data/GIS Extracted/N31E078_wgs84/planet_78,31_79,32-shp/shape\n",
      "<osgeo.ogr.Layer; proxy of <Swig Object of type 'OGRLayerShadow *' at 0x7ff081423600> >\n",
      "/home/smitesh22/Data/GIS Extracted/N22E079_wgs84/planet_79,22_80,23-shp/shape\n",
      "<osgeo.ogr.Layer; proxy of <Swig Object of type 'OGRLayerShadow *' at 0x7ff081423270> >\n",
      "/home/smitesh22/Data/GIS Extracted/N20E074_wgs84/planet_74,20_75,21-shp/shape\n",
      "<osgeo.ogr.Layer; proxy of <Swig Object of type 'OGRLayerShadow *' at 0x7ff0812fc5d0> >\n"
     ]
    }
   ],
   "source": [
    "driver = ogr.GetDriverByName('ESRI Shapefile')\n",
    "\n",
    "for shape_file in file_paths[1::2]:\n",
    "    match = re.findall(r'\\d+', shape_file)\n",
    "    match  = [int(num) for num in match[1:3]]\n",
    "    dataset = driver.Open(shape_file, 0)\n",
    "    layer = dataset.GetLayer()\n",
    "    print(shape_file)\n",
    "    print(layer)\n",
    "    extent = layer.GetExtent()\n",
    "    min_x, max_x, min_y, max_y = extent\n",
    "    coords = [int(np.round(coord)) for coord in extent]\n",
    "        \n",
    "    assert abs(coords[2] - match[0]) in (0, 1) and abs(coords[0] - match[1]) in (0, 1), f'Error with file {shape_file}'\n",
    "    \n",
    "     "
   ]
  },
  {
   "cell_type": "code",
   "execution_count": 12,
   "id": "ca917bd5",
   "metadata": {},
   "outputs": [
    {
     "name": "stdout",
     "output_type": "stream",
     "text": [
      "/home/smitesh22/Data/GIS Extracted/N20E074_wgs84/planet_74,20_75,21-shp/shape\n"
     ]
    }
   ],
   "source": [
    "print(shape_file)"
   ]
  },
  {
   "cell_type": "code",
   "execution_count": null,
   "id": "fd9c07bf",
   "metadata": {},
   "outputs": [],
   "source": []
  }
 ],
 "metadata": {
  "kernelspec": {
   "display_name": "Python 3 (ipykernel)",
   "language": "python",
   "name": "python3"
  },
  "language_info": {
   "codemirror_mode": {
    "name": "ipython",
    "version": 3
   },
   "file_extension": ".py",
   "mimetype": "text/x-python",
   "name": "python",
   "nbconvert_exporter": "python",
   "pygments_lexer": "ipython3",
   "version": "3.10.9"
  }
 },
 "nbformat": 4,
 "nbformat_minor": 5
}
