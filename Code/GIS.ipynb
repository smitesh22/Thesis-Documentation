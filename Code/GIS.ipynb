{
 "cells": [
  {
   "cell_type": "code",
   "execution_count": 26,
   "id": "381035bd",
   "metadata": {},
   "outputs": [],
   "source": [
    "import pandas as pd\n",
    "import glob\n",
    "import re"
   ]
  },
  {
   "cell_type": "code",
   "execution_count": 27,
   "id": "df9c5674",
   "metadata": {},
   "outputs": [],
   "source": [
    "df = pd.read_csv(\"/home/smitesh22/Data/extent.csv\")"
   ]
  },
  {
   "cell_type": "code",
   "execution_count": 28,
   "id": "19037824",
   "metadata": {},
   "outputs": [],
   "source": [
    "filenames_DEM = set(df.filename)"
   ]
  },
  {
   "cell_type": "code",
   "execution_count": 29,
   "id": "f6449b86",
   "metadata": {},
   "outputs": [],
   "source": [
    "filenames_GIS = glob.glob(\"/home/smitesh22/Data/GIS/*.zip\")"
   ]
  },
  {
   "cell_type": "code",
   "execution_count": 30,
   "id": "362bff6f",
   "metadata": {},
   "outputs": [],
   "source": [
    "filenames_GIS = {re.search(r'/([^/]+)\\.zip$', name).group(1) for name in filenames_GIS}"
   ]
  },
  {
   "cell_type": "code",
   "execution_count": 35,
   "id": "85509199",
   "metadata": {},
   "outputs": [],
   "source": [
    "assert filenames_GIS == filenames_DEM"
   ]
  },
  {
   "cell_type": "code",
   "execution_count": null,
   "id": "15729a1e",
   "metadata": {},
   "outputs": [],
   "source": []
  }
 ],
 "metadata": {
  "kernelspec": {
   "display_name": "Python 3 (ipykernel)",
   "language": "python",
   "name": "python3"
  },
  "language_info": {
   "codemirror_mode": {
    "name": "ipython",
    "version": 3
   },
   "file_extension": ".py",
   "mimetype": "text/x-python",
   "name": "python",
   "nbconvert_exporter": "python",
   "pygments_lexer": "ipython3",
   "version": "3.10.9"
  }
 },
 "nbformat": 4,
 "nbformat_minor": 5
}
