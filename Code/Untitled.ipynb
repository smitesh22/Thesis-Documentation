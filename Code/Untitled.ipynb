{
 "cells": [
  {
   "cell_type": "code",
   "execution_count": 1,
   "id": "3cea1e55",
   "metadata": {},
   "outputs": [],
   "source": [
    "import torch\n",
    "import torch.nn as nn\n",
    "import torch.optim as optim\n",
    "from tqdm import tqdm\n",
    "from torch.utils.data import Dataset, DataLoader, random_split"
   ]
  },
  {
   "cell_type": "code",
   "execution_count": 2,
   "id": "e62ce4c3",
   "metadata": {},
   "outputs": [],
   "source": [
    "class AutoEncoder(nn.Module):\n",
    "    def __init__(self):\n",
    "        \n",
    "        super().__init__()\n",
    "        \n",
    "        self.encoder = nn.Sequential( # input : 3601*3601\n",
    "            nn.Conv2d(1, 32, kernel_size=(15, 15), stride=4, padding=1),\n",
    "            nn.ReLU(),\n",
    "            nn.Conv2d(32, 64, kernel_size=(8, 8), stride=4, padding=1),\n",
    "            nn.ReLU(),\n",
    "            nn.Conv2d(64, 128, kernel_size=(4, 4), stride=4, padding=1),\n",
    "            nn.ReLU(),\n",
    "            nn.Conv2d(128, 256, kernel_size=(4, 4), stride=4, padding=1),\n",
    "            nn.ReLU(),\n",
    "            nn.Conv2d(256, 512, kernel_size=(4, 4), stride=2, padding=1),\n",
    "            nn.ReLU(),\n",
    "            \n",
    "        )\n",
    "        \n",
    "        self.decoder = nn.Sequential(\n",
    "            nn.ConvTranspose2d(512, 256, kernel_size=(4, 4), stride=2, padding=1, output_padding=0),\n",
    "            nn.ReLU(),\n",
    "            nn.ConvTranspose2d(256, 128, kernel_size=(4, 4), stride=4, padding=1, output_padding=0),\n",
    "            nn.ReLU(),\n",
    "            nn.ConvTranspose2d(128, 64, kernel_size=(4, 4), stride=4, padding=1, output_padding=0),\n",
    "            nn.ReLU(),\n",
    "            nn.ConvTranspose2d(64, 32, kernel_size=(8, 8), stride=4, padding=1, output_padding=0),\n",
    "            nn.ReLU(),\n",
    "            nn.ConvTranspose2d(32, 1, kernel_size=(15, 15), stride=4, padding=1, output_padding=0),\n",
    "            nn.Sigmoid(),  # Output is between 0 and 1\n",
    "        )\n",
    "        \n",
    "    def forward(self, x):\n",
    "        x = self.encoder(x)\n",
    "        x = self.decoder(x)\n",
    "        return x\n",
    "            \n",
    "    def dimensions(self, x):\n",
    "        print(f\"----------ENCODER----------\")\n",
    "        print(f\"Input shape : {x.shape[1], x.shape[2], x.shape[3]}\")\n",
    "        x = self.encoder[0](x)\n",
    "        print(f\"After 1st Conv2d: {x.shape[1], x.shape[2], x.shape[3]}\")\n",
    "        x = self.encoder[1](x)\n",
    "        print(f\"After 1st ReLU: {x.shape[1], x.shape[2], x.shape[3]}\")\n",
    "        x = self.encoder[2](x)\n",
    "        print(f\"After 2nd Conv2d: {x.shape[1], x.shape[2], x.shape[3]}\")\n",
    "        x = self.encoder[3](x)\n",
    "        print(f\"After 2nd ReLU: {x.shape[1], x.shape[2], x.shape[3]}\")\n",
    "        x = self.encoder[4](x)\n",
    "        print(f\"After 3rd Conv2d: {x.shape[1], x.shape[2], x.shape[3]}\")\n",
    "        x = self.encoder[5](x)\n",
    "        print(f\"After 3rd ReLU: {x.shape[1], x.shape[2], x.shape[3]}\")\n",
    "        x = self.encoder[5](x)\n",
    "        print(f\"After 4th Conv2d: {x.shape[1], x.shape[2], x.shape[3]}\")\n",
    "        x = self.encoder[6](x)\n",
    "        print(f\"After 4th ReLU: {x.shape[1], x.shape[2], x.shape[3]}\")\n",
    "        x = self.encoder[7](x)\n",
    "        print(f\"After 5th Conv2d: {x.shape[1], x.shape[2], x.shape[3]}\")\n",
    "        x = self.encoder[8](x)\n",
    "        print(f\"After 6th ReLU: {x.shape[1], x.shape[2], x.shape[3]}\")\n",
    "        \n",
    "        print(\"---------DECODER------------\")\n",
    "        x= self.decoder[0](x)\n",
    "        print(f\"After 1st Transpose: {x.shape[1], x.shape[2], x.shape[3]}\")\n",
    "        x = self.decoder[1](x)\n",
    "        print(f\"After 1st ReLU: {x.shape[1], x.shape[2], x.shape[3]}\")\n",
    "        x = self.decoder[2](x)\n",
    "        print(f\"After 2nd Transpose: {x.shape[1], x.shape[2], x.shape[3]}\")\n",
    "        x = self.decoder[3](x)\n",
    "        print(f\"After 2nd ReLU: {x.shape[1], x.shape[2], x.shape[3]}\")\n",
    "        x = self.decoder[4](x)\n",
    "        print(f\"After 3rd Transpose: {x.shape[1], x.shape[2], x.shape[3]}\")\n",
    "        x = self.decoder[5](x)\n",
    "        print(f\"After 3rd ReLU: {x.shape[1], x.shape[2], x.shape[3]}\")\n",
    "        x = self.decoder[6](x)\n",
    "        print(f\"After 4th Transpose: {x.shape[1], x.shape[2], x.shape[3]}\")\n",
    "        x = self.decoder[7](x)\n",
    "        print(f\"After 5th ReLU: {x.shape[1], x.shape[2], x.shape[3]}\")\n",
    "        x = self.decoder[8](x)\n",
    "        print(f\"Decoder output : {x.shape[1], x.shape[2], x.shape[3]}\")"
   ]
  },
  {
   "cell_type": "code",
   "execution_count": 3,
   "id": "1b07191f",
   "metadata": {},
   "outputs": [],
   "source": [
    "load = torch.load(r'/home/smitesh22/Data/DEM_slope_tensorv2.pt')"
   ]
  },
  {
   "cell_type": "code",
   "execution_count": 4,
   "id": "5e554537",
   "metadata": {},
   "outputs": [],
   "source": [
    "class DEM_Dataset(Dataset):\n",
    "    def __init__(self, data):\n",
    "        self.filename = list(data.keys())\n",
    "        self.data = data\n",
    "        \n",
    "    def __len__(self):\n",
    "        return len(self.filename)\n",
    "    \n",
    "    def __getitem__(self, index):\n",
    "        filename = self.filename[index]\n",
    "        data = self.data[filename]\n",
    "        return data"
   ]
  },
  {
   "cell_type": "code",
   "execution_count": 5,
   "id": "3b6001fc",
   "metadata": {},
   "outputs": [],
   "source": [
    "model = AutoEncoder()"
   ]
  },
  {
   "cell_type": "code",
   "execution_count": 6,
   "id": "d4fbef1a",
   "metadata": {},
   "outputs": [
    {
     "name": "stdout",
     "output_type": "stream",
     "text": [
      "----------ENCODER----------\n",
      "Input shape : (1, 3601, 3601)\n",
      "After 1st Conv2d: (32, 898, 898)\n",
      "After 1st ReLU: (32, 898, 898)\n",
      "After 2nd Conv2d: (64, 224, 224)\n",
      "After 2nd ReLU: (64, 224, 224)\n",
      "After 3rd Conv2d: (128, 56, 56)\n",
      "After 3rd ReLU: (128, 56, 56)\n",
      "After 4th Conv2d: (128, 56, 56)\n",
      "After 4th ReLU: (256, 14, 14)\n",
      "After 5th Conv2d: (256, 14, 14)\n",
      "After 6th ReLU: (512, 7, 7)\n",
      "---------DECODER------------\n",
      "After 1st Transpose: (256, 14, 14)\n",
      "After 1st ReLU: (256, 14, 14)\n",
      "After 2nd Transpose: (128, 54, 54)\n",
      "After 2nd ReLU: (128, 54, 54)\n",
      "After 3rd Transpose: (64, 214, 214)\n",
      "After 3rd ReLU: (64, 214, 214)\n",
      "After 4th Transpose: (32, 858, 858)\n",
      "After 5th ReLU: (32, 858, 858)\n",
      "Decoder output : (1, 3441, 3441)\n"
     ]
    }
   ],
   "source": [
    "dummy_input = torch.randn(5, 1, 3601, 3601)\n",
    "model.dimensions(dummy_input)"
   ]
  },
  {
   "cell_type": "code",
   "execution_count": 7,
   "id": "34d85e7e",
   "metadata": {},
   "outputs": [],
   "source": [
    "data = DEM_Dataset(load)\n",
    "batch_size = 4\n",
    "train_size = 35\n",
    "test_size = 7\n",
    "val_size = 8\n",
    "\n",
    "train_dataset, test_dataset, val_dataset = random_split(data, [train_size, test_size, val_size])\n",
    "#data_loader = DataLoader(data, batch_size=5, shuffle=True)\n",
    "\n",
    "train_loader = DataLoader(train_dataset, batch_size=batch_size, shuffle=True)\n",
    "test_loader = DataLoader(test_dataset, batch_size=batch_size, shuffle=False)\n",
    "val_loader = DataLoader(val_dataset, batch_size=batch_size, shuffle=False)"
   ]
  },
  {
   "cell_type": "code",
   "execution_count": 9,
   "id": "f80ccef4",
   "metadata": {},
   "outputs": [
    {
     "name": "stderr",
     "output_type": "stream",
     "text": [
      "Epochs:   5%|█████▌                                                                                                         | 1/20 [02:47<53:04, 167.61s/it]"
     ]
    },
    {
     "name": "stdout",
     "output_type": "stream",
     "text": [
      "Epoch 1/20, Loss: 0.193206325173378, Val Loss: 0.17708022892475128\n"
     ]
    },
    {
     "name": "stderr",
     "output_type": "stream",
     "text": [
      "\r",
      "Epochs:  10%|███████████                                                                                                    | 2/20 [05:37<50:42, 169.01s/it]"
     ]
    },
    {
     "name": "stdout",
     "output_type": "stream",
     "text": [
      "Epoch 2/20, Loss: 0.1926955133676529, Val Loss: 0.176625095307827\n"
     ]
    },
    {
     "name": "stderr",
     "output_type": "stream",
     "text": [
      "\r",
      "Epochs:  15%|████████████████▋                                                                                              | 3/20 [08:29<48:14, 170.27s/it]"
     ]
    },
    {
     "name": "stdout",
     "output_type": "stream",
     "text": [
      "Epoch 3/20, Loss: 0.19093526899814606, Val Loss: 0.17484035342931747\n"
     ]
    },
    {
     "name": "stderr",
     "output_type": "stream",
     "text": [
      "\r",
      "Epochs:  20%|██████████████████████▏                                                                                        | 4/20 [11:19<45:23, 170.24s/it]"
     ]
    },
    {
     "name": "stdout",
     "output_type": "stream",
     "text": [
      "Epoch 4/20, Loss: 0.14986422657966614, Val Loss: 0.14012012630701065\n"
     ]
    },
    {
     "name": "stderr",
     "output_type": "stream",
     "text": [
      "\r",
      "Epochs:  25%|███████████████████████████▊                                                                                   | 5/20 [14:05<42:08, 168.57s/it]"
     ]
    },
    {
     "name": "stdout",
     "output_type": "stream",
     "text": [
      "Epoch 5/20, Loss: 0.06971018016338348, Val Loss: 0.08073197118937969\n"
     ]
    },
    {
     "name": "stderr",
     "output_type": "stream",
     "text": [
      "\r",
      "Epochs:  30%|█████████████████████████████████▎                                                                             | 6/20 [16:58<39:41, 170.14s/it]"
     ]
    },
    {
     "name": "stdout",
     "output_type": "stream",
     "text": [
      "Epoch 6/20, Loss: 0.019535932689905167, Val Loss: 0.044724724255502224\n"
     ]
    },
    {
     "name": "stderr",
     "output_type": "stream",
     "text": [
      "\r",
      "Epochs:  35%|██████████████████████████████████████▊                                                                        | 7/20 [19:56<37:26, 172.81s/it]"
     ]
    },
    {
     "name": "stdout",
     "output_type": "stream",
     "text": [
      "Epoch 7/20, Loss: 0.018437527120113373, Val Loss: 0.028768950141966343\n"
     ]
    },
    {
     "name": "stderr",
     "output_type": "stream",
     "text": [
      "\r",
      "Epochs:  40%|████████████████████████████████████████████▍                                                                  | 8/20 [22:59<35:11, 175.98s/it]"
     ]
    },
    {
     "name": "stdout",
     "output_type": "stream",
     "text": [
      "Epoch 8/20, Loss: 0.0064985500648617744, Val Loss: 0.015479830093681812\n"
     ]
    },
    {
     "name": "stderr",
     "output_type": "stream",
     "text": [
      "\r",
      "Epochs:  45%|█████████████████████████████████████████████████▉                                                             | 9/20 [25:49<31:55, 174.13s/it]"
     ]
    },
    {
     "name": "stdout",
     "output_type": "stream",
     "text": [
      "Epoch 9/20, Loss: 0.006186048500239849, Val Loss: 0.015095456968992949\n"
     ]
    },
    {
     "name": "stderr",
     "output_type": "stream",
     "text": [
      "\r",
      "Epochs:  50%|███████████████████████████████████████████████████████                                                       | 10/20 [28:39<28:49, 172.97s/it]"
     ]
    },
    {
     "name": "stdout",
     "output_type": "stream",
     "text": [
      "Epoch 10/20, Loss: 0.00603274954482913, Val Loss: 0.014819310512393713\n"
     ]
    },
    {
     "name": "stderr",
     "output_type": "stream",
     "text": [
      "\r",
      "Epochs:  55%|████████████████████████████████████████████████████████████▌                                                 | 11/20 [31:32<25:56, 172.92s/it]"
     ]
    },
    {
     "name": "stdout",
     "output_type": "stream",
     "text": [
      "Epoch 11/20, Loss: 0.005866821389645338, Val Loss: 0.014545199926942587\n"
     ]
    },
    {
     "name": "stderr",
     "output_type": "stream",
     "text": [
      "\r",
      "Epochs:  60%|██████████████████████████████████████████████████████████████████                                            | 12/20 [35:02<24:32, 184.07s/it]"
     ]
    },
    {
     "name": "stdout",
     "output_type": "stream",
     "text": [
      "Epoch 12/20, Loss: 0.005678032524883747, Val Loss: 0.014257742557674646\n"
     ]
    },
    {
     "name": "stderr",
     "output_type": "stream",
     "text": [
      "\r",
      "Epochs:  65%|███████████████████████████████████████████████████████████████████████▌                                      | 13/20 [38:09<21:35, 185.14s/it]"
     ]
    },
    {
     "name": "stdout",
     "output_type": "stream",
     "text": [
      "Epoch 13/20, Loss: 0.005448436364531517, Val Loss: 0.013940514530986547\n"
     ]
    },
    {
     "name": "stderr",
     "output_type": "stream",
     "text": [
      "\r",
      "Epochs:  70%|█████████████████████████████████████████████████████████████████████████████                                 | 14/20 [41:08<18:18, 183.03s/it]"
     ]
    },
    {
     "name": "stdout",
     "output_type": "stream",
     "text": [
      "Epoch 14/20, Loss: 0.005167114548385143, Val Loss: 0.013583756517618895\n"
     ]
    },
    {
     "name": "stderr",
     "output_type": "stream",
     "text": [
      "\r",
      "Epochs:  75%|██████████████████████████████████████████████████████████████████████████████████▌                           | 15/20 [44:20<15:29, 185.81s/it]"
     ]
    },
    {
     "name": "stdout",
     "output_type": "stream",
     "text": [
      "Epoch 15/20, Loss: 0.0048304153606295586, Val Loss: 0.013180367648601532\n"
     ]
    },
    {
     "name": "stderr",
     "output_type": "stream",
     "text": [
      "\r",
      "Epochs:  80%|████████████████████████████████████████████████████████████████████████████████████████                      | 16/20 [47:46<12:47, 191.98s/it]"
     ]
    },
    {
     "name": "stdout",
     "output_type": "stream",
     "text": [
      "Epoch 16/20, Loss: 0.004433612804859877, Val Loss: 0.012725769076496363\n"
     ]
    },
    {
     "name": "stderr",
     "output_type": "stream",
     "text": [
      "\r",
      "Epochs:  85%|█████████████████████████████████████████████████████████████████████████████████████████████▌                | 17/20 [51:26<10:00, 200.28s/it]"
     ]
    },
    {
     "name": "stdout",
     "output_type": "stream",
     "text": [
      "Epoch 17/20, Loss: 0.003992119804024696, Val Loss: 0.01223349361680448\n"
     ]
    },
    {
     "name": "stderr",
     "output_type": "stream",
     "text": [
      "\r",
      "Epochs:  90%|███████████████████████████████████████████████████████████████████████████████████████████████████           | 18/20 [54:47<06:41, 200.65s/it]"
     ]
    },
    {
     "name": "stdout",
     "output_type": "stream",
     "text": [
      "Epoch 18/20, Loss: 0.0035671466030180454, Val Loss: 0.011778098065406084\n"
     ]
    },
    {
     "name": "stderr",
     "output_type": "stream",
     "text": [
      "\r",
      "Epochs:  95%|████████████████████████████████████████████████████████████████████████████████████████████████████████▌     | 19/20 [58:16<03:23, 203.18s/it]"
     ]
    },
    {
     "name": "stdout",
     "output_type": "stream",
     "text": [
      "Epoch 19/20, Loss: 0.0032372234854847193, Val Loss: 0.011420924449339509\n"
     ]
    },
    {
     "name": "stderr",
     "output_type": "stream",
     "text": [
      "Epochs: 100%|████████████████████████████████████████████████████████████████████████████████████████████████████████████| 20/20 [1:01:41<00:00, 185.07s/it]"
     ]
    },
    {
     "name": "stdout",
     "output_type": "stream",
     "text": [
      "Epoch 20/20, Loss: 0.003000744618475437, Val Loss: 0.01115684537217021\n"
     ]
    },
    {
     "name": "stderr",
     "output_type": "stream",
     "text": [
      "\n"
     ]
    }
   ],
   "source": [
    "model = AutoEncoder()\n",
    "device = torch.device('cuda' if torch.cuda.is_available() else 'cpu')\n",
    "model.to(device)\n",
    "\n",
    "# Define loss function and optimizer\n",
    "criterion = nn.MSELoss()  # Assuming you are using a linear activation for the final layer\n",
    "optimizer = optim.Adam(model.parameters(), lr=1e-5\n",
    "                      )\n",
    "\n",
    "num_epochs = 20\n",
    "for epoch in tqdm(range(num_epochs), desc='Epochs'):\n",
    "    model.train()\n",
    "    for batch_idx, batch_data in enumerate(data):\n",
    "        batch_data = batch_data.float().to(device)\n",
    "        optimizer.zero_grad()\n",
    "        outputs = model(batch_data)\n",
    "        loss = criterion(outputs, batch_data)\n",
    "        loss.backward()\n",
    "        optimizer.step()\n",
    "    model.eval()  # Set the model to evaluation mode\n",
    "    val_loss = 0.0\n",
    "    with torch.no_grad():\n",
    "        for val_batch_data in val_loader:\n",
    "            val_batch_data = val_batch_data.float().to(device)\n",
    "            val_outputs = model(val_batch_data)\n",
    "            val_loss += criterion(val_outputs, val_batch_data).item()\n",
    "\n",
    "    val_loss /= len(val_loader)\n",
    "    \n",
    "    print(f\"Epoch {epoch+1}/{num_epochs}, Loss: {loss.item()}, Val Loss: {val_loss}\")"
   ]
  },
  {
   "cell_type": "code",
   "execution_count": 12,
   "id": "74541e97",
   "metadata": {},
   "outputs": [
    {
     "name": "stderr",
     "output_type": "stream",
     "text": [
      "                                                                                                                                                            "
     ]
    },
    {
     "name": "stdout",
     "output_type": "stream",
     "text": [
      "Test Loss: 0.01922125183045864\n"
     ]
    },
    {
     "name": "stderr",
     "output_type": "stream",
     "text": [
      "\r"
     ]
    }
   ],
   "source": [
    "model.eval()  # Set the model to evaluation mode\n",
    "test_loss = 0.0\n",
    "with torch.no_grad():\n",
    "    with tqdm(test_loader, desc='Testing', leave=False) as t:\n",
    "        for test_batch_data in t:\n",
    "            test_batch_data = test_batch_data.float().to(device)\n",
    "            test_outputs = model(test_batch_data)\n",
    "            test_loss += criterion(test_outputs, test_batch_data).item()\n",
    "\n",
    "test_loss /= len(test_loader)  # Average the test loss\n",
    "print(f\"Test Loss: {test_loss}\")\n",
    "\n",
    "# Save the trained model\n",
    "torch.save(model.state_dict(), r'/home/smitesh22/Data/DEM_dim_red.pt')"
   ]
  },
  {
   "cell_type": "code",
   "execution_count": null,
   "id": "d1499204",
   "metadata": {},
   "outputs": [],
   "source": []
  }
 ],
 "metadata": {
  "kernelspec": {
   "display_name": "Python 3 (ipykernel)",
   "language": "python",
   "name": "python3"
  },
  "language_info": {
   "codemirror_mode": {
    "name": "ipython",
    "version": 3
   },
   "file_extension": ".py",
   "mimetype": "text/x-python",
   "name": "python",
   "nbconvert_exporter": "python",
   "pygments_lexer": "ipython3",
   "version": "3.10.9"
  }
 },
 "nbformat": 4,
 "nbformat_minor": 5
}
