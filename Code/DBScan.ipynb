{
 "cells": [
  {
   "cell_type": "code",
   "execution_count": 1,
   "id": "02711186",
   "metadata": {},
   "outputs": [],
   "source": [
    "import torch\n",
    "import torch.nn as nn\n",
    "from AutoEncoder import AutoEncoder"
   ]
  },
  {
   "cell_type": "code",
   "execution_count": 2,
   "id": "79f22303",
   "metadata": {},
   "outputs": [],
   "source": [
    "model = AutoEncoder()"
   ]
  },
  {
   "cell_type": "code",
   "execution_count": 3,
   "id": "95a60891",
   "metadata": {},
   "outputs": [],
   "source": [
    "weights = torch.load('DEM_model_weights.pt')"
   ]
  },
  {
   "cell_type": "code",
   "execution_count": 4,
   "id": "19950a2d",
   "metadata": {},
   "outputs": [
    {
     "data": {
      "text/plain": [
       "<All keys matched successfully>"
      ]
     },
     "execution_count": 4,
     "metadata": {},
     "output_type": "execute_result"
    }
   ],
   "source": [
    "model.load_state_dict(weights)"
   ]
  },
  {
   "cell_type": "code",
   "execution_count": 5,
   "id": "dc2f2bd3",
   "metadata": {},
   "outputs": [],
   "source": [
    "load = torch.load(\"/home/smitesh22/Data/DEM_slope_tensorv2.pt\")"
   ]
  },
  {
   "cell_type": "code",
   "execution_count": null,
   "id": "95c47778",
   "metadata": {},
   "outputs": [
    {
     "name": "stdout",
     "output_type": "stream",
     "text": [
      "one dones\n",
      "one dones\n",
      "one dones\n",
      "one dones\n",
      "one dones\n",
      "one dones\n",
      "one dones\n",
      "one dones\n",
      "one dones\n",
      "one dones\n",
      "one dones\n",
      "one dones\n",
      "one dones\n",
      "one dones\n",
      "one dones\n",
      "one dones\n",
      "one dones\n",
      "one dones\n",
      "one dones\n",
      "one dones\n"
     ]
    }
   ],
   "source": [
    "embedded_dict = {}\n",
    "\n",
    "for data in load:\n",
    "    embedded_dict[data] = model.encoder(load[data].float())\n",
    "    print(\"one dones\")"
   ]
  },
  {
   "cell_type": "code",
   "execution_count": null,
   "id": "0b10a899",
   "metadata": {},
   "outputs": [],
   "source": []
  }
 ],
 "metadata": {
  "kernelspec": {
   "display_name": "Python 3 (ipykernel)",
   "language": "python",
   "name": "python3"
  },
  "language_info": {
   "codemirror_mode": {
    "name": "ipython",
    "version": 3
   },
   "file_extension": ".py",
   "mimetype": "text/x-python",
   "name": "python",
   "nbconvert_exporter": "python",
   "pygments_lexer": "ipython3",
   "version": "3.10.9"
  }
 },
 "nbformat": 4,
 "nbformat_minor": 5
}
