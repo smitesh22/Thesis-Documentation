{
 "cells": [
  {
   "cell_type": "code",
   "execution_count": 1,
   "id": "3cea1e55",
   "metadata": {},
   "outputs": [],
   "source": [
    "import torch\n",
    "import torch.nn as nn\n",
    "import torch.optim as optim\n",
    "from tqdm import tqdm\n",
    "from torch.utils.data import Dataset, DataLoader, random_split"
   ]
  },
  {
   "cell_type": "code",
   "execution_count": 2,
   "id": "e62ce4c3",
   "metadata": {},
   "outputs": [],
   "source": [
    "class AutoEncoder(nn.Module):\n",
    "    def __init__(self):\n",
    "        \n",
    "        super().__init__()\n",
    "        \n",
    "        self.encoder = nn.Sequential( # input : 3601*3601\n",
    "            nn.Conv2d(1, 32, kernel_size=(15, 15), stride=4, padding=1),\n",
    "            nn.ReLU(),\n",
    "            nn.Conv2d(32, 64, kernel_size=(8, 8), stride=4, padding=1),\n",
    "            nn.ReLU(),\n",
    "            nn.Conv2d(64, 128, kernel_size=(4, 4), stride=2, padding=1),\n",
    "            nn.ReLU(),\n",
    "            nn.Conv2d(128, 256, kernel_size=(4, 4), stride=2, padding=1),\n",
    "            nn.ReLU(),\n",
    "            nn.Conv2d(256, 512, kernel_size=(4, 4), stride=2, padding=1),\n",
    "            nn.ReLU(),\n",
    "            \n",
    "        )\n",
    "        \n",
    "        self.decoder = nn.Sequential(\n",
    "            nn.ConvTranspose2d(512, 256, kernel_size=(4, 4), stride=2, padding=1, output_padding=0),\n",
    "            nn.ReLU(),\n",
    "            nn.ConvTranspose2d(256, 128, kernel_size=(4, 4), stride=2, padding=1, output_padding=0),\n",
    "            nn.ReLU(),\n",
    "            nn.ConvTranspose2d(128, 64, kernel_size=(4, 4), stride=2, padding=1, output_padding=0),\n",
    "            nn.ReLU(),\n",
    "            nn.ConvTranspose2d(64, 32, kernel_size=(8, 8), stride=4, padding=1, output_padding=0),\n",
    "            nn.ReLU(),\n",
    "            nn.ConvTranspose2d(32, 1, kernel_size=(15, 15), stride=4, padding=1, output_padding=0),\n",
    "            nn.Sigmoid(),  # Output is between 0 and 1\n",
    "        )\n",
    "        \n",
    "    def forward(self, x):\n",
    "        x = self.encoder(x)\n",
    "        x = self.decoder(x)\n",
    "        return x\n",
    "            \n",
    "    def dimensions(self, x):\n",
    "        print(f\"----------ENCODER----------\")\n",
    "        print(f\"Input shape : {x.shape[1], x.shape[2], x.shape[3]}\")\n",
    "        x = self.encoder[0](x)\n",
    "        print(f\"After 1st Conv2d: {x.shape[1], x.shape[2], x.shape[3]}\")\n",
    "        x = self.encoder[1](x)\n",
    "        print(f\"After 1st ReLU: {x.shape[1], x.shape[2], x.shape[3]}\")\n",
    "        x = self.encoder[2](x)\n",
    "        print(f\"After 2nd Conv2d: {x.shape[1], x.shape[2], x.shape[3]}\")\n",
    "        x = self.encoder[3](x)\n",
    "        print(f\"After 2nd ReLU: {x.shape[1], x.shape[2], x.shape[3]}\")\n",
    "        x = self.encoder[4](x)\n",
    "        print(f\"After 3rd Conv2d: {x.shape[1], x.shape[2], x.shape[3]}\")\n",
    "        x = self.encoder[5](x)\n",
    "        print(f\"After 3rd ReLU: {x.shape[1], x.shape[2], x.shape[3]}\")\n",
    "        x = self.encoder[5](x)\n",
    "        print(f\"After 4th Conv2d: {x.shape[1], x.shape[2], x.shape[3]}\")\n",
    "        x = self.encoder[6](x)\n",
    "        print(f\"After 4th ReLU: {x.shape[1], x.shape[2], x.shape[3]}\")\n",
    "        x = self.encoder[7](x)\n",
    "        print(f\"After 5th Conv2d: {x.shape[1], x.shape[2], x.shape[3]}\")\n",
    "        x = self.encoder[8](x)\n",
    "        print(f\"After 6th ReLU: {x.shape[1], x.shape[2], x.shape[3]}\")\n",
    "        \n",
    "        print(\"---------DECODER------------\")\n",
    "        x= self.decoder[0](x)\n",
    "        print(f\"After 1st Transpose: {x.shape[1], x.shape[2], x.shape[3]}\")\n",
    "        x = self.decoder[1](x)\n",
    "        print(f\"After 1st ReLU: {x.shape[1], x.shape[2], x.shape[3]}\")\n",
    "        x = self.decoder[2](x)\n",
    "        print(f\"After 2nd Transpose: {x.shape[1], x.shape[2], x.shape[3]}\")\n",
    "        x = self.decoder[3](x)\n",
    "        print(f\"After 2nd ReLU: {x.shape[1], x.shape[2], x.shape[3]}\")\n",
    "        x = self.decoder[4](x)\n",
    "        print(f\"After 3rd Transpose: {x.shape[1], x.shape[2], x.shape[3]}\")\n",
    "        x = self.decoder[5](x)\n",
    "        print(f\"After 3rd ReLU: {x.shape[1], x.shape[2], x.shape[3]}\")\n",
    "        x = self.decoder[6](x)\n",
    "        print(f\"After 4th Transpose: {x.shape[1], x.shape[2], x.shape[3]}\")\n",
    "        x = self.decoder[7](x)\n",
    "        print(f\"After 5th ReLU: {x.shape[1], x.shape[2], x.shape[3]}\")\n",
    "        x = self.decoder[8](x)\n",
    "        print(f\"Decoder output : {x.shape[1], x.shape[2], x.shape[3]}\")"
   ]
  },
  {
   "cell_type": "code",
   "execution_count": 3,
   "id": "1b07191f",
   "metadata": {},
   "outputs": [],
   "source": [
    "load = torch.load(r'/home/smitesh22/Data/DEM_slope_tensorv2.pt')"
   ]
  },
  {
   "cell_type": "code",
   "execution_count": 4,
   "id": "04c43514",
   "metadata": {},
   "outputs": [],
   "source": [
    "class DEM_Dataset(Dataset):\n",
    "    def __init__(self, data):\n",
    "        self.filename = list(data.keys())\n",
    "        self.data = data\n",
    "        \n",
    "    def __len__(self):\n",
    "        return len(self.filename)\n",
    "    \n",
    "    def __getitem__(self, index):\n",
    "        filename = self.filename[index]\n",
    "        data = self.data[filename]\n",
    "        return data"
   ]
  },
  {
   "cell_type": "code",
   "execution_count": 5,
   "id": "3b6001fc",
   "metadata": {},
   "outputs": [],
   "source": [
    "model = AutoEncoder()"
   ]
  },
  {
   "cell_type": "code",
   "execution_count": 6,
   "id": "d4fbef1a",
   "metadata": {},
   "outputs": [
    {
     "name": "stdout",
     "output_type": "stream",
     "text": [
      "----------ENCODER----------\n",
      "Input shape : (1, 3601, 3601)\n",
      "After 1st Conv2d: (32, 898, 898)\n",
      "After 1st ReLU: (32, 898, 898)\n",
      "After 2nd Conv2d: (64, 224, 224)\n",
      "After 2nd ReLU: (64, 224, 224)\n",
      "After 3rd Conv2d: (128, 112, 112)\n",
      "After 3rd ReLU: (128, 112, 112)\n",
      "After 4th Conv2d: (128, 112, 112)\n",
      "After 4th ReLU: (256, 56, 56)\n",
      "After 5th Conv2d: (256, 56, 56)\n",
      "After 6th ReLU: (512, 28, 28)\n",
      "---------DECODER------------\n",
      "After 1st Transpose: (256, 56, 56)\n",
      "After 1st ReLU: (256, 56, 56)\n",
      "After 2nd Transpose: (128, 112, 112)\n",
      "After 2nd ReLU: (128, 112, 112)\n",
      "After 3rd Transpose: (64, 224, 224)\n",
      "After 3rd ReLU: (64, 224, 224)\n",
      "After 4th Transpose: (32, 898, 898)\n",
      "After 5th ReLU: (32, 898, 898)\n",
      "Decoder output : (1, 3601, 3601)\n"
     ]
    }
   ],
   "source": [
    "dummy_input = torch.randn(5, 1, 3601, 3601)\n",
    "model.dimensions(dummy_input)"
   ]
  },
  {
   "cell_type": "code",
   "execution_count": 7,
   "id": "e81dcacd",
   "metadata": {},
   "outputs": [],
   "source": [
    "data = DEM_Dataset(load)\n",
    "batch_size = 4\n",
    "train_size = 35\n",
    "test_size = 7\n",
    "val_size = 8\n",
    "\n",
    "train_dataset, test_dataset, val_dataset = random_split(data, [train_size, test_size, val_size])\n",
    "#data_loader = DataLoader(data, batch_size=5, shuffle=True)\n",
    "\n",
    "train_loader = DataLoader(train_dataset, batch_size=batch_size, shuffle=True)\n",
    "test_loader = DataLoader(test_dataset, batch_size=batch_size, shuffle=False)\n",
    "val_loader = DataLoader(val_dataset, batch_size=batch_size, shuffle=False)"
   ]
  },
  {
   "cell_type": "code",
   "execution_count": 8,
   "id": "18b96634",
   "metadata": {},
   "outputs": [
    {
     "name": "stderr",
     "output_type": "stream",
     "text": [
      "Epochs: 100%|████████████████████████████████████████████████████████████████████████████████████████████████████████████████| 1/1 [02:30<00:00, 150.62s/it]"
     ]
    },
    {
     "name": "stdout",
     "output_type": "stream",
     "text": [
      "Epoch 1/1, Loss: 0.2031194120645523, Val Loss: 0.1504780575633049\n"
     ]
    },
    {
     "name": "stderr",
     "output_type": "stream",
     "text": [
      "\n"
     ]
    }
   ],
   "source": [
    "model = AutoEncoder()\n",
    "device = torch.device('cuda' if torch.cuda.is_available() else 'cpu')\n",
    "model.to(device)\n",
    "\n",
    "# Define loss function and optimizer\n",
    "criterion = nn.MSELoss()  # Assuming you are using a linear activation for the final layer\n",
    "optimizer = optim.Adam(model.parameters(), lr=1e-5)\n",
    "\n",
    "num_epochs = 1\n",
    "for epoch in tqdm(range(num_epochs), desc='Epochs'):\n",
    "    model.train()\n",
    "    for batch_idx, batch_data in enumerate(data):\n",
    "        batch_data = batch_data.float().to(device)\n",
    "        optimizer.zero_grad()\n",
    "        outputs = model(batch_data)\n",
    "        loss = criterion(outputs, batch_data)\n",
    "        loss.backward()\n",
    "        optimizer.step()\n",
    "    model.eval()  # Set the model to evaluation mode\n",
    "    val_loss = 0.0\n",
    "    with torch.no_grad():\n",
    "        for val_batch_data in val_loader:\n",
    "            val_batch_data = val_batch_data.float().to(device)\n",
    "            val_outputs = model(val_batch_data)\n",
    "            val_loss += criterion(val_outputs, val_batch_data).item()\n",
    "\n",
    "    val_loss /= len(val_loader)\n",
    "    \n",
    "    print(f\"Epoch {epoch+1}/{num_epochs}, Loss: {loss.item()}, Val Loss: {val_loss}\")"
   ]
  },
  {
   "cell_type": "code",
   "execution_count": 9,
   "id": "f15588db",
   "metadata": {},
   "outputs": [
    {
     "name": "stderr",
     "output_type": "stream",
     "text": [
      "                                                                                                                                                            "
     ]
    },
    {
     "name": "stdout",
     "output_type": "stream",
     "text": [
      "Test Loss: 0.17860504984855652\n"
     ]
    },
    {
     "name": "stderr",
     "output_type": "stream",
     "text": [
      "\r"
     ]
    }
   ],
   "source": [
    "model.eval()  # Set the model to evaluation mode\n",
    "test_loss = 0.0\n",
    "with torch.no_grad():\n",
    "    with tqdm(test_loader, desc='Testing', leave=False) as t:\n",
    "        for test_batch_data in t:\n",
    "            test_batch_data = test_batch_data.float().to(device)\n",
    "            test_outputs = model(test_batch_data)\n",
    "            test_loss += criterion(test_outputs, test_batch_data).item()\n",
    "\n",
    "test_loss /= len(test_loader)  # Average the test loss\n",
    "print(f\"Test Loss: {test_loss}\")"
   ]
  },
  {
   "cell_type": "code",
   "execution_count": 29,
   "id": "d8d3be0b",
   "metadata": {},
   "outputs": [],
   "source": [
    "#torch.save(embedded_dict, \"/home/smitesh22/Unsupervised-Machine-Learning-for-Solar-Site-Selection/Code/embedded_dict.pt\")\n",
    "\n",
    "torch.save(model.state_dict(), \"DEM_model_weights.pt\")"
   ]
  },
  {
   "cell_type": "code",
   "execution_count": null,
   "id": "eb650ed1",
   "metadata": {},
   "outputs": [],
   "source": []
  }
 ],
 "metadata": {
  "kernelspec": {
   "display_name": "Python 3 (ipykernel)",
   "language": "python",
   "name": "python3"
  },
  "language_info": {
   "codemirror_mode": {
    "name": "ipython",
    "version": 3
   },
   "file_extension": ".py",
   "mimetype": "text/x-python",
   "name": "python",
   "nbconvert_exporter": "python",
   "pygments_lexer": "ipython3",
   "version": "3.10.9"
  }
 },
 "nbformat": 4,
 "nbformat_minor": 5
}
