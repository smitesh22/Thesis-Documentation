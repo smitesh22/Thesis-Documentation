{
 "cells": [
  {
   "cell_type": "code",
   "execution_count": 36,
   "id": "904ea158",
   "metadata": {},
   "outputs": [],
   "source": [
    "import pandas as pd\n",
    "import numpy as np\n",
    "from PIL import Image\n",
    "import matplotlib.pyplot as plt\n",
    "from osgeo import osr\n",
    "from osgeo import gdal "
   ]
  },
  {
   "cell_type": "code",
   "execution_count": 37,
   "id": "796ca072",
   "metadata": {},
   "outputs": [],
   "source": [
    "file = r\"/home/smitesh22/Data/DEM/N09E092_wgs84.tif\""
   ]
  },
  {
   "cell_type": "code",
   "execution_count": 38,
   "id": "8413255e",
   "metadata": {},
   "outputs": [],
   "source": [
    "im = Image.open(file)"
   ]
  },
  {
   "cell_type": "code",
   "execution_count": 39,
   "id": "148f1421",
   "metadata": {},
   "outputs": [],
   "source": [
    "im_data = np.asarray(im)"
   ]
  },
  {
   "cell_type": "code",
   "execution_count": 40,
   "id": "c85df074",
   "metadata": {},
   "outputs": [
    {
     "data": {
      "text/plain": [
       "array([[0., 0., 0., ..., 0., 0., 0.],\n",
       "       [0., 0., 0., ..., 0., 0., 0.],\n",
       "       [0., 0., 0., ..., 0., 0., 0.],\n",
       "       ...,\n",
       "       [0., 0., 0., ..., 0., 0., 0.],\n",
       "       [0., 0., 0., ..., 0., 0., 0.],\n",
       "       [0., 0., 0., ..., 0., 0., 0.]], dtype=float32)"
      ]
     },
     "execution_count": 40,
     "metadata": {},
     "output_type": "execute_result"
    }
   ],
   "source": [
    "im_data"
   ]
  },
  {
   "cell_type": "code",
   "execution_count": 41,
   "id": "91f0a253",
   "metadata": {},
   "outputs": [
    {
     "data": {
      "text/plain": [
       "<matplotlib.image.AxesImage at 0x7f74baca77c0>"
      ]
     },
     "execution_count": 41,
     "metadata": {},
     "output_type": "execute_result"
    },
    {
     "data": {
      "image/png": "[encoded data removed]",
      "text/plain": [
       "<Figure size 640x480 with 1 Axes>"
      ]
     },
     "metadata": {},
     "output_type": "display_data"
    }
   ],
   "source": [
    "plt.imshow(im_data)"
   ]
  },
  {
   "cell_type": "code",
   "execution_count": 24,
   "id": "dc322972",
   "metadata": {},
   "outputs": [
    {
     "data": {
      "text/plain": [
       "(3601, 3601)"
      ]
     },
     "execution_count": 24,
     "metadata": {},
     "output_type": "execute_result"
    }
   ],
   "source": [
    "im_data.shape"
   ]
  },
  {
   "cell_type": "code",
   "execution_count": 25,
   "id": "72388fc8",
   "metadata": {},
   "outputs": [],
   "source": [
    "im = gdal.Open(file)"
   ]
  },
  {
   "cell_type": "code",
   "execution_count": 26,
   "id": "37f39262",
   "metadata": {},
   "outputs": [],
   "source": [
    "geotransform = im.GetGeoTransform()"
   ]
  },
  {
   "cell_type": "code",
   "execution_count": 27,
   "id": "e4d2fe78",
   "metadata": {},
   "outputs": [],
   "source": [
    "projection = im.GetProjection()\n"
   ]
  },
  {
   "cell_type": "code",
   "execution_count": 28,
   "id": "b6ddaf33",
   "metadata": {},
   "outputs": [
    {
     "name": "stdout",
     "output_type": "stream",
     "text": [
      "Upper Left:  77.99986111111112 16.000138888888888\n",
      "Lower Right:  79.0001388888889 14.999861111111109\n",
      "Upper Right:  16.000138888888888 79.0001388888889\n",
      "Lower Left:  14.999861111111109 77.99986111111112\n"
     ]
    }
   ],
   "source": [
    "# Extract corner coordinates\n",
    "ulx, xres, xskew, uly, yskew, yres = geotransform\n",
    "lrx = ulx + (im.RasterXSize * xres)\n",
    "lry = uly + (im.RasterYSize * yres)\n",
    "\n",
    "# Create coordinate transformation\n",
    "source_projection = osr.SpatialReference()\n",
    "source_projection.ImportFromWkt(projection)\n",
    "target_projection = osr.SpatialReference()\n",
    "target_projection.ImportFromEPSG(4326)  # Assuming you want WGS84 coordinates\n",
    "\n",
    "transform = osr.CoordinateTransformation(source_projection, target_projection)\n",
    "\n",
    "# Transform corner coordinates to target CRS\n",
    "ul_lon, ul_lat, _ = transform.TransformPoint(ulx, uly)\n",
    "lr_lon, lr_lat, _ = transform.TransformPoint(lrx, lry)\n",
    "\n",
    "# Print the extracted coordinates\n",
    "print(\"Upper Left: \", ul_lon, ul_lat)\n",
    "print(\"Lower Right: \", lr_lon, lr_lat)\n",
    "print(\"Upper Right: \", ul_lat, lr_lon)\n",
    "print(\"Lower Left: \", lr_lat, ul_lon)"
   ]
  },
  {
   "cell_type": "code",
   "execution_count": 29,
   "id": "a3caa2ed",
   "metadata": {},
   "outputs": [],
   "source": [
    "data = pd.read_csv(\"/home/smitesh22/Data/extent.csv\")"
   ]
  },
  {
   "cell_type": "code",
   "execution_count": 30,
   "id": "90ef5827",
   "metadata": {},
   "outputs": [
    {
     "name": "stdout",
     "output_type": "stream",
     "text": [
      "N15E078_wgs84\n"
     ]
    }
   ],
   "source": [
    "import re\n",
    "pattern = r\"\\/([^\\/]+)\\.tif$\"\n",
    "\n",
    "match = re.search(pattern, file)\n",
    "\n",
    "filename = match.group(1)\n",
    "print(filename)\n",
    "\n"
   ]
  },
  {
   "cell_type": "code",
   "execution_count": 31,
   "id": "98ae7b32",
   "metadata": {},
   "outputs": [],
   "source": [
    "new_data = {\n",
    "    \"filename\": filename,\n",
    "    \"upper_lat\": ul_lat,\n",
    "    \"upper_long\": lr_lon,\n",
    "    \"lower_lat\": lr_lat,\n",
    "    \"lower_long\": ul_lon\n",
    "}"
   ]
  },
  {
   "cell_type": "code",
   "execution_count": 32,
   "id": "2b917255",
   "metadata": {},
   "outputs": [],
   "source": [
    "new_row_df = pd.DataFrame([new_data])\n",
    "\n",
    "# Concatenate the existing data with the new row DataFrame\n",
    "data = pd.concat([data, new_row_df], ignore_index=True)\n",
    "\n",
    "# Write the updated DataFrame back to CSV\n",
    "data.to_csv(\"/home/smitesh22/Data/extent.csv\", index=False)"
   ]
  },
  {
   "cell_type": "code",
   "execution_count": 33,
   "id": "ec4e7230",
   "metadata": {},
   "outputs": [
    {
     "data": {
      "text/html": [
       "<div>\n",
       "<style scoped>\n",
       "    .dataframe tbody tr th:only-of-type {\n",
       "        vertical-align: middle;\n",
       "    }\n",
       "\n",
       "    .dataframe tbody tr th {\n",
       "        vertical-align: top;\n",
       "    }\n",
       "\n",
       "    .dataframe thead th {\n",
       "        text-align: right;\n",
       "    }\n",
       "</style>\n",
       "<table border=\"1\" class=\"dataframe\">\n",
       "  <thead>\n",
       "    <tr style=\"text-align: right;\">\n",
       "      <th></th>\n",
       "      <th>filename</th>\n",
       "      <th>upper_lat</th>\n",
       "      <th>upper_long</th>\n",
       "      <th>lower_lat</th>\n",
       "      <th>lower_long</th>\n",
       "    </tr>\n",
       "  </thead>\n",
       "  <tbody>\n",
       "    <tr>\n",
       "      <th>0</th>\n",
       "      <td>N15E073_wgs84</td>\n",
       "      <td>16.000139</td>\n",
       "      <td>72.999861</td>\n",
       "      <td>14.999861</td>\n",
       "      <td>74.000139</td>\n",
       "    </tr>\n",
       "    <tr>\n",
       "      <th>1</th>\n",
       "      <td>N15E073_wgs84</td>\n",
       "      <td>16.000139</td>\n",
       "      <td>72.999861</td>\n",
       "      <td>14.999861</td>\n",
       "      <td>74.000139</td>\n",
       "    </tr>\n",
       "    <tr>\n",
       "      <th>2</th>\n",
       "      <td>N15E073_wgs84</td>\n",
       "      <td>16.000139</td>\n",
       "      <td>74.000139</td>\n",
       "      <td>14.999861</td>\n",
       "      <td>72.999861</td>\n",
       "    </tr>\n",
       "    <tr>\n",
       "      <th>3</th>\n",
       "      <td>N23E069_wgs84</td>\n",
       "      <td>24.000139</td>\n",
       "      <td>70.000139</td>\n",
       "      <td>22.999861</td>\n",
       "      <td>68.999861</td>\n",
       "    </tr>\n",
       "    <tr>\n",
       "      <th>4</th>\n",
       "      <td>N27E071_wgs84</td>\n",
       "      <td>28.000139</td>\n",
       "      <td>72.000139</td>\n",
       "      <td>26.999861</td>\n",
       "      <td>70.999861</td>\n",
       "    </tr>\n",
       "    <tr>\n",
       "      <th>5</th>\n",
       "      <td>N14E077_wgs84</td>\n",
       "      <td>15.000139</td>\n",
       "      <td>78.000139</td>\n",
       "      <td>13.999861</td>\n",
       "      <td>76.999861</td>\n",
       "    </tr>\n",
       "    <tr>\n",
       "      <th>6</th>\n",
       "      <td>N09E078_wgs84</td>\n",
       "      <td>10.000139</td>\n",
       "      <td>79.000139</td>\n",
       "      <td>8.999861</td>\n",
       "      <td>77.999861</td>\n",
       "    </tr>\n",
       "    <tr>\n",
       "      <th>7</th>\n",
       "      <td>N23E071_wgs84</td>\n",
       "      <td>24.000139</td>\n",
       "      <td>72.000139</td>\n",
       "      <td>22.999861</td>\n",
       "      <td>70.999861</td>\n",
       "    </tr>\n",
       "    <tr>\n",
       "      <th>8</th>\n",
       "      <td>N24E081_wgs84</td>\n",
       "      <td>25.000139</td>\n",
       "      <td>82.000139</td>\n",
       "      <td>23.999861</td>\n",
       "      <td>80.999861</td>\n",
       "    </tr>\n",
       "    <tr>\n",
       "      <th>9</th>\n",
       "      <td>N25E071_wgs84</td>\n",
       "      <td>26.000139</td>\n",
       "      <td>72.000139</td>\n",
       "      <td>24.999861</td>\n",
       "      <td>70.999861</td>\n",
       "    </tr>\n",
       "    <tr>\n",
       "      <th>10</th>\n",
       "      <td>N32E077_wgs84</td>\n",
       "      <td>33.000139</td>\n",
       "      <td>78.000139</td>\n",
       "      <td>31.999861</td>\n",
       "      <td>76.999861</td>\n",
       "    </tr>\n",
       "    <tr>\n",
       "      <th>11</th>\n",
       "      <td>N15E078_wgs84</td>\n",
       "      <td>16.000139</td>\n",
       "      <td>79.000139</td>\n",
       "      <td>14.999861</td>\n",
       "      <td>77.999861</td>\n",
       "    </tr>\n",
       "  </tbody>\n",
       "</table>\n",
       "</div>"
      ],
      "text/plain": [
       "         filename  upper_lat  upper_long  lower_lat  lower_long\n",
       "0   N15E073_wgs84  16.000139   72.999861  14.999861   74.000139\n",
       "1   N15E073_wgs84  16.000139   72.999861  14.999861   74.000139\n",
       "2   N15E073_wgs84  16.000139   74.000139  14.999861   72.999861\n",
       "3   N23E069_wgs84  24.000139   70.000139  22.999861   68.999861\n",
       "4   N27E071_wgs84  28.000139   72.000139  26.999861   70.999861\n",
       "5   N14E077_wgs84  15.000139   78.000139  13.999861   76.999861\n",
       "6   N09E078_wgs84  10.000139   79.000139   8.999861   77.999861\n",
       "7   N23E071_wgs84  24.000139   72.000139  22.999861   70.999861\n",
       "8   N24E081_wgs84  25.000139   82.000139  23.999861   80.999861\n",
       "9   N25E071_wgs84  26.000139   72.000139  24.999861   70.999861\n",
       "10  N32E077_wgs84  33.000139   78.000139  31.999861   76.999861\n",
       "11  N15E078_wgs84  16.000139   79.000139  14.999861   77.999861"
      ]
     },
     "execution_count": 33,
     "metadata": {},
     "output_type": "execute_result"
    }
   ],
   "source": [
    "data"
   ]
  },
  {
   "cell_type": "code",
   "execution_count": null,
   "id": "3f20cc2c",
   "metadata": {},
   "outputs": [],
   "source": []
  }
 ],
 "metadata": {
  "kernelspec": {
   "display_name": "Python 3 (ipykernel)",
   "language": "python",
   "name": "python3"
  },
  "language_info": {
   "codemirror_mode": {
    "name": "ipython",
    "version": 3
   },
   "file_extension": ".py",
   "mimetype": "text/x-python",
   "name": "python",
   "nbconvert_exporter": "python",
   "pygments_lexer": "ipython3",
   "version": "3.10.9"
  }
 },
 "nbformat": 4,
 "nbformat_minor": 5
}
