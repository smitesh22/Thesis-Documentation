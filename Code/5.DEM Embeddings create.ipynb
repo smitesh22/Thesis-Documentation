{
  "cells": [
    {
      "cell_type": "code",
      "execution_count": 1,
      "metadata": {
        "id": "cKNxvV7rl8v2",
        "colab": {
          "base_uri": "https://localhost:8080/"
        },
        "outputId": "43ac0bd5-68d8-4fa9-bf52-90ce69941579"
      },
      "outputs": [
        {
          "output_type": "stream",
          "name": "stdout",
          "text": [
            "Mounted at /content/drive\n"
          ]
        }
      ],
      "source": [
        "from google.colab import drive\n",
        "drive.mount('/content/drive')\n",
        "\n",
        "import sys\n",
        "\n",
        "folder_path = \"/content/drive/MyDrive/Thesis/Code/\"\n",
        "sys.path.append(folder_path)"
      ],
      "id": "cKNxvV7rl8v2"
    },
    {
      "cell_type": "code",
      "execution_count": 2,
      "metadata": {
        "id": "02711186"
      },
      "outputs": [],
      "source": [
        "import torch\n",
        "import torch.nn as nn\n",
        "from AutoEncoder import AutoEncoder"
      ],
      "id": "02711186"
    },
    {
      "cell_type": "code",
      "execution_count": 3,
      "metadata": {
        "id": "AYYUYITri5zA"
      },
      "outputs": [],
      "source": [
        "weights = torch.load(r'/content/drive/My Drive/Thesis/Code/DEM_model_weights.pt')"
      ],
      "id": "AYYUYITri5zA"
    },
    {
      "cell_type": "code",
      "execution_count": 4,
      "metadata": {
        "id": "95a60891"
      },
      "outputs": [],
      "source": [
        "model = AutoEncoder()"
      ],
      "id": "95a60891"
    },
    {
      "cell_type": "code",
      "execution_count": 5,
      "metadata": {
        "colab": {
          "base_uri": "https://localhost:8080/"
        },
        "id": "19950a2d",
        "outputId": "9e2c5711-5e77-4cd5-b310-78b689f2f5bd"
      },
      "outputs": [
        {
          "output_type": "execute_result",
          "data": {
            "text/plain": [
              "<All keys matched successfully>"
            ]
          },
          "metadata": {},
          "execution_count": 5
        }
      ],
      "source": [
        "model.load_state_dict(weights)"
      ],
      "id": "19950a2d"
    },
    {
      "cell_type": "code",
      "execution_count": 6,
      "metadata": {
        "id": "dc2f2bd3"
      },
      "outputs": [],
      "source": [
        "load = torch.load(\"/content/drive/My Drive/Data/DEM_slope_tensorv2.pt\")"
      ],
      "id": "dc2f2bd3"
    },
    {
      "cell_type": "code",
      "execution_count": 7,
      "metadata": {
        "id": "95c47778",
        "colab": {
          "base_uri": "https://localhost:8080/"
        },
        "outputId": "aab88797-9a8a-4387-8a99-08eb5ab729df"
      },
      "outputs": [
        {
          "output_type": "stream",
          "name": "stdout",
          "text": [
            "0 dones\n",
            "1 dones\n",
            "2 dones\n",
            "3 dones\n",
            "4 dones\n",
            "5 dones\n",
            "6 dones\n",
            "7 dones\n",
            "8 dones\n",
            "9 dones\n",
            "10 dones\n",
            "11 dones\n",
            "12 dones\n",
            "13 dones\n",
            "14 dones\n",
            "15 dones\n",
            "16 dones\n",
            "17 dones\n",
            "18 dones\n",
            "19 dones\n",
            "20 dones\n",
            "21 dones\n",
            "22 dones\n",
            "23 dones\n",
            "24 dones\n",
            "25 dones\n",
            "26 dones\n",
            "27 dones\n",
            "28 dones\n",
            "29 dones\n",
            "30 dones\n",
            "31 dones\n",
            "32 dones\n",
            "33 dones\n",
            "34 dones\n",
            "35 dones\n",
            "36 dones\n",
            "37 dones\n",
            "38 dones\n",
            "39 dones\n",
            "40 dones\n",
            "41 dones\n",
            "42 dones\n",
            "43 dones\n",
            "44 dones\n",
            "45 dones\n",
            "46 dones\n",
            "47 dones\n",
            "48 dones\n",
            "49 dones\n"
          ]
        }
      ],
      "source": [
        "embedded_dict = {}\n",
        "\n",
        "for i, data in enumerate(load):\n",
        "    embedded_dict[data] = model.encoder(load[data].float())\n",
        "    print(f\"{i} done\")"
      ],
      "id": "95c47778"
    },
    {
      "cell_type": "code",
      "execution_count": 14,
      "metadata": {
        "id": "0b10a899"
      },
      "outputs": [],
      "source": [
        "torch.save(embedded_dict, \"/content/drive/My Drive/Data/DEM_embeddingv2.pt\")"
      ],
      "id": "0b10a899"
    },
    {
      "cell_type": "code",
      "source": [
        "embedded_dict['N09E078_wgs84'].shape"
      ],
      "metadata": {
        "colab": {
          "base_uri": "https://localhost:8080/"
        },
        "id": "RYhQkjKs1yDs",
        "outputId": "85935b51-2be2-490b-9325-2e0cc4709948"
      },
      "id": "RYhQkjKs1yDs",
      "execution_count": 13,
      "outputs": [
        {
          "output_type": "execute_result",
          "data": {
            "text/plain": [
              "torch.Size([512, 28, 28])"
            ]
          },
          "metadata": {},
          "execution_count": 13
        }
      ]
    },
    {
      "cell_type": "code",
      "source": [],
      "metadata": {
        "id": "PPmGWnRP2C4Z"
      },
      "id": "PPmGWnRP2C4Z",
      "execution_count": null,
      "outputs": []
    }
  ],
  "metadata": {
    "colab": {
      "provenance": [],
      "gpuType": "V100",
      "toc_visible": true,
      "machine_shape": "hm"
    },
    "kernelspec": {
      "display_name": "Python 3",
      "name": "python3"
    },
    "language_info": {
      "codemirror_mode": {
        "name": "ipython",
        "version": 3
      },
      "file_extension": ".py",
      "mimetype": "text/x-python",
      "name": "python",
      "nbconvert_exporter": "python",
      "pygments_lexer": "ipython3",
      "version": "3.10.9"
    }
  },
  "nbformat": 4,
  "nbformat_minor": 5
}