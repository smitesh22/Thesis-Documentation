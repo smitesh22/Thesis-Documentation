{
 "cells": [
  {
   "cell_type": "code",
   "execution_count": 1,
   "id": "c3f2dfa5",
   "metadata": {},
   "outputs": [
    {
     "ename": "InvalidLocationError",
     "evalue": "invalid location",
     "output_type": "error",
     "traceback": [
      "\u001b[0;31m---------------------------------------------------------------------------\u001b[0m",
      "\u001b[0;31mInvalidLocationError\u001b[0m                      Traceback (most recent call last)",
      "Cell \u001b[0;32mIn[1], line 30\u001b[0m\n\u001b[1;32m     27\u001b[0m osm_file \u001b[38;5;241m=\u001b[39m \u001b[38;5;124m'\u001b[39m\u001b[38;5;124m/home/smitesh22/Data/india-latest.osm.pbf\u001b[39m\u001b[38;5;124m'\u001b[39m\n\u001b[1;32m     29\u001b[0m handler \u001b[38;5;241m=\u001b[39m OSMHandler(min_lat, min_lon, max_lat, max_lon)\n\u001b[0;32m---> 30\u001b[0m \u001b[43mhandler\u001b[49m\u001b[38;5;241;43m.\u001b[39;49m\u001b[43mapply_file\u001b[49m\u001b[43m(\u001b[49m\u001b[43mosm_file\u001b[49m\u001b[43m)\u001b[49m\n\u001b[1;32m     32\u001b[0m \u001b[38;5;66;03m# Create a GeoDataFrame and plot\u001b[39;00m\n\u001b[1;32m     33\u001b[0m gdf \u001b[38;5;241m=\u001b[39m gpd\u001b[38;5;241m.\u001b[39mGeoDataFrame(\n\u001b[1;32m     34\u001b[0m     geometry\u001b[38;5;241m=\u001b[39mgpd\u001b[38;5;241m.\u001b[39mpoints_from_xy([node[\u001b[38;5;241m0\u001b[39m] \u001b[38;5;28;01mfor\u001b[39;00m node \u001b[38;5;129;01min\u001b[39;00m handler\u001b[38;5;241m.\u001b[39mnodes], [node[\u001b[38;5;241m1\u001b[39m] \u001b[38;5;28;01mfor\u001b[39;00m node \u001b[38;5;129;01min\u001b[39;00m handler\u001b[38;5;241m.\u001b[39mnodes])\n\u001b[1;32m     35\u001b[0m )\n",
      "Cell \u001b[0;32mIn[1], line 20\u001b[0m, in \u001b[0;36mOSMHandler.way\u001b[0;34m(self, w)\u001b[0m\n\u001b[1;32m     19\u001b[0m \u001b[38;5;28;01mdef\u001b[39;00m \u001b[38;5;21mway\u001b[39m(\u001b[38;5;28mself\u001b[39m, w):\n\u001b[0;32m---> 20\u001b[0m     line \u001b[38;5;241m=\u001b[39m [(node\u001b[38;5;241m.\u001b[39mlocation\u001b[38;5;241m.\u001b[39mlon, node\u001b[38;5;241m.\u001b[39mlocation\u001b[38;5;241m.\u001b[39mlat) \u001b[38;5;28;01mfor\u001b[39;00m node \u001b[38;5;129;01min\u001b[39;00m w\u001b[38;5;241m.\u001b[39mnodes \n\u001b[1;32m     21\u001b[0m             \u001b[38;5;28;01mif\u001b[39;00m \u001b[38;5;28mself\u001b[39m\u001b[38;5;241m.\u001b[39mmin_lat \u001b[38;5;241m<\u001b[39m\u001b[38;5;241m=\u001b[39m node\u001b[38;5;241m.\u001b[39mlocation\u001b[38;5;241m.\u001b[39mlat \u001b[38;5;241m<\u001b[39m\u001b[38;5;241m=\u001b[39m \u001b[38;5;28mself\u001b[39m\u001b[38;5;241m.\u001b[39mmax_lat \u001b[38;5;129;01mand\u001b[39;00m \u001b[38;5;28mself\u001b[39m\u001b[38;5;241m.\u001b[39mmin_lon \u001b[38;5;241m<\u001b[39m\u001b[38;5;241m=\u001b[39m node\u001b[38;5;241m.\u001b[39mlocation\u001b[38;5;241m.\u001b[39mlon \u001b[38;5;241m<\u001b[39m\u001b[38;5;241m=\u001b[39m \u001b[38;5;28mself\u001b[39m\u001b[38;5;241m.\u001b[39mmax_lon]\n\u001b[1;32m     22\u001b[0m     \u001b[38;5;28;01mif\u001b[39;00m line:\n\u001b[1;32m     23\u001b[0m         \u001b[38;5;28mself\u001b[39m\u001b[38;5;241m.\u001b[39mlines\u001b[38;5;241m.\u001b[39mappend(line)\n",
      "Cell \u001b[0;32mIn[1], line 21\u001b[0m, in \u001b[0;36m<listcomp>\u001b[0;34m(.0)\u001b[0m\n\u001b[1;32m     19\u001b[0m \u001b[38;5;28;01mdef\u001b[39;00m \u001b[38;5;21mway\u001b[39m(\u001b[38;5;28mself\u001b[39m, w):\n\u001b[1;32m     20\u001b[0m     line \u001b[38;5;241m=\u001b[39m [(node\u001b[38;5;241m.\u001b[39mlocation\u001b[38;5;241m.\u001b[39mlon, node\u001b[38;5;241m.\u001b[39mlocation\u001b[38;5;241m.\u001b[39mlat) \u001b[38;5;28;01mfor\u001b[39;00m node \u001b[38;5;129;01min\u001b[39;00m w\u001b[38;5;241m.\u001b[39mnodes \n\u001b[0;32m---> 21\u001b[0m             \u001b[38;5;28;01mif\u001b[39;00m \u001b[38;5;28mself\u001b[39m\u001b[38;5;241m.\u001b[39mmin_lat \u001b[38;5;241m<\u001b[39m\u001b[38;5;241m=\u001b[39m \u001b[43mnode\u001b[49m\u001b[38;5;241;43m.\u001b[39;49m\u001b[43mlocation\u001b[49m\u001b[38;5;241;43m.\u001b[39;49m\u001b[43mlat\u001b[49m \u001b[38;5;241m<\u001b[39m\u001b[38;5;241m=\u001b[39m \u001b[38;5;28mself\u001b[39m\u001b[38;5;241m.\u001b[39mmax_lat \u001b[38;5;129;01mand\u001b[39;00m \u001b[38;5;28mself\u001b[39m\u001b[38;5;241m.\u001b[39mmin_lon \u001b[38;5;241m<\u001b[39m\u001b[38;5;241m=\u001b[39m node\u001b[38;5;241m.\u001b[39mlocation\u001b[38;5;241m.\u001b[39mlon \u001b[38;5;241m<\u001b[39m\u001b[38;5;241m=\u001b[39m \u001b[38;5;28mself\u001b[39m\u001b[38;5;241m.\u001b[39mmax_lon]\n\u001b[1;32m     22\u001b[0m     \u001b[38;5;28;01mif\u001b[39;00m line:\n\u001b[1;32m     23\u001b[0m         \u001b[38;5;28mself\u001b[39m\u001b[38;5;241m.\u001b[39mlines\u001b[38;5;241m.\u001b[39mappend(line)\n",
      "\u001b[0;31mInvalidLocationError\u001b[0m: invalid location"
     ]
    }
   ],
   "source": [
    "import osmium\n",
    "import geopandas as gpd\n",
    "import matplotlib.pyplot as plt\n",
    "\n",
    "class OSMHandler(osmium.SimpleHandler):\n",
    "    def __init__(self, min_lat, min_lon, max_lat, max_lon):\n",
    "        osmium.SimpleHandler.__init__(self)\n",
    "        self.min_lat = min_lat\n",
    "        self.min_lon = min_lon\n",
    "        self.max_lat = max_lat\n",
    "        self.max_lon = max_lon\n",
    "        self.nodes = []\n",
    "        self.lines = []\n",
    "\n",
    "    def node(self, n):\n",
    "        if self.min_lat <= n.location.lat <= self.max_lat and self.min_lon <= n.location.lon <= self.max_lon:\n",
    "            self.nodes.append((n.location.lon, n.location.lat))\n",
    "\n",
    "    def way(self, w):\n",
    "        line = [(node.location.lon, node.location.lat) for node in w.nodes \n",
    "                if self.min_lat <= node.location.lat <= self.max_lat and self.min_lon <= node.location.lon <= self.max_lon]\n",
    "        if line:\n",
    "            self.lines.append(line)\n",
    "\n",
    "\n"
   ]
  },
  {
   "cell_type": "code",
   "execution_count": 2,
   "id": "6b10b599",
   "metadata": {},
   "outputs": [
    {
     "ename": "InvalidLocationError",
     "evalue": "invalid location",
     "output_type": "error",
     "traceback": [
      "\u001b[0;31m---------------------------------------------------------------------------\u001b[0m",
      "\u001b[0;31mInvalidLocationError\u001b[0m                      Traceback (most recent call last)",
      "Cell \u001b[0;32mIn[2], line 7\u001b[0m\n\u001b[1;32m      4\u001b[0m osm_file \u001b[38;5;241m=\u001b[39m \u001b[38;5;124m'\u001b[39m\u001b[38;5;124m/home/smitesh22/Data/india-latest.osm.pbf\u001b[39m\u001b[38;5;124m'\u001b[39m\n\u001b[1;32m      6\u001b[0m handler \u001b[38;5;241m=\u001b[39m OSMHandler(min_lat, min_lon, max_lat, max_lon)\n\u001b[0;32m----> 7\u001b[0m \u001b[43mhandler\u001b[49m\u001b[38;5;241;43m.\u001b[39;49m\u001b[43mapply_file\u001b[49m\u001b[43m(\u001b[49m\u001b[43mosm_file\u001b[49m\u001b[43m)\u001b[49m\n\u001b[1;32m      9\u001b[0m \u001b[38;5;66;03m# Create a GeoDataFrame and plot\u001b[39;00m\n\u001b[1;32m     10\u001b[0m gdf \u001b[38;5;241m=\u001b[39m gpd\u001b[38;5;241m.\u001b[39mGeoDataFrame(\n\u001b[1;32m     11\u001b[0m     geometry\u001b[38;5;241m=\u001b[39mgpd\u001b[38;5;241m.\u001b[39mpoints_from_xy([node[\u001b[38;5;241m0\u001b[39m] \u001b[38;5;28;01mfor\u001b[39;00m node \u001b[38;5;129;01min\u001b[39;00m handler\u001b[38;5;241m.\u001b[39mnodes], [node[\u001b[38;5;241m1\u001b[39m] \u001b[38;5;28;01mfor\u001b[39;00m node \u001b[38;5;129;01min\u001b[39;00m handler\u001b[38;5;241m.\u001b[39mnodes])\n\u001b[1;32m     12\u001b[0m )\n",
      "Cell \u001b[0;32mIn[1], line 20\u001b[0m, in \u001b[0;36mOSMHandler.way\u001b[0;34m(self, w)\u001b[0m\n\u001b[1;32m     19\u001b[0m \u001b[38;5;28;01mdef\u001b[39;00m \u001b[38;5;21mway\u001b[39m(\u001b[38;5;28mself\u001b[39m, w):\n\u001b[0;32m---> 20\u001b[0m     line \u001b[38;5;241m=\u001b[39m [(node\u001b[38;5;241m.\u001b[39mlocation\u001b[38;5;241m.\u001b[39mlon, node\u001b[38;5;241m.\u001b[39mlocation\u001b[38;5;241m.\u001b[39mlat) \u001b[38;5;28;01mfor\u001b[39;00m node \u001b[38;5;129;01min\u001b[39;00m w\u001b[38;5;241m.\u001b[39mnodes \n\u001b[1;32m     21\u001b[0m             \u001b[38;5;28;01mif\u001b[39;00m \u001b[38;5;28mself\u001b[39m\u001b[38;5;241m.\u001b[39mmin_lat \u001b[38;5;241m<\u001b[39m\u001b[38;5;241m=\u001b[39m node\u001b[38;5;241m.\u001b[39mlocation\u001b[38;5;241m.\u001b[39mlat \u001b[38;5;241m<\u001b[39m\u001b[38;5;241m=\u001b[39m \u001b[38;5;28mself\u001b[39m\u001b[38;5;241m.\u001b[39mmax_lat \u001b[38;5;129;01mand\u001b[39;00m \u001b[38;5;28mself\u001b[39m\u001b[38;5;241m.\u001b[39mmin_lon \u001b[38;5;241m<\u001b[39m\u001b[38;5;241m=\u001b[39m node\u001b[38;5;241m.\u001b[39mlocation\u001b[38;5;241m.\u001b[39mlon \u001b[38;5;241m<\u001b[39m\u001b[38;5;241m=\u001b[39m \u001b[38;5;28mself\u001b[39m\u001b[38;5;241m.\u001b[39mmax_lon]\n\u001b[1;32m     22\u001b[0m     \u001b[38;5;28;01mif\u001b[39;00m line:\n\u001b[1;32m     23\u001b[0m         \u001b[38;5;28mself\u001b[39m\u001b[38;5;241m.\u001b[39mlines\u001b[38;5;241m.\u001b[39mappend(line)\n",
      "Cell \u001b[0;32mIn[1], line 21\u001b[0m, in \u001b[0;36m<listcomp>\u001b[0;34m(.0)\u001b[0m\n\u001b[1;32m     19\u001b[0m \u001b[38;5;28;01mdef\u001b[39;00m \u001b[38;5;21mway\u001b[39m(\u001b[38;5;28mself\u001b[39m, w):\n\u001b[1;32m     20\u001b[0m     line \u001b[38;5;241m=\u001b[39m [(node\u001b[38;5;241m.\u001b[39mlocation\u001b[38;5;241m.\u001b[39mlon, node\u001b[38;5;241m.\u001b[39mlocation\u001b[38;5;241m.\u001b[39mlat) \u001b[38;5;28;01mfor\u001b[39;00m node \u001b[38;5;129;01min\u001b[39;00m w\u001b[38;5;241m.\u001b[39mnodes \n\u001b[0;32m---> 21\u001b[0m             \u001b[38;5;28;01mif\u001b[39;00m \u001b[38;5;28mself\u001b[39m\u001b[38;5;241m.\u001b[39mmin_lat \u001b[38;5;241m<\u001b[39m\u001b[38;5;241m=\u001b[39m \u001b[43mnode\u001b[49m\u001b[38;5;241;43m.\u001b[39;49m\u001b[43mlocation\u001b[49m\u001b[38;5;241;43m.\u001b[39;49m\u001b[43mlat\u001b[49m \u001b[38;5;241m<\u001b[39m\u001b[38;5;241m=\u001b[39m \u001b[38;5;28mself\u001b[39m\u001b[38;5;241m.\u001b[39mmax_lat \u001b[38;5;129;01mand\u001b[39;00m \u001b[38;5;28mself\u001b[39m\u001b[38;5;241m.\u001b[39mmin_lon \u001b[38;5;241m<\u001b[39m\u001b[38;5;241m=\u001b[39m node\u001b[38;5;241m.\u001b[39mlocation\u001b[38;5;241m.\u001b[39mlon \u001b[38;5;241m<\u001b[39m\u001b[38;5;241m=\u001b[39m \u001b[38;5;28mself\u001b[39m\u001b[38;5;241m.\u001b[39mmax_lon]\n\u001b[1;32m     22\u001b[0m     \u001b[38;5;28;01mif\u001b[39;00m line:\n\u001b[1;32m     23\u001b[0m         \u001b[38;5;28mself\u001b[39m\u001b[38;5;241m.\u001b[39mlines\u001b[38;5;241m.\u001b[39mappend(line)\n",
      "\u001b[0;31mInvalidLocationError\u001b[0m: invalid location"
     ]
    }
   ],
   "source": [
    "# New Delhi, India bounding box coordinates\n",
    "min_lat, min_lon = 28.4042, 77.0274  # Lower right coordinates\n",
    "max_lat, max_lon = 28.8836, 77.3484  # Upper left coordinates\n",
    "osm_file = '/home/smitesh22/Data/india-latest.osm.pbf'\n",
    "\n",
    "handler = OSMHandler(min_lat, min_lon, max_lat, max_lon)\n",
    "handler.apply_file(osm_file)\n",
    "\n",
    "# Create a GeoDataFrame and plot\n",
    "gdf = gpd.GeoDataFrame(\n",
    "    geometry=gpd.points_from_xy([node[0] for node in handler.nodes], [node[1] for node in handler.nodes])\n",
    ")\n",
    "gdf.plot(marker='o', color='blue', markersize=5)\n",
    "\n",
    "for line in handler.lines:\n",
    "    plt.plot([p[0] for p in line], [p[1] for p in line], color='black')\n",
    "\n",
    "plt.show()\n"
   ]
  },
  {
   "cell_type": "code",
   "execution_count": null,
   "id": "29848a7d",
   "metadata": {},
   "outputs": [],
   "source": []
  }
 ],
 "metadata": {
  "kernelspec": {
   "display_name": "Python 3 (ipykernel)",
   "language": "python",
   "name": "python3"
  },
  "language_info": {
   "codemirror_mode": {
    "name": "ipython",
    "version": 3
   },
   "file_extension": ".py",
   "mimetype": "text/x-python",
   "name": "python",
   "nbconvert_exporter": "python",
   "pygments_lexer": "ipython3",
   "version": "3.10.9"
  }
 },
 "nbformat": 4,
 "nbformat_minor": 5
}
