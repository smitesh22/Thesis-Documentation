{
  "cells": [
    {
      "cell_type": "code",
      "execution_count": 1,
      "id": "3cea1e55",
      "metadata": {
        "id": "3cea1e55"
      },
      "outputs": [],
      "source": [
        "import torch\n",
        "import torch.nn as nn\n",
        "import torch.optim as optim\n",
        "from tqdm import tqdm\n",
        "from torch.utils.data import Dataset, DataLoader, random_split"
      ]
    },
    {
      "cell_type": "code",
      "source": [
        "from google.colab import drive\n",
        "drive.mount('/content/drive')"
      ],
      "metadata": {
        "colab": {
          "base_uri": "https://localhost:8080/"
        },
        "id": "GrMtSRcBjLug",
        "outputId": "ccf8f651-f26b-455e-d04e-a06903b31d08"
      },
      "id": "GrMtSRcBjLug",
      "execution_count": 2,
      "outputs": [
        {
          "output_type": "stream",
          "name": "stdout",
          "text": [
            "Mounted at /content/drive\n"
          ]
        }
      ]
    },
    {
      "cell_type": "code",
      "execution_count": 3,
      "id": "e62ce4c3",
      "metadata": {
        "id": "e62ce4c3"
      },
      "outputs": [],
      "source": [
        "from torch.nn.modules.conv import ConvTranspose2d\n",
        "from torch.nn.modules import padding\n",
        "class AutoEncoder(nn.Module):\n",
        "    def __init__(self):\n",
        "\n",
        "        super().__init__()\n",
        "\n",
        "        self.encoder = nn.Sequential( # input : 3601*3601\n",
        "            nn.Conv2d(1, 32, kernel_size=(15, 15), stride=4),\n",
        "            nn.ReLU(),\n",
        "            nn.MaxPool2d(kernel_size = (2, 2), stride=2),\n",
        "            nn.Conv2d(32, 64, kernel_size=(8, 8), stride=4),\n",
        "            nn.ReLU(),\n",
        "            nn.MaxPool2d(kernel_size = (2, 2), stride=2),\n",
        "            nn.Conv2d(64, 128, kernel_size=(4, 4), stride=2),\n",
        "            nn.ReLU(),\n",
        "            nn.MaxPool2d(kernel_size = (2, 2), stride=2),\n",
        "        )\n",
        "\n",
        "        self.decoder = nn.Sequential(\n",
        "            nn.Upsample(scale_factor=2, mode=\"bilinear\"),\n",
        "            nn.ConvTranspose2d(128, 64, kernel_size=(4, 4), stride=2, output_padding=1),\n",
        "            nn.ReLU(),\n",
        "            nn.Upsample(size=(111, 111), mode=\"bilinear\"),\n",
        "            nn.ConvTranspose2d(64, 32, kernel_size=(8, 8), stride=4, output_padding=0),\n",
        "            nn.ReLU(),\n",
        "            nn.Upsample(size=(897, 897), mode=\"bilinear\"),\n",
        "            nn.ConvTranspose2d(32, 1, kernel_size=(15, 15), stride=4, output_padding=2),\n",
        "            nn.Sigmoid(),\n",
        "        )\n",
        "\n",
        "    def forward(self, x):\n",
        "        x = self.encoder(x)\n",
        "        x = self.decoder(x)\n",
        "        return x\n",
        "\n",
        "    def dimensions(self, x):\n",
        "        print(f\"----------ENCODER----------\")\n",
        "        print(f\"Input shape : {x.shape[1], x.shape[2], x.shape[3]}\")\n",
        "        x = self.encoder[0](x)\n",
        "        print(f\"After 1st Conv2d: {x.shape[1], x.shape[2], x.shape[3]}\")\n",
        "        x = self.encoder[1](x)\n",
        "        print(f\"After 1st Maxpooling: {x.shape[1], x.shape[2], x.shape[3]}\")\n",
        "        x = self.encoder[2](x)\n",
        "        print(f\"After 1st ReLU: {x.shape[1], x.shape[2], x.shape[3]}\")\n",
        "        x = self.encoder[3](x)\n",
        "        print(f\"After 2nd Conv2d: {x.shape[1], x.shape[2], x.shape[3]}\")\n",
        "        x = self.encoder[4](x)\n",
        "        print(f\"After 2nd Maxpooling: {x.shape[1], x.shape[2], x.shape[3]}\")\n",
        "        x = self.encoder[5](x)\n",
        "        print(f\"After 2nd ReLU: {x.shape[1], x.shape[2], x.shape[3]}\")\n",
        "        x = self.encoder[6](x)\n",
        "        print(f\"After 3rd Conv2d: {x.shape[1], x.shape[2], x.shape[3]}\")\n",
        "        x = self.encoder[7](x)\n",
        "        print(f\"After 3rd Maxpooling: {x.shape[1], x.shape[2], x.shape[3]}\")\n",
        "        x = self.encoder[8](x)\n",
        "        print(f\"After 3rd ReLU: {x.shape[1], x.shape[2], x.shape[3]}\")\n",
        "\n",
        "\n",
        "        print(\"---------DECODER------------\")\n",
        "        x= self.decoder[0](x)\n",
        "        print(f\"After 1st Upsample: {x.shape[1], x.shape[2], x.shape[3]}\")\n",
        "        x = self.decoder[1](x)\n",
        "        print(f\"After 1st Transpose: {x.shape[1], x.shape[2], x.shape[3]}\")\n",
        "        x = self.decoder[2](x)\n",
        "        print(f\"After 1st ReLU: {x.shape[1], x.shape[2], x.shape[3]}\")\n",
        "        x = self.decoder[3](x)\n",
        "        print(f\"After 2nd Upsample: {x.shape[1], x.shape[2], x.shape[3]}\")\n",
        "        x = self.decoder[4](x)\n",
        "        print(f\"After 2nd Transpose: {x.shape[1], x.shape[2], x.shape[3]}\")\n",
        "        x = self.decoder[5](x)\n",
        "        print(f\"After 2nd ReLU: {x.shape[1], x.shape[2], x.shape[3]}\")\n",
        "        x = self.decoder[6](x)\n",
        "        print(f\"After 3rd Upsamle: {x.shape[1], x.shape[2], x.shape[3]}\")\n",
        "        x = self.decoder[7](x)\n",
        "        print(f\"After 3rd Transpose: {x.shape[1], x.shape[2], x.shape[3]}\")\n",
        "        x = self.decoder[8](x)\n",
        "        print(f\"Decoder Sigmoid : {x.shape[1], x.shape[2], x.shape[3]}\")"
      ]
    },
    {
      "cell_type": "code",
      "execution_count": 4,
      "id": "1b07191f",
      "metadata": {
        "id": "1b07191f"
      },
      "outputs": [],
      "source": [
        "load = torch.load(r'/content/drive/My Drive/Data/DEM_slope_tensorv2.pt')"
      ]
    },
    {
      "cell_type": "code",
      "execution_count": 5,
      "id": "04c43514",
      "metadata": {
        "id": "04c43514"
      },
      "outputs": [],
      "source": [
        "class DEM_Dataset(Dataset):\n",
        "    def __init__(self, data):\n",
        "        self.filename = list(data.keys())\n",
        "        self.data = data\n",
        "\n",
        "    def __len__(self):\n",
        "        return len(self.filename)\n",
        "\n",
        "    def __getitem__(self, index):\n",
        "        filename = self.filename[index]\n",
        "        data = self.data[filename]\n",
        "        return data"
      ]
    },
    {
      "cell_type": "code",
      "execution_count": 6,
      "id": "3b6001fc",
      "metadata": {
        "id": "3b6001fc"
      },
      "outputs": [],
      "source": [
        "model = AutoEncoder()"
      ]
    },
    {
      "cell_type": "code",
      "execution_count": 7,
      "id": "d4fbef1a",
      "metadata": {
        "id": "d4fbef1a",
        "outputId": "a439dfeb-f1ae-42be-aa48-48f092435934",
        "colab": {
          "base_uri": "https://localhost:8080/"
        }
      },
      "outputs": [
        {
          "output_type": "stream",
          "name": "stdout",
          "text": [
            "----------ENCODER----------\n",
            "Input shape : (1, 3601, 3601)\n",
            "After 1st Conv2d: (32, 897, 897)\n",
            "After 1st Maxpooling: (32, 897, 897)\n",
            "After 1st ReLU: (32, 448, 448)\n",
            "After 2nd Conv2d: (64, 111, 111)\n",
            "After 2nd Maxpooling: (64, 111, 111)\n",
            "After 2nd ReLU: (64, 55, 55)\n",
            "After 3rd Conv2d: (128, 26, 26)\n",
            "After 3rd Maxpooling: (128, 26, 26)\n",
            "After 3rd ReLU: (128, 13, 13)\n",
            "---------DECODER------------\n",
            "After 1st Upsample: (128, 26, 26)\n",
            "After 1st Transpose: (64, 55, 55)\n",
            "After 1st ReLU: (64, 55, 55)\n",
            "After 2nd Upsample: (64, 111, 111)\n",
            "After 2nd Transpose: (32, 448, 448)\n",
            "After 2nd ReLU: (32, 448, 448)\n",
            "After 3rd Upsamle: (32, 897, 897)\n",
            "After 3rd Transpose: (1, 3601, 3601)\n",
            "Decoder Sigmoid : (1, 3601, 3601)\n"
          ]
        }
      ],
      "source": [
        "dummy_input = torch.randn(5, 1, 3601, 3601)\n",
        "model.dimensions(dummy_input)"
      ]
    },
    {
      "cell_type": "code",
      "execution_count": 8,
      "id": "e81dcacd",
      "metadata": {
        "id": "e81dcacd"
      },
      "outputs": [],
      "source": [
        "data = DEM_Dataset(load)\n",
        "batch_size = 4\n",
        "train_size = 35\n",
        "test_size = 7\n",
        "val_size = 8\n",
        "\n",
        "train_dataset, test_dataset, val_dataset = random_split(data, [train_size, test_size, val_size])\n",
        "#data_loader = DataLoader(data, batch_size=5, shuffle=True)\n",
        "\n",
        "train_loader = DataLoader(train_dataset, batch_size=batch_size, shuffle=True)\n",
        "test_loader = DataLoader(test_dataset, batch_size=batch_size, shuffle=False)\n",
        "val_loader = DataLoader(val_dataset, batch_size=batch_size, shuffle=False)"
      ]
    },
    {
      "cell_type": "code",
      "source": [
        "data[0].shape"
      ],
      "metadata": {
        "colab": {
          "base_uri": "https://localhost:8080/"
        },
        "id": "t_ZoqQ_B9gdP",
        "outputId": "c7049ce4-cd9c-45e1-99f5-4f46ec38daf1"
      },
      "id": "t_ZoqQ_B9gdP",
      "execution_count": 21,
      "outputs": [
        {
          "output_type": "execute_result",
          "data": {
            "text/plain": [
              "torch.Size([3601, 3601])"
            ]
          },
          "metadata": {},
          "execution_count": 21
        }
      ]
    },
    {
      "cell_type": "code",
      "execution_count": null,
      "id": "18b96634",
      "metadata": {
        "id": "18b96634",
        "outputId": "2f1a57b6-5d16-4148-d59f-093dbbe016f5",
        "colab": {
          "base_uri": "https://localhost:8080/"
        }
      },
      "outputs": [
        {
          "output_type": "stream",
          "name": "stderr",
          "text": [
            "\rEpochs:   0%|          | 0/100 [00:00<?, ?it/s]/usr/local/lib/python3.10/dist-packages/torch/nn/modules/loss.py:536: UserWarning: Using a target size (torch.Size([4, 3601, 3601])) that is different to the input size (torch.Size([4, 1, 3601, 3601])). This will likely lead to incorrect results due to broadcasting. Please ensure they have the same size.\n",
            "  return F.mse_loss(input, target, reduction=self.reduction)\n",
            "/usr/local/lib/python3.10/dist-packages/torch/nn/modules/loss.py:536: UserWarning: Using a target size (torch.Size([3, 3601, 3601])) that is different to the input size (torch.Size([3, 1, 3601, 3601])). This will likely lead to incorrect results due to broadcasting. Please ensure they have the same size.\n",
            "  return F.mse_loss(input, target, reduction=self.reduction)\n",
            "Epochs:   1%|          | 1/100 [00:03<05:22,  3.26s/it]"
          ]
        },
        {
          "output_type": "stream",
          "name": "stdout",
          "text": [
            "Epoch 1/100, Loss: 0.15380047261714935, Val Loss: 0.15965285152196884\n"
          ]
        },
        {
          "output_type": "stream",
          "name": "stderr",
          "text": [
            "\rEpochs:   2%|▏         | 2/100 [00:06<04:51,  2.98s/it]"
          ]
        },
        {
          "output_type": "stream",
          "name": "stdout",
          "text": [
            "Epoch 2/100, Loss: 0.14710751175880432, Val Loss: 0.1596444770693779\n"
          ]
        },
        {
          "output_type": "stream",
          "name": "stderr",
          "text": [
            "\rEpochs:   3%|▎         | 3/100 [00:08<04:39,  2.88s/it]"
          ]
        },
        {
          "output_type": "stream",
          "name": "stdout",
          "text": [
            "Epoch 3/100, Loss: 0.1488022357225418, Val Loss: 0.15963605046272278\n"
          ]
        },
        {
          "output_type": "stream",
          "name": "stderr",
          "text": [
            "\rEpochs:   4%|▍         | 4/100 [00:11<04:30,  2.82s/it]"
          ]
        },
        {
          "output_type": "stream",
          "name": "stdout",
          "text": [
            "Epoch 4/100, Loss: 0.16599489748477936, Val Loss: 0.15962759405374527\n"
          ]
        },
        {
          "output_type": "stream",
          "name": "stderr",
          "text": [
            "\rEpochs:   5%|▌         | 5/100 [00:14<04:35,  2.90s/it]"
          ]
        },
        {
          "output_type": "stream",
          "name": "stdout",
          "text": [
            "Epoch 5/100, Loss: 0.19061537086963654, Val Loss: 0.1596190333366394\n"
          ]
        },
        {
          "output_type": "stream",
          "name": "stderr",
          "text": [
            "\rEpochs:   6%|▌         | 6/100 [00:17<04:34,  2.92s/it]"
          ]
        },
        {
          "output_type": "stream",
          "name": "stdout",
          "text": [
            "Epoch 6/100, Loss: 0.16924047470092773, Val Loss: 0.15961050242185593\n"
          ]
        },
        {
          "output_type": "stream",
          "name": "stderr",
          "text": [
            "\rEpochs:   7%|▋         | 7/100 [00:20<04:23,  2.84s/it]"
          ]
        },
        {
          "output_type": "stream",
          "name": "stdout",
          "text": [
            "Epoch 7/100, Loss: 0.1916731745004654, Val Loss: 0.1596018671989441\n"
          ]
        },
        {
          "output_type": "stream",
          "name": "stderr",
          "text": [
            "\rEpochs:   8%|▊         | 8/100 [00:22<04:16,  2.79s/it]"
          ]
        },
        {
          "output_type": "stream",
          "name": "stdout",
          "text": [
            "Epoch 8/100, Loss: 0.15670347213745117, Val Loss: 0.1595931500196457\n"
          ]
        },
        {
          "output_type": "stream",
          "name": "stderr",
          "text": [
            "\rEpochs:   9%|▉         | 9/100 [00:25<04:12,  2.78s/it]"
          ]
        },
        {
          "output_type": "stream",
          "name": "stdout",
          "text": [
            "Epoch 9/100, Loss: 0.1318262368440628, Val Loss: 0.15958431363105774\n"
          ]
        },
        {
          "output_type": "stream",
          "name": "stderr",
          "text": [
            "\rEpochs:  10%|█         | 10/100 [00:28<04:23,  2.93s/it]"
          ]
        },
        {
          "output_type": "stream",
          "name": "stdout",
          "text": [
            "Epoch 10/100, Loss: 0.18712468445301056, Val Loss: 0.15957561880350113\n"
          ]
        },
        {
          "output_type": "stream",
          "name": "stderr",
          "text": [
            "\rEpochs:  11%|█         | 11/100 [00:31<04:15,  2.87s/it]"
          ]
        },
        {
          "output_type": "stream",
          "name": "stdout",
          "text": [
            "Epoch 11/100, Loss: 0.2003955841064453, Val Loss: 0.15956683456897736\n"
          ]
        },
        {
          "output_type": "stream",
          "name": "stderr",
          "text": [
            "\rEpochs:  12%|█▏        | 12/100 [00:34<04:08,  2.82s/it]"
          ]
        },
        {
          "output_type": "stream",
          "name": "stdout",
          "text": [
            "Epoch 12/100, Loss: 0.11886166036128998, Val Loss: 0.15955781936645508\n"
          ]
        },
        {
          "output_type": "stream",
          "name": "stderr",
          "text": [
            "\rEpochs:  13%|█▎        | 13/100 [00:37<04:04,  2.81s/it]"
          ]
        },
        {
          "output_type": "stream",
          "name": "stdout",
          "text": [
            "Epoch 13/100, Loss: 0.22078029811382294, Val Loss: 0.15954875200986862\n"
          ]
        },
        {
          "output_type": "stream",
          "name": "stderr",
          "text": [
            "\rEpochs:  14%|█▍        | 14/100 [00:40<04:10,  2.91s/it]"
          ]
        },
        {
          "output_type": "stream",
          "name": "stdout",
          "text": [
            "Epoch 14/100, Loss: 0.2137596309185028, Val Loss: 0.15953954309225082\n"
          ]
        },
        {
          "output_type": "stream",
          "name": "stderr",
          "text": [
            "\rEpochs:  15%|█▌        | 15/100 [00:43<04:03,  2.86s/it]"
          ]
        },
        {
          "output_type": "stream",
          "name": "stdout",
          "text": [
            "Epoch 15/100, Loss: 0.17139224708080292, Val Loss: 0.15953011065721512\n"
          ]
        },
        {
          "output_type": "stream",
          "name": "stderr",
          "text": [
            "\rEpochs:  16%|█▌        | 16/100 [00:45<03:56,  2.82s/it]"
          ]
        },
        {
          "output_type": "stream",
          "name": "stdout",
          "text": [
            "Epoch 16/100, Loss: 0.15798790752887726, Val Loss: 0.15952026844024658\n"
          ]
        },
        {
          "output_type": "stream",
          "name": "stderr",
          "text": [
            "\rEpochs:  17%|█▋        | 17/100 [00:48<03:51,  2.79s/it]"
          ]
        },
        {
          "output_type": "stream",
          "name": "stdout",
          "text": [
            "Epoch 17/100, Loss: 0.14303363859653473, Val Loss: 0.15951012820005417\n"
          ]
        },
        {
          "output_type": "stream",
          "name": "stderr",
          "text": [
            "\rEpochs:  18%|█▊        | 18/100 [00:51<03:47,  2.77s/it]"
          ]
        },
        {
          "output_type": "stream",
          "name": "stdout",
          "text": [
            "Epoch 18/100, Loss: 0.15056994557380676, Val Loss: 0.15949992835521698\n"
          ]
        },
        {
          "output_type": "stream",
          "name": "stderr",
          "text": [
            "\rEpochs:  19%|█▉        | 19/100 [00:54<03:52,  2.87s/it]"
          ]
        },
        {
          "output_type": "stream",
          "name": "stdout",
          "text": [
            "Epoch 19/100, Loss: 0.14417698979377747, Val Loss: 0.1594894453883171\n"
          ]
        },
        {
          "output_type": "stream",
          "name": "stderr",
          "text": [
            "\rEpochs:  20%|██        | 20/100 [00:56<03:44,  2.80s/it]"
          ]
        },
        {
          "output_type": "stream",
          "name": "stdout",
          "text": [
            "Epoch 20/100, Loss: 0.20779627561569214, Val Loss: 0.15947868674993515\n"
          ]
        },
        {
          "output_type": "stream",
          "name": "stderr",
          "text": [
            "\rEpochs:  21%|██        | 21/100 [00:59<03:40,  2.79s/it]"
          ]
        },
        {
          "output_type": "stream",
          "name": "stdout",
          "text": [
            "Epoch 21/100, Loss: 0.18031452596187592, Val Loss: 0.15946760773658752\n"
          ]
        },
        {
          "output_type": "stream",
          "name": "stderr",
          "text": [
            "\rEpochs:  22%|██▏       | 22/100 [01:02<03:36,  2.77s/it]"
          ]
        },
        {
          "output_type": "stream",
          "name": "stdout",
          "text": [
            "Epoch 22/100, Loss: 0.20565544068813324, Val Loss: 0.1594560369849205\n"
          ]
        },
        {
          "output_type": "stream",
          "name": "stderr",
          "text": [
            "\rEpochs:  23%|██▎       | 23/100 [01:05<03:38,  2.84s/it]"
          ]
        },
        {
          "output_type": "stream",
          "name": "stdout",
          "text": [
            "Epoch 23/100, Loss: 0.184636652469635, Val Loss: 0.15944425761699677\n"
          ]
        },
        {
          "output_type": "stream",
          "name": "stderr",
          "text": [
            "\rEpochs:  24%|██▍       | 24/100 [01:08<03:37,  2.87s/it]"
          ]
        },
        {
          "output_type": "stream",
          "name": "stdout",
          "text": [
            "Epoch 24/100, Loss: 0.2025415003299713, Val Loss: 0.15943200141191483\n"
          ]
        },
        {
          "output_type": "stream",
          "name": "stderr",
          "text": [
            "\rEpochs:  25%|██▌       | 25/100 [01:11<03:32,  2.83s/it]"
          ]
        },
        {
          "output_type": "stream",
          "name": "stdout",
          "text": [
            "Epoch 25/100, Loss: 0.16068148612976074, Val Loss: 0.15941915661096573\n"
          ]
        },
        {
          "output_type": "stream",
          "name": "stderr",
          "text": [
            "\rEpochs:  26%|██▌       | 26/100 [01:13<03:27,  2.81s/it]"
          ]
        },
        {
          "output_type": "stream",
          "name": "stdout",
          "text": [
            "Epoch 26/100, Loss: 0.10804686695337296, Val Loss: 0.15940572321414948\n"
          ]
        },
        {
          "output_type": "stream",
          "name": "stderr",
          "text": [
            "\rEpochs:  27%|██▋       | 27/100 [01:16<03:24,  2.80s/it]"
          ]
        },
        {
          "output_type": "stream",
          "name": "stdout",
          "text": [
            "Epoch 27/100, Loss: 0.1926131546497345, Val Loss: 0.15939172357320786\n"
          ]
        },
        {
          "output_type": "stream",
          "name": "stderr",
          "text": [
            "\rEpochs:  28%|██▊       | 28/100 [01:19<03:31,  2.94s/it]"
          ]
        },
        {
          "output_type": "stream",
          "name": "stdout",
          "text": [
            "Epoch 28/100, Loss: 0.1653454303741455, Val Loss: 0.15937722474336624\n"
          ]
        },
        {
          "output_type": "stream",
          "name": "stderr",
          "text": [
            "\rEpochs:  29%|██▉       | 29/100 [01:22<03:23,  2.87s/it]"
          ]
        },
        {
          "output_type": "stream",
          "name": "stdout",
          "text": [
            "Epoch 29/100, Loss: 0.23314303159713745, Val Loss: 0.1593618392944336\n"
          ]
        },
        {
          "output_type": "stream",
          "name": "stderr",
          "text": [
            "\rEpochs:  30%|███       | 30/100 [01:25<03:17,  2.83s/it]"
          ]
        },
        {
          "output_type": "stream",
          "name": "stdout",
          "text": [
            "Epoch 30/100, Loss: 0.058968447148799896, Val Loss: 0.1593460515141487\n"
          ]
        },
        {
          "output_type": "stream",
          "name": "stderr",
          "text": [
            "\rEpochs:  31%|███       | 31/100 [01:28<03:13,  2.81s/it]"
          ]
        },
        {
          "output_type": "stream",
          "name": "stdout",
          "text": [
            "Epoch 31/100, Loss: 0.1623871624469757, Val Loss: 0.159330315887928\n"
          ]
        },
        {
          "output_type": "stream",
          "name": "stderr",
          "text": [
            "\rEpochs:  32%|███▏      | 32/100 [01:31<03:18,  2.91s/it]"
          ]
        },
        {
          "output_type": "stream",
          "name": "stdout",
          "text": [
            "Epoch 32/100, Loss: 0.14436276257038116, Val Loss: 0.1593131497502327\n"
          ]
        },
        {
          "output_type": "stream",
          "name": "stderr",
          "text": [
            "\rEpochs:  33%|███▎      | 33/100 [01:34<03:12,  2.88s/it]"
          ]
        },
        {
          "output_type": "stream",
          "name": "stdout",
          "text": [
            "Epoch 33/100, Loss: 0.20235657691955566, Val Loss: 0.15929529815912247\n"
          ]
        },
        {
          "output_type": "stream",
          "name": "stderr",
          "text": [
            "\rEpochs:  34%|███▍      | 34/100 [01:36<03:05,  2.81s/it]"
          ]
        },
        {
          "output_type": "stream",
          "name": "stdout",
          "text": [
            "Epoch 34/100, Loss: 0.22261157631874084, Val Loss: 0.15927604585886002\n"
          ]
        },
        {
          "output_type": "stream",
          "name": "stderr",
          "text": [
            "\rEpochs:  35%|███▌      | 35/100 [01:39<03:01,  2.79s/it]"
          ]
        },
        {
          "output_type": "stream",
          "name": "stdout",
          "text": [
            "Epoch 35/100, Loss: 0.10185912996530533, Val Loss: 0.1592557057738304\n"
          ]
        },
        {
          "output_type": "stream",
          "name": "stderr",
          "text": [
            "\rEpochs:  36%|███▌      | 36/100 [01:42<03:00,  2.82s/it]"
          ]
        },
        {
          "output_type": "stream",
          "name": "stdout",
          "text": [
            "Epoch 36/100, Loss: 0.1775839477777481, Val Loss: 0.15923400223255157\n"
          ]
        },
        {
          "output_type": "stream",
          "name": "stderr",
          "text": [
            "\rEpochs:  37%|███▋      | 37/100 [01:45<03:02,  2.89s/it]"
          ]
        },
        {
          "output_type": "stream",
          "name": "stdout",
          "text": [
            "Epoch 37/100, Loss: 0.1972460299730301, Val Loss: 0.15920990705490112\n"
          ]
        },
        {
          "output_type": "stream",
          "name": "stderr",
          "text": [
            "\rEpochs:  38%|███▊      | 38/100 [01:48<02:57,  2.86s/it]"
          ]
        },
        {
          "output_type": "stream",
          "name": "stdout",
          "text": [
            "Epoch 38/100, Loss: 0.14124102890491486, Val Loss: 0.15918465703725815\n"
          ]
        },
        {
          "output_type": "stream",
          "name": "stderr",
          "text": [
            "\rEpochs:  39%|███▉      | 39/100 [01:50<02:52,  2.82s/it]"
          ]
        },
        {
          "output_type": "stream",
          "name": "stdout",
          "text": [
            "Epoch 39/100, Loss: 0.1916159838438034, Val Loss: 0.15915734320878983\n"
          ]
        },
        {
          "output_type": "stream",
          "name": "stderr",
          "text": [
            "\rEpochs:  40%|████      | 40/100 [01:53<02:47,  2.79s/it]"
          ]
        },
        {
          "output_type": "stream",
          "name": "stdout",
          "text": [
            "Epoch 40/100, Loss: 0.136236310005188, Val Loss: 0.15912918746471405\n"
          ]
        },
        {
          "output_type": "stream",
          "name": "stderr",
          "text": [
            "\rEpochs:  41%|████      | 41/100 [01:56<02:51,  2.90s/it]"
          ]
        },
        {
          "output_type": "stream",
          "name": "stdout",
          "text": [
            "Epoch 41/100, Loss: 0.18806639313697815, Val Loss: 0.15909858793020248\n"
          ]
        },
        {
          "output_type": "stream",
          "name": "stderr",
          "text": [
            "\rEpochs:  42%|████▏     | 42/100 [01:59<02:45,  2.86s/it]"
          ]
        },
        {
          "output_type": "stream",
          "name": "stdout",
          "text": [
            "Epoch 42/100, Loss: 0.18486091494560242, Val Loss: 0.15906597673892975\n"
          ]
        },
        {
          "output_type": "stream",
          "name": "stderr",
          "text": [
            "\rEpochs:  43%|████▎     | 43/100 [02:02<02:40,  2.82s/it]"
          ]
        },
        {
          "output_type": "stream",
          "name": "stdout",
          "text": [
            "Epoch 43/100, Loss: 0.15078645944595337, Val Loss: 0.15902961045503616\n"
          ]
        },
        {
          "output_type": "stream",
          "name": "stderr",
          "text": [
            "\rEpochs:  44%|████▍     | 44/100 [02:05<02:36,  2.79s/it]"
          ]
        },
        {
          "output_type": "stream",
          "name": "stdout",
          "text": [
            "Epoch 44/100, Loss: 0.16012486815452576, Val Loss: 0.15899043530225754\n"
          ]
        },
        {
          "output_type": "stream",
          "name": "stderr",
          "text": [
            "\rEpochs:  45%|████▌     | 45/100 [02:07<02:33,  2.80s/it]"
          ]
        },
        {
          "output_type": "stream",
          "name": "stdout",
          "text": [
            "Epoch 45/100, Loss: 0.19500155746936798, Val Loss: 0.15894734114408493\n"
          ]
        },
        {
          "output_type": "stream",
          "name": "stderr",
          "text": [
            "\rEpochs:  46%|████▌     | 46/100 [02:10<02:35,  2.89s/it]"
          ]
        },
        {
          "output_type": "stream",
          "name": "stdout",
          "text": [
            "Epoch 46/100, Loss: 0.2012241780757904, Val Loss: 0.15890279412269592\n"
          ]
        },
        {
          "output_type": "stream",
          "name": "stderr",
          "text": [
            "\rEpochs:  47%|████▋     | 47/100 [02:13<02:31,  2.85s/it]"
          ]
        },
        {
          "output_type": "stream",
          "name": "stdout",
          "text": [
            "Epoch 47/100, Loss: 0.19629710912704468, Val Loss: 0.15885400027036667\n"
          ]
        },
        {
          "output_type": "stream",
          "name": "stderr",
          "text": [
            "\rEpochs:  48%|████▊     | 48/100 [02:16<02:26,  2.82s/it]"
          ]
        },
        {
          "output_type": "stream",
          "name": "stdout",
          "text": [
            "Epoch 48/100, Loss: 0.14332488179206848, Val Loss: 0.15880264341831207\n"
          ]
        },
        {
          "output_type": "stream",
          "name": "stderr",
          "text": [
            "\rEpochs:  49%|████▉     | 49/100 [02:19<02:23,  2.81s/it]"
          ]
        },
        {
          "output_type": "stream",
          "name": "stdout",
          "text": [
            "Epoch 49/100, Loss: 0.10600937157869339, Val Loss: 0.15874646604061127\n"
          ]
        },
        {
          "output_type": "stream",
          "name": "stderr",
          "text": [
            "\rEpochs:  50%|█████     | 50/100 [02:22<02:25,  2.91s/it]"
          ]
        },
        {
          "output_type": "stream",
          "name": "stdout",
          "text": [
            "Epoch 50/100, Loss: 0.17089569568634033, Val Loss: 0.15868545323610306\n"
          ]
        },
        {
          "output_type": "stream",
          "name": "stderr",
          "text": [
            "\rEpochs:  51%|█████     | 51/100 [02:25<02:20,  2.87s/it]"
          ]
        },
        {
          "output_type": "stream",
          "name": "stdout",
          "text": [
            "Epoch 51/100, Loss: 0.20192745327949524, Val Loss: 0.15861736238002777\n"
          ]
        },
        {
          "output_type": "stream",
          "name": "stderr",
          "text": [
            "\rEpochs:  52%|█████▏    | 52/100 [02:27<02:14,  2.81s/it]"
          ]
        },
        {
          "output_type": "stream",
          "name": "stdout",
          "text": [
            "Epoch 52/100, Loss: 0.14956049621105194, Val Loss: 0.15854307264089584\n"
          ]
        },
        {
          "output_type": "stream",
          "name": "stderr",
          "text": [
            "\rEpochs:  53%|█████▎    | 53/100 [02:30<02:11,  2.79s/it]"
          ]
        },
        {
          "output_type": "stream",
          "name": "stdout",
          "text": [
            "Epoch 53/100, Loss: 0.1925465166568756, Val Loss: 0.15846416354179382\n"
          ]
        },
        {
          "output_type": "stream",
          "name": "stderr",
          "text": [
            "\rEpochs:  54%|█████▍    | 54/100 [02:33<02:09,  2.81s/it]"
          ]
        },
        {
          "output_type": "stream",
          "name": "stdout",
          "text": [
            "Epoch 54/100, Loss: 0.19725264608860016, Val Loss: 0.15838339179754257\n"
          ]
        },
        {
          "output_type": "stream",
          "name": "stderr",
          "text": [
            "\rEpochs:  55%|█████▌    | 55/100 [02:36<02:09,  2.89s/it]"
          ]
        },
        {
          "output_type": "stream",
          "name": "stdout",
          "text": [
            "Epoch 55/100, Loss: 0.14105872809886932, Val Loss: 0.15830042213201523\n"
          ]
        },
        {
          "output_type": "stream",
          "name": "stderr",
          "text": [
            "\rEpochs:  56%|█████▌    | 56/100 [02:39<02:04,  2.83s/it]"
          ]
        },
        {
          "output_type": "stream",
          "name": "stdout",
          "text": [
            "Epoch 56/100, Loss: 0.20324905216693878, Val Loss: 0.15820785611867905\n"
          ]
        },
        {
          "output_type": "stream",
          "name": "stderr",
          "text": [
            "\rEpochs:  57%|█████▋    | 57/100 [02:42<02:01,  2.84s/it]"
          ]
        },
        {
          "output_type": "stream",
          "name": "stdout",
          "text": [
            "Epoch 57/100, Loss: 0.09765435010194778, Val Loss: 0.15810582786798477\n"
          ]
        },
        {
          "output_type": "stream",
          "name": "stderr",
          "text": [
            "\rEpochs:  58%|█████▊    | 58/100 [02:44<01:57,  2.80s/it]"
          ]
        },
        {
          "output_type": "stream",
          "name": "stdout",
          "text": [
            "Epoch 58/100, Loss: 0.18350031971931458, Val Loss: 0.15799320489168167\n"
          ]
        },
        {
          "output_type": "stream",
          "name": "stderr",
          "text": [
            "\rEpochs:  59%|█████▉    | 59/100 [02:48<02:01,  2.95s/it]"
          ]
        },
        {
          "output_type": "stream",
          "name": "stdout",
          "text": [
            "Epoch 59/100, Loss: 0.2084435224533081, Val Loss: 0.15787051618099213\n"
          ]
        },
        {
          "output_type": "stream",
          "name": "stderr",
          "text": [
            "\rEpochs:  60%|██████    | 60/100 [02:50<01:55,  2.89s/it]"
          ]
        },
        {
          "output_type": "stream",
          "name": "stdout",
          "text": [
            "Epoch 60/100, Loss: 0.15973211824893951, Val Loss: 0.15773779153823853\n"
          ]
        },
        {
          "output_type": "stream",
          "name": "stderr",
          "text": [
            "\rEpochs:  61%|██████    | 61/100 [02:53<01:50,  2.83s/it]"
          ]
        },
        {
          "output_type": "stream",
          "name": "stdout",
          "text": [
            "Epoch 61/100, Loss: 0.20473001897335052, Val Loss: 0.15759281814098358\n"
          ]
        },
        {
          "output_type": "stream",
          "name": "stderr",
          "text": [
            "\rEpochs:  62%|██████▏   | 62/100 [02:56<01:46,  2.79s/it]"
          ]
        },
        {
          "output_type": "stream",
          "name": "stdout",
          "text": [
            "Epoch 62/100, Loss: 0.19150051474571228, Val Loss: 0.15743127465248108\n"
          ]
        },
        {
          "output_type": "stream",
          "name": "stderr",
          "text": [
            "\rEpochs:  63%|██████▎   | 63/100 [02:59<01:44,  2.84s/it]"
          ]
        },
        {
          "output_type": "stream",
          "name": "stdout",
          "text": [
            "Epoch 63/100, Loss: 0.19213879108428955, Val Loss: 0.1572612300515175\n"
          ]
        }
      ],
      "source": [
        "model = AutoEncoder()\n",
        "device = torch.device('cuda' if torch.cuda.is_available() else 'cpu')\n",
        "model.to(device)\n",
        "\n",
        "# Define loss function and optimizer\n",
        "criterion = nn.MSELoss()  # Assuming you are using a linear activation for the final layer\n",
        "optimizer = optim.Adam(model.parameters(), lr=1e-6)\n",
        "\n",
        "num_epochs = 100\n",
        "for epoch in tqdm(range(num_epochs), desc='Epochs'):\n",
        "    model.train()\n",
        "    for batch_idx, batch_data in enumerate(train_loader):\n",
        "\n",
        "        batch_data = batch_data.float().to(device)\n",
        "        optimizer.zero_grad()\n",
        "        #print(batch_data.shape)\n",
        "        outputs = model(batch_data.unsqueeze(1))\n",
        "        loss = criterion(outputs, batch_data)\n",
        "        loss.backward()\n",
        "        optimizer.step()\n",
        "    model.eval()  # Set the model to evaluation mode\n",
        "    val_loss = 0.0\n",
        "    with torch.no_grad():\n",
        "        for val_batch_data in val_loader:\n",
        "            val_batch_data = val_batch_data.float().to(device)\n",
        "            val_outputs = model(val_batch_data.unsqueeze(1))\n",
        "            val_loss += criterion(val_outputs, val_batch_data).item()\n",
        "\n",
        "    val_loss /= len(val_loader)\n",
        "\n",
        "    print(f\"Epoch {epoch+1}/{num_epochs}, Loss: {loss.item()}, Val Loss: {val_loss}\")"
      ]
    },
    {
      "cell_type": "code",
      "execution_count": 25,
      "id": "f15588db",
      "metadata": {
        "id": "f15588db",
        "outputId": "e42993c2-4322-4b42-adac-1cc34903fb31",
        "colab": {
          "base_uri": "https://localhost:8080/"
        }
      },
      "outputs": [
        {
          "output_type": "stream",
          "name": "stderr",
          "text": [
            "Testing:   0%|          | 0/2 [00:00<?, ?it/s]/usr/local/lib/python3.10/dist-packages/torch/nn/modules/loss.py:536: UserWarning: Using a target size (torch.Size([4, 3601, 3601])) that is different to the input size (torch.Size([4, 1, 3601, 3601])). This will likely lead to incorrect results due to broadcasting. Please ensure they have the same size.\n",
            "  return F.mse_loss(input, target, reduction=self.reduction)\n",
            "Testing:  50%|█████     | 1/2 [00:00<00:00,  3.23it/s]/usr/local/lib/python3.10/dist-packages/torch/nn/modules/loss.py:536: UserWarning: Using a target size (torch.Size([3, 3601, 3601])) that is different to the input size (torch.Size([3, 1, 3601, 3601])). This will likely lead to incorrect results due to broadcasting. Please ensure they have the same size.\n",
            "  return F.mse_loss(input, target, reduction=self.reduction)\n",
            "                                                      "
          ]
        },
        {
          "output_type": "stream",
          "name": "stdout",
          "text": [
            "Test Loss: 0.1148299127817154\n"
          ]
        },
        {
          "output_type": "stream",
          "name": "stderr",
          "text": [
            "\r"
          ]
        }
      ],
      "source": [
        "model.eval()  # Set the model to evaluation mode\n",
        "test_loss = 0.0\n",
        "with torch.no_grad():\n",
        "    with tqdm(test_loader, desc='Testing', leave=False) as t:\n",
        "        for test_batch_data in t:\n",
        "            test_batch_data = test_batch_data.float().to(device)\n",
        "            test_outputs = model(test_batch_data.unsqueeze(1))\n",
        "            test_loss += criterion(test_outputs, test_batch_data).item()\n",
        "\n",
        "test_loss /= len(test_loader)  # Average the test loss\n",
        "print(f\"Test Loss: {test_loss}\")"
      ]
    },
    {
      "cell_type": "code",
      "execution_count": null,
      "id": "d8d3be0b",
      "metadata": {
        "id": "d8d3be0b"
      },
      "outputs": [],
      "source": [
        "#torch.save(embedded_dict, \"/home/smitesh22/Unsupervised-Machine-Learning-for-Solar-Site-Selection/Code/embedded_dict.pt\")\n",
        "\n",
        "torch.save(model.state_dict(), \"DEM_model_weights.pt\")"
      ]
    },
    {
      "cell_type": "code",
      "source": [],
      "metadata": {
        "id": "X6HL_gV9yIWK"
      },
      "id": "X6HL_gV9yIWK",
      "execution_count": null,
      "outputs": []
    }
  ],
  "metadata": {
    "kernelspec": {
      "display_name": "Python 3",
      "name": "python3"
    },
    "language_info": {
      "codemirror_mode": {
        "name": "ipython",
        "version": 3
      },
      "file_extension": ".py",
      "mimetype": "text/x-python",
      "name": "python",
      "nbconvert_exporter": "python",
      "pygments_lexer": "ipython3",
      "version": "3.10.9"
    },
    "colab": {
      "provenance": [],
      "machine_shape": "hm",
      "gpuType": "V100"
    },
    "accelerator": "GPU"
  },
  "nbformat": 4,
  "nbformat_minor": 5
}