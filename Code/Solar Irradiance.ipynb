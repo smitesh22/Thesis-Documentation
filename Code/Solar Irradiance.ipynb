{
 "cells": [
  {
   "cell_type": "code",
   "execution_count": 1,
   "id": "48a42a89",
   "metadata": {},
   "outputs": [],
   "source": [
    "import pandas as pd\n",
    "import numpy as np\n",
    "import re"
   ]
  },
  {
   "cell_type": "code",
   "execution_count": 2,
   "id": "1d8fc1c0",
   "metadata": {},
   "outputs": [],
   "source": [
    "location = '/home/smitesh22/Data/Solar Irradiance/N09E078_wgs84.csv'\n",
    "\n",
    "df = pd.read_csv(location, nrows=2, header=None)\n",
    "\n",
    "# Display the resulting DataFrame\n",
    "latitude = int(np.ceil(float(df[5][1])))\n",
    "longitude = int(np.ceil(float(df[6][1])))"
   ]
  },
  {
   "cell_type": "code",
   "execution_count": 3,
   "id": "df50c0e9",
   "metadata": {},
   "outputs": [],
   "source": [
    "pattern = r'N(\\d+)E(\\d+)_wgs84.csv'\n",
    "\n",
    "match = re.search(pattern, location)\n",
    "if match:\n",
    "    number1 = int(match.group(1))\n",
    "    number2 = int(match.group(2))"
   ]
  },
  {
   "cell_type": "code",
   "execution_count": 15,
   "id": "7dd726cb",
   "metadata": {},
   "outputs": [],
   "source": [
    "# check if filename maches with latitude and longitude mentioned in the csv\n",
    "assert latitude == number1\n",
    "assert longitude == number2"
   ]
  },
  {
   "cell_type": "code",
   "execution_count": 5,
   "id": "42cf8564",
   "metadata": {},
   "outputs": [],
   "source": [
    "file = pd.read_csv(location,  skiprows=2)"
   ]
  },
  {
   "cell_type": "code",
   "execution_count": 6,
   "id": "8341c62b",
   "metadata": {},
   "outputs": [],
   "source": [
    "#subset important attr\n",
    "df = file[['GHI',\n",
    "          'DHI',\n",
    "          'DNI',\n",
    "          'Clearsky DHI',\n",
    "          'Clearsky DNI',\n",
    "          'Clearsky GHI',\n",
    "          'Temperature',\n",
    "          'Relative Humidity']]"
   ]
  },
  {
   "cell_type": "code",
   "execution_count": 7,
   "id": "aadd96f4",
   "metadata": {},
   "outputs": [],
   "source": [
    "## Mean data of all data points\n",
    "entry = df.describe().iloc[1].to_dict()"
   ]
  },
  {
   "cell_type": "code",
   "execution_count": 8,
   "id": "702414d9",
   "metadata": {},
   "outputs": [],
   "source": [
    "out = pd.read_csv('/home/smitesh22/Data/solar_irradiance.csv')"
   ]
  },
  {
   "cell_type": "code",
   "execution_count": 9,
   "id": "8192f894",
   "metadata": {},
   "outputs": [],
   "source": [
    "filename = re.search(r'/([^/]+)\\.csv$', location).group(1)"
   ]
  },
  {
   "cell_type": "code",
   "execution_count": 10,
   "id": "493f20ae",
   "metadata": {},
   "outputs": [],
   "source": [
    "entry['filename'] = filename"
   ]
  },
  {
   "cell_type": "code",
   "execution_count": 11,
   "id": "0b2b310f",
   "metadata": {},
   "outputs": [
    {
     "data": {
      "text/plain": [
       "{'GHI': 239.7662100456621,\n",
       " 'DHI': 94.11609589041096,\n",
       " 'DNI': 196.1716894977169,\n",
       " 'Clearsky DHI': 75.00433789954337,\n",
       " 'Clearsky DNI': 282.9335616438356,\n",
       " 'Clearsky GHI': 278.53173515981734,\n",
       " 'Temperature': 28.153995433789955,\n",
       " 'Relative Humidity': 75.2859189497717,\n",
       " 'filename': 'N09E078_wgs84'}"
      ]
     },
     "execution_count": 11,
     "metadata": {},
     "output_type": "execute_result"
    }
   ],
   "source": [
    "entry"
   ]
  },
  {
   "cell_type": "code",
   "execution_count": 12,
   "id": "a674e6a2",
   "metadata": {},
   "outputs": [],
   "source": [
    "row = pd.DataFrame([entry])\n",
    "\n",
    "out = pd.concat([out, row], ignore_index=True)"
   ]
  },
  {
   "cell_type": "code",
   "execution_count": 13,
   "id": "4a5618d6",
   "metadata": {},
   "outputs": [],
   "source": [
    "out.to_csv(\"/home/smitesh22/Data/solar_irradiance.csv\", index=False)"
   ]
  },
  {
   "cell_type": "code",
   "execution_count": null,
   "id": "46b776e1",
   "metadata": {},
   "outputs": [],
   "source": []
  }
 ],
 "metadata": {
  "kernelspec": {
   "display_name": "Python 3 (ipykernel)",
   "language": "python",
   "name": "python3"
  },
  "language_info": {
   "codemirror_mode": {
    "name": "ipython",
    "version": 3
   },
   "file_extension": ".py",
   "mimetype": "text/x-python",
   "name": "python",
   "nbconvert_exporter": "python",
   "pygments_lexer": "ipython3",
   "version": "3.10.9"
  }
 },
 "nbformat": 4,
 "nbformat_minor": 5
}
