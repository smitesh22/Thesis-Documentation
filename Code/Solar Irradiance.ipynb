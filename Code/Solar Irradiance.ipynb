{
 "cells": [
  {
   "cell_type": "code",
   "execution_count": 80,
   "id": "45de996a",
   "metadata": {},
   "outputs": [],
   "source": [
    "import pandas as pd\n",
    "import numpy as np\n",
    "import re"
   ]
  },
  {
   "cell_type": "code",
   "execution_count": 81,
   "id": "e9c05613",
   "metadata": {},
   "outputs": [],
   "source": [
    "location = '/home/smitesh22/Data/Solar Irradiance/N09E078_wgs84.csv'\n",
    "\n",
    "df = pd.read_csv(location, nrows=2, header=None)\n",
    "\n",
    "# Display the resulting DataFrame\n",
    "latitude = int(np.ceil(float(df[5][1])))\n",
    "longitude = int(np.ceil(float(df[6][1])))"
   ]
  },
  {
   "cell_type": "code",
   "execution_count": 82,
   "id": "cde30d31",
   "metadata": {},
   "outputs": [],
   "source": [
    "pattern = r'N(\\d+)E(\\d+)_wgs84.csv'\n",
    "\n",
    "match = re.search(pattern, location)\n",
    "if match:\n",
    "    number1 = int(match.group(1))\n",
    "    number2 = int(match.group(2))"
   ]
  },
  {
   "cell_type": "code",
   "execution_count": 98,
   "id": "16c48f62",
   "metadata": {},
   "outputs": [],
   "source": [
    "# check if filename maches with latitude and longitude mentioned in the csv\n",
    "assert latitude == number1\n",
    "assert longitude == longitude"
   ]
  },
  {
   "cell_type": "code",
   "execution_count": 84,
   "id": "3a095b28",
   "metadata": {},
   "outputs": [],
   "source": [
    "file = pd.read_csv(location,  skiprows=2)"
   ]
  },
  {
   "cell_type": "code",
   "execution_count": 85,
   "id": "262d5fe6",
   "metadata": {},
   "outputs": [],
   "source": [
    "#subset important attr\n",
    "df = file[['GHI',\n",
    "          'DHI',\n",
    "          'DNI',\n",
    "          'Clearsky DHI',\n",
    "          'Clearsky DNI',\n",
    "          'Clearsky GHI',\n",
    "          'Temperature',\n",
    "          'Relative Humidity']]"
   ]
  },
  {
   "cell_type": "code",
   "execution_count": 101,
   "id": "7ac04846",
   "metadata": {},
   "outputs": [],
   "source": [
    "## Mean data of all data points\n",
    "entry = df.describe().iloc[1].to_dict()"
   ]
  },
  {
   "cell_type": "code",
   "execution_count": 102,
   "id": "e47c5e71",
   "metadata": {},
   "outputs": [],
   "source": [
    "out = pd.read_csv('/home/smitesh22/Data/solar_irradiance.csv')"
   ]
  },
  {
   "cell_type": "code",
   "execution_count": 106,
   "id": "0c0de3ab",
   "metadata": {},
   "outputs": [],
   "source": [
    "filename = re.search(r'/([^/]+)$', location).group(1)"
   ]
  },
  {
   "cell_type": "code",
   "execution_count": null,
   "id": "f49743ee",
   "metadata": {},
   "outputs": [],
   "source": [
    "entry"
   ]
  },
  {
   "cell_type": "code",
   "execution_count": 105,
   "id": "ddf5923a",
   "metadata": {},
   "outputs": [
    {
     "data": {
      "text/html": [
       "<div>\n",
       "<style scoped>\n",
       "    .dataframe tbody tr th:only-of-type {\n",
       "        vertical-align: middle;\n",
       "    }\n",
       "\n",
       "    .dataframe tbody tr th {\n",
       "        vertical-align: top;\n",
       "    }\n",
       "\n",
       "    .dataframe thead th {\n",
       "        text-align: right;\n",
       "    }\n",
       "</style>\n",
       "<table border=\"1\" class=\"dataframe\">\n",
       "  <thead>\n",
       "    <tr style=\"text-align: right;\">\n",
       "      <th></th>\n",
       "      <th>filename</th>\n",
       "      <th>GHI</th>\n",
       "      <th>DHI</th>\n",
       "      <th>DNI</th>\n",
       "      <th>Clearsky DHI</th>\n",
       "      <th>Clearsky DNI</th>\n",
       "      <th>Clearsky GHI</th>\n",
       "      <th>Temperature</th>\n",
       "      <th>Relative Humidity</th>\n",
       "    </tr>\n",
       "  </thead>\n",
       "  <tbody>\n",
       "    <tr>\n",
       "      <th>0</th>\n",
       "      <td>NaN</td>\n",
       "      <td>239.76621</td>\n",
       "      <td>94.116096</td>\n",
       "      <td>196.171689</td>\n",
       "      <td>75.004338</td>\n",
       "      <td>282.933562</td>\n",
       "      <td>278.531735</td>\n",
       "      <td>28.153995</td>\n",
       "      <td>75.285919</td>\n",
       "    </tr>\n",
       "  </tbody>\n",
       "</table>\n",
       "</div>"
      ],
      "text/plain": [
       "  filename        GHI        DHI         DNI  Clearsky DHI  Clearsky DNI  \\\n",
       "0      NaN  239.76621  94.116096  196.171689     75.004338    282.933562   \n",
       "\n",
       "   Clearsky GHI  Temperature  Relative Humidity  \n",
       "0    278.531735    28.153995          75.285919  "
      ]
     },
     "execution_count": 105,
     "metadata": {},
     "output_type": "execute_result"
    }
   ],
   "source": [
    "row = pd.DataFrame([entry])\n",
    "\n",
    "pd.concat([out, row], ignore_index=True)"
   ]
  },
  {
   "cell_type": "code",
   "execution_count": null,
   "id": "9704a46a",
   "metadata": {},
   "outputs": [],
   "source": []
  }
 ],
 "metadata": {
  "kernelspec": {
   "display_name": "Python 3 (ipykernel)",
   "language": "python",
   "name": "python3"
  },
  "language_info": {
   "codemirror_mode": {
    "name": "ipython",
    "version": 3
   },
   "file_extension": ".py",
   "mimetype": "text/x-python",
   "name": "python",
   "nbconvert_exporter": "python",
   "pygments_lexer": "ipython3",
   "version": "3.10.9"
  }
 },
 "nbformat": 4,
 "nbformat_minor": 5
}
