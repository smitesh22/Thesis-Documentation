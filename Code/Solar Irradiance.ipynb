{
 "cells": [
  {
   "cell_type": "code",
   "execution_count": 80,
   "id": "aa98011c",
   "metadata": {},
   "outputs": [],
   "source": [
    "import pandas as pd\n",
    "import numpy as np\n",
    "import re"
   ]
  },
  {
   "cell_type": "code",
   "execution_count": 81,
   "id": "55b70d6f",
   "metadata": {},
   "outputs": [],
   "source": [
    "location = '/home/smitesh22/Data/Solar Irradiance/N09E078_wgs84.csv'\n",
    "\n",
    "df = pd.read_csv(location, nrows=2, header=None)\n",
    "\n",
    "# Display the resulting DataFrame\n",
    "latitude = int(np.ceil(float(df[5][1])))\n",
    "longitude = int(np.ceil(float(df[6][1])))"
   ]
  },
  {
   "cell_type": "code",
   "execution_count": 82,
   "id": "cc0122ba",
   "metadata": {},
   "outputs": [],
   "source": [
    "pattern = r'N(\\d+)E(\\d+)_wgs84.csv'\n",
    "\n",
    "match = re.search(pattern, location)\n",
    "if match:\n",
    "    number1 = int(match.group(1))\n",
    "    number2 = int(match.group(2))"
   ]
  },
  {
   "cell_type": "code",
   "execution_count": 98,
   "id": "3c34ed14",
   "metadata": {},
   "outputs": [],
   "source": [
    "# check if filename maches with latitude and longitude mentioned in the csv\n",
    "assert latitude == number1\n",
    "assert longitude == longitude"
   ]
  },
  {
   "cell_type": "code",
   "execution_count": 84,
   "id": "a5f0a0ef",
   "metadata": {},
   "outputs": [],
   "source": [
    "file = pd.read_csv(location,  skiprows=2)"
   ]
  },
  {
   "cell_type": "code",
   "execution_count": 85,
   "id": "fa7cb24d",
   "metadata": {},
   "outputs": [],
   "source": [
    "#subset important attr\n",
    "df = file[['GHI',\n",
    "          'DHI',\n",
    "          'DNI',\n",
    "          'Clearsky DHI',\n",
    "          'Clearsky DNI',\n",
    "          'Clearsky GHI',\n",
    "          'Temperature',\n",
    "          'Relative Humidity']]"
   ]
  },
  {
   "cell_type": "code",
   "execution_count": 101,
   "id": "2b6d1bd2",
   "metadata": {},
   "outputs": [],
   "source": [
    "## Mean data of all data points\n",
    "entry = df.describe().iloc[1].to_dict()"
   ]
  },
  {
   "cell_type": "code",
   "execution_count": 102,
   "id": "e4076cd0",
   "metadata": {},
   "outputs": [],
   "source": [
    "out = pd.read_csv('/home/smitesh22/Data/solar_irradiance.csv')"
   ]
  },
  {
   "cell_type": "code",
   "execution_count": 113,
   "id": "72cf59cc",
   "metadata": {},
   "outputs": [],
   "source": [
    "filename = re.search(r'/([^/]+)\\.csv$', location).group(1)"
   ]
  },
  {
   "cell_type": "code",
   "execution_count": 114,
   "id": "5b8278e0",
   "metadata": {},
   "outputs": [],
   "source": [
    "entry['filename'] = filename"
   ]
  },
  {
   "cell_type": "code",
   "execution_count": 115,
   "id": "bb7627e8",
   "metadata": {},
   "outputs": [
    {
     "data": {
      "text/plain": [
       "{'GHI': 239.7662100456621,\n",
       " 'DHI': 94.11609589041096,\n",
       " 'DNI': 196.1716894977169,\n",
       " 'Clearsky DHI': 75.00433789954337,\n",
       " 'Clearsky DNI': 282.9335616438356,\n",
       " 'Clearsky GHI': 278.53173515981734,\n",
       " 'Temperature': 28.153995433789955,\n",
       " 'Relative Humidity': 75.2859189497717,\n",
       " 'filename': 'N09E078_wgs84'}"
      ]
     },
     "execution_count": 115,
     "metadata": {},
     "output_type": "execute_result"
    }
   ],
   "source": [
    "entry"
   ]
  },
  {
   "cell_type": "code",
   "execution_count": 116,
   "id": "888f077f",
   "metadata": {},
   "outputs": [
    {
     "data": {
      "text/html": [
       "<div>\n",
       "<style scoped>\n",
       "    .dataframe tbody tr th:only-of-type {\n",
       "        vertical-align: middle;\n",
       "    }\n",
       "\n",
       "    .dataframe tbody tr th {\n",
       "        vertical-align: top;\n",
       "    }\n",
       "\n",
       "    .dataframe thead th {\n",
       "        text-align: right;\n",
       "    }\n",
       "</style>\n",
       "<table border=\"1\" class=\"dataframe\">\n",
       "  <thead>\n",
       "    <tr style=\"text-align: right;\">\n",
       "      <th></th>\n",
       "      <th>filename</th>\n",
       "      <th>GHI</th>\n",
       "      <th>DHI</th>\n",
       "      <th>DNI</th>\n",
       "      <th>Clearsky DHI</th>\n",
       "      <th>Clearsky DNI</th>\n",
       "      <th>Clearsky GHI</th>\n",
       "      <th>Temperature</th>\n",
       "      <th>Relative Humidity</th>\n",
       "    </tr>\n",
       "  </thead>\n",
       "  <tbody>\n",
       "    <tr>\n",
       "      <th>0</th>\n",
       "      <td>N09E078_wgs84</td>\n",
       "      <td>239.76621</td>\n",
       "      <td>94.116096</td>\n",
       "      <td>196.171689</td>\n",
       "      <td>75.004338</td>\n",
       "      <td>282.933562</td>\n",
       "      <td>278.531735</td>\n",
       "      <td>28.153995</td>\n",
       "      <td>75.285919</td>\n",
       "    </tr>\n",
       "  </tbody>\n",
       "</table>\n",
       "</div>"
      ],
      "text/plain": [
       "        filename        GHI        DHI         DNI  Clearsky DHI  \\\n",
       "0  N09E078_wgs84  239.76621  94.116096  196.171689     75.004338   \n",
       "\n",
       "   Clearsky DNI  Clearsky GHI  Temperature  Relative Humidity  \n",
       "0    282.933562    278.531735    28.153995          75.285919  "
      ]
     },
     "execution_count": 116,
     "metadata": {},
     "output_type": "execute_result"
    }
   ],
   "source": [
    "row = pd.DataFrame([entry])\n",
    "\n",
    "out = pd.concat([out, row], ignore_index=True)"
   ]
  },
  {
   "cell_type": "code",
   "execution_count": 118,
   "id": "28d5935f",
   "metadata": {},
   "outputs": [
    {
     "ename": "AttributeError",
     "evalue": "module 'pandas' has no attribute 'to_csv'",
     "output_type": "error",
     "traceback": [
      "\u001b[0;31m---------------------------------------------------------------------------\u001b[0m",
      "\u001b[0;31mAttributeError\u001b[0m                            Traceback (most recent call last)",
      "Cell \u001b[0;32mIn[118], line 1\u001b[0m\n\u001b[0;32m----> 1\u001b[0m \u001b[43mpd\u001b[49m\u001b[38;5;241;43m.\u001b[39;49m\u001b[43mto_csv\u001b[49m(\u001b[38;5;124m\"\u001b[39m\u001b[38;5;124m/home/smitesh22/Data/solar_irradiance.csv\u001b[39m\u001b[38;5;124m\"\u001b[39m, index\u001b[38;5;241m=\u001b[39m\u001b[38;5;28;01mFalse\u001b[39;00m)\n",
      "File \u001b[0;32m~/anaconda3/lib/python3.10/site-packages/pandas/__init__.py:264\u001b[0m, in \u001b[0;36m__getattr__\u001b[0;34m(name)\u001b[0m\n\u001b[1;32m    260\u001b[0m     \u001b[38;5;28;01mfrom\u001b[39;00m \u001b[38;5;21;01mpandas\u001b[39;00m\u001b[38;5;21;01m.\u001b[39;00m\u001b[38;5;21;01mcore\u001b[39;00m\u001b[38;5;21;01m.\u001b[39;00m\u001b[38;5;21;01marrays\u001b[39;00m\u001b[38;5;21;01m.\u001b[39;00m\u001b[38;5;21;01msparse\u001b[39;00m \u001b[38;5;28;01mimport\u001b[39;00m SparseArray \u001b[38;5;28;01mas\u001b[39;00m _SparseArray\n\u001b[1;32m    262\u001b[0m     \u001b[38;5;28;01mreturn\u001b[39;00m _SparseArray\n\u001b[0;32m--> 264\u001b[0m \u001b[38;5;28;01mraise\u001b[39;00m \u001b[38;5;167;01mAttributeError\u001b[39;00m(\u001b[38;5;124mf\u001b[39m\u001b[38;5;124m\"\u001b[39m\u001b[38;5;124mmodule \u001b[39m\u001b[38;5;124m'\u001b[39m\u001b[38;5;124mpandas\u001b[39m\u001b[38;5;124m'\u001b[39m\u001b[38;5;124m has no attribute \u001b[39m\u001b[38;5;124m'\u001b[39m\u001b[38;5;132;01m{\u001b[39;00mname\u001b[38;5;132;01m}\u001b[39;00m\u001b[38;5;124m'\u001b[39m\u001b[38;5;124m\"\u001b[39m)\n",
      "\u001b[0;31mAttributeError\u001b[0m: module 'pandas' has no attribute 'to_csv'"
     ]
    }
   ],
   "source": [
    "out.to_csv(\"/home/smitesh22/Data/solar_irradiance.csv\", index=False)"
   ]
  },
  {
   "cell_type": "code",
   "execution_count": null,
   "id": "446325cc",
   "metadata": {},
   "outputs": [],
   "source": []
  }
 ],
 "metadata": {
  "kernelspec": {
   "display_name": "Python 3 (ipykernel)",
   "language": "python",
   "name": "python3"
  },
  "language_info": {
   "codemirror_mode": {
    "name": "ipython",
    "version": 3
   },
   "file_extension": ".py",
   "mimetype": "text/x-python",
   "name": "python",
   "nbconvert_exporter": "python",
   "pygments_lexer": "ipython3",
   "version": "3.10.9"
  }
 },
 "nbformat": 4,
 "nbformat_minor": 5
}
