{
 "cells": [
  {
   "cell_type": "code",
   "execution_count": 1,
   "id": "3cea1e55",
   "metadata": {},
   "outputs": [],
   "source": [
    "import torch\n",
    "import torch.nn as nn\n",
    "import torch.optim as optim\n",
    "from torch.utils.data import Dataset, DataLoader"
   ]
  },
  {
   "cell_type": "code",
   "execution_count": 2,
   "id": "1b07191f",
   "metadata": {},
   "outputs": [],
   "source": [
    "load = torch.load(r'/home/smitesh22/Data/DEM_slope_tensorv2.pt')"
   ]
  },
  {
   "cell_type": "code",
   "execution_count": 3,
   "id": "335c5a31",
   "metadata": {},
   "outputs": [],
   "source": [
    "class DEM_Dataset(Dataset):\n",
    "    def __init__(self, data):\n",
    "        self.filename = list(data.keys())\n",
    "        self.data = data\n",
    "        \n",
    "    def __len__(self):\n",
    "        return len(self.filename)\n",
    "    \n",
    "    def __getitem__(self, index):\n",
    "        filename = self.filename[index]\n",
    "        data = self.data[filename]\n",
    "        return data"
   ]
  },
  {
   "cell_type": "code",
   "execution_count": 4,
   "id": "c62bd948",
   "metadata": {},
   "outputs": [],
   "source": [
    "data = DEM_Dataset(load)"
   ]
  },
  {
   "cell_type": "code",
   "execution_count": 5,
   "id": "92e94570",
   "metadata": {},
   "outputs": [],
   "source": [
    "data_loader = DataLoader(data, batch_size=2, shuffle=True)"
   ]
  },
  {
   "cell_type": "code",
   "execution_count": 6,
   "id": "e62ce4c3",
   "metadata": {},
   "outputs": [],
   "source": [
    "class AutoEncoder(nn.Module):\n",
    "    def __init__(self):\n",
    "        \n",
    "        super().__init__()\n",
    "        \n",
    "        self.encoder = nn.Sequential( # input : 3601*3601\n",
    "            nn.Conv2d(1, 32, kernel_size=(15, 15), stride=4, padding=1),\n",
    "            nn.ReLU(),\n",
    "            nn.Conv2d(32, 64, kernel_size=(8, 8), stride=4, padding=1),\n",
    "            nn.ReLU(),\n",
    "            nn.Conv2d(64, 128, kernel_size=(4, 4), stride=2, padding=1),\n",
    "            nn.ReLU(),\n",
    "            nn.Conv2d(128, 128, kernel_size=(4, 4), stride=2, padding=1),\n",
    "            nn.ReLU(),\n",
    "            \n",
    "        )\n",
    "        \n",
    "        self.decoder = nn.Sequential(\n",
    "            nn.ConvTranspose2d(128, 128, kernel_size=(4, 4), stride=2, padding=1, output_padding=0),\n",
    "            nn.ReLU(),\n",
    "            nn.ConvTranspose2d(128, 64, kernel_size=(4, 4), stride=2, padding=1, output_padding=0),\n",
    "            nn.ReLU(),\n",
    "            nn.ConvTranspose2d(64, 32, kernel_size=(8, 8), stride=4, padding=1, output_padding=0),\n",
    "            nn.ReLU(),\n",
    "            nn.ConvTranspose2d(32, 1, kernel_size=(15, 15), stride=4, padding=1, output_padding=0),\n",
    "            nn.Sigmoid(),  # Output is between 0 and 1\n",
    "        )\n",
    "        \n",
    "    def forward(self, x):\n",
    "        x = self.encoder(x)\n",
    "        x = self.decoder(x)\n",
    "        return x\n",
    "            \n",
    "\n",
    "        \n",
    "        \n",
    "        \n",
    "    def dimensions(self, x):\n",
    "        print(f\"----------ENCODER----------\")\n",
    "        print(f\"Input shape : {x.shape[1], x.shape[2], x.shape[3]}\")\n",
    "        x = self.encoder[0](x)\n",
    "        print(f\"After 1st Conv2d: {x.shape[1], x.shape[2], x.shape[3]}\")\n",
    "        x = self.encoder[1](x)\n",
    "        print(f\"After 1st ReLU: {x.shape[1], x.shape[2], x.shape[3]}\")\n",
    "        x = self.encoder[2](x)\n",
    "        print(f\"After 2nd Conv2d: {x.shape[1], x.shape[2], x.shape[3]}\")\n",
    "        x = self.encoder[3](x)\n",
    "        print(f\"After 2nd ReLU: {x.shape[1], x.shape[2], x.shape[3]}\")\n",
    "        x = self.encoder[4](x)\n",
    "        print(f\"After 3rd Conv2d: {x.shape[1], x.shape[2], x.shape[3]}\")\n",
    "        x = self.encoder[5](x)\n",
    "        print(f\"After 3rd ReLU: {x.shape[1], x.shape[2], x.shape[3]}\")\n",
    "        x = self.encoder[5](x)\n",
    "        print(f\"After 4th Conv2d: {x.shape[1], x.shape[2], x.shape[3]}\")\n",
    "        x = self.encoder[6](x)\n",
    "        print(f\"After 4th ReLU: {x.shape[1], x.shape[2], x.shape[3]}\")\n",
    "        \n",
    "        print(\"---------DECODER------------\")\n",
    "        x= self.decoder[0](x)\n",
    "        print(f\"After 1st Transpose: {x.shape[1], x.shape[2], x.shape[3]}\")\n",
    "        x = self.decoder[1](x)\n",
    "        print(f\"After 1st ReLU: {x.shape[1], x.shape[2], x.shape[3]}\")\n",
    "        x = self.decoder[2](x)\n",
    "        print(f\"After 2nd Transpose: {x.shape[1], x.shape[2], x.shape[3]}\")\n",
    "        x = self.decoder[3](x)\n",
    "        print(f\"After 2nd ReLU: {x.shape[1], x.shape[2], x.shape[3]}\")\n",
    "        x = self.decoder[4](x)\n",
    "        print(f\"After 3rd Transpose: {x.shape[1], x.shape[2], x.shape[3]}\")\n",
    "        x = self.decoder[5](x)\n",
    "        print(f\"After 3rd ReLU: {x.shape[1], x.shape[2], x.shape[3]}\")\n",
    "        x = self.decoder[6](x)\n",
    "        print(f\"Decoder output : {x.shape[1], x.shape[2], x.shape[3]}\")"
   ]
  },
  {
   "cell_type": "code",
   "execution_count": 7,
   "id": "3b6001fc",
   "metadata": {},
   "outputs": [],
   "source": [
    "model = AutoEncoder()"
   ]
  },
  {
   "cell_type": "code",
   "execution_count": 8,
   "id": "d4fbef1a",
   "metadata": {},
   "outputs": [],
   "source": [
    "dummy_input = torch.randn(5, 1, 3601, 3601)"
   ]
  },
  {
   "cell_type": "code",
   "execution_count": 9,
   "id": "e87465e7",
   "metadata": {},
   "outputs": [
    {
     "name": "stdout",
     "output_type": "stream",
     "text": [
      "----------ENCODER----------\n",
      "Input shape : (1, 3601, 3601)\n",
      "After 1st Conv2d: (32, 898, 898)\n",
      "After 1st ReLU: (32, 898, 898)\n",
      "After 2nd Conv2d: (64, 224, 224)\n",
      "After 2nd ReLU: (64, 224, 224)\n",
      "After 3rd Conv2d: (128, 112, 112)\n",
      "After 3rd ReLU: (128, 112, 112)\n",
      "After 4th Conv2d: (128, 112, 112)\n",
      "After 4th ReLU: (128, 56, 56)\n",
      "---------DECODER------------\n",
      "After 1st Transpose: (128, 112, 112)\n",
      "After 1st ReLU: (128, 112, 112)\n",
      "After 2nd Transpose: (64, 224, 224)\n",
      "After 2nd ReLU: (64, 224, 224)\n",
      "After 3rd Transpose: (32, 898, 898)\n",
      "After 3rd ReLU: (32, 898, 898)\n",
      "Decoder output : (1, 3601, 3601)\n"
     ]
    }
   ],
   "source": [
    "model.dimensions(dummy_input)"
   ]
  },
  {
   "cell_type": "code",
   "execution_count": null,
   "id": "151b4c1d",
   "metadata": {},
   "outputs": [],
   "source": [
    "criterion = nn.MSELoss()\n",
    "optimizer = optim.Adam(model.parameters(), lr=0.001)\n",
    "\n",
    "num_epochs = 10  # Set the number of training epochs\n",
    "for epoch in range(num_epochs):\n",
    "    model.train()\n",
    "    for batch_idx, batch_data in enumerate(data_loader):\n",
    "        # Move the batch data to the GPU if available\n",
    "        optimizer.zero_grad()\n",
    "        outputs = model(batch_data)\n",
    "        loss = criterion(outputs, batch_data)\n",
    "        loss.backward()\n",
    "        optimizer.step()\n",
    "        \n",
    "        if batch_idx % 10 == 0:\n",
    "            print(f\"Epoch {epoch+1}/{num_epochs}, Batch {batch_idx}/{len(data_loader)}, Loss: {loss.item():.4f}\")\n"
   ]
  },
  {
   "cell_type": "code",
   "execution_count": null,
   "id": "284907de",
   "metadata": {},
   "outputs": [],
   "source": []
  }
 ],
 "metadata": {
  "kernelspec": {
   "display_name": "Python 3 (ipykernel)",
   "language": "python",
   "name": "python3"
  },
  "language_info": {
   "codemirror_mode": {
    "name": "ipython",
    "version": 3
   },
   "file_extension": ".py",
   "mimetype": "text/x-python",
   "name": "python",
   "nbconvert_exporter": "python",
   "pygments_lexer": "ipython3",
   "version": "3.10.9"
  }
 },
 "nbformat": 4,
 "nbformat_minor": 5
}
