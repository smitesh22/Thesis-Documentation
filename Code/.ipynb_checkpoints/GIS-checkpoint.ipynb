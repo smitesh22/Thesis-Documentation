{
 "cells": [
  {
   "cell_type": "code",
   "execution_count": 6,
   "id": "381035bd",
   "metadata": {},
   "outputs": [],
   "source": [
    "import pandas as pd\n",
    "import glob\n",
    "import os\n",
    "import re\n",
    "import numpy as np"
   ]
  },
  {
   "cell_type": "code",
   "execution_count": 7,
   "id": "df9c5674",
   "metadata": {},
   "outputs": [],
   "source": [
    "df = pd.read_csv(\"/home/smitesh22/Data/extent.csv\")"
   ]
  },
  {
   "cell_type": "code",
   "execution_count": 8,
   "id": "19037824",
   "metadata": {},
   "outputs": [],
   "source": [
    "filenames_DEM = set(df.filename)"
   ]
  },
  {
   "cell_type": "code",
   "execution_count": 9,
   "id": "f6449b86",
   "metadata": {},
   "outputs": [],
   "source": [
    "filenames_GIS = glob.glob(\"/home/smitesh22/Data/GIS/*.zip\")"
   ]
  },
  {
   "cell_type": "code",
   "execution_count": 10,
   "id": "2e2c2b4b",
   "metadata": {},
   "outputs": [],
   "source": [
    "filenames_GIS = {re.search(r'/([^/]+)\\.zip$', name).group(1) for name in filenames_GIS}"
   ]
  },
  {
   "cell_type": "code",
   "execution_count": 11,
   "id": "a8f0508f",
   "metadata": {},
   "outputs": [],
   "source": [
    "assert filenames_GIS == filenames_DEM"
   ]
  },
  {
   "cell_type": "code",
   "execution_count": 12,
   "id": "aa19dbda",
   "metadata": {},
   "outputs": [],
   "source": [
    "from osgeo import ogr, osr"
   ]
  },
  {
   "cell_type": "code",
   "execution_count": 13,
   "id": "c895d81e",
   "metadata": {},
   "outputs": [],
   "source": [
    "folders = glob.glob(\"/home/smitesh22/Data/GIS Extracted/\")\n"
   ]
  },
  {
   "cell_type": "code",
   "execution_count": 14,
   "id": "6d46bfe7",
   "metadata": {},
   "outputs": [
    {
     "data": {
      "text/plain": [
       "['/home/smitesh22/Data/GIS Extracted/']"
      ]
     },
     "execution_count": 14,
     "metadata": {},
     "output_type": "execute_result"
    }
   ],
   "source": [
    "folders"
   ]
  },
  {
   "cell_type": "code",
   "execution_count": 21,
   "id": "34b4a9d6",
   "metadata": {},
   "outputs": [],
   "source": [
    "driver = ogr.GetDriverByName('ESRI Shapefile')\n",
    "dataset = driver.Open(\"/home/smitesh22/Data/GIS Extracted/N13E092_wgs84/planet_92,13_93,14-shp/shape\", 0)\n",
    "layer = dataset.GetLayer()"
   ]
  },
  {
   "cell_type": "code",
   "execution_count": 22,
   "id": "3261dc56",
   "metadata": {},
   "outputs": [],
   "source": [
    "extent = layer.GetExtent()"
   ]
  },
  {
   "cell_type": "code",
   "execution_count": 23,
   "id": "c4d6f2f1",
   "metadata": {},
   "outputs": [
    {
     "name": "stdout",
     "output_type": "stream",
     "text": [
      "Min X: 92.9719585\n",
      "Max X: 92.9719585\n",
      "Min Y: 13.2444483\n",
      "Max Y: 13.2444483\n"
     ]
    }
   ],
   "source": [
    "min_x, max_x, min_y, max_y = extent\n",
    "\n",
    "# Print the extent\n",
    "print(\"Min X:\", min_x)\n",
    "print(\"Max X:\", max_x)\n",
    "print(\"Min Y:\", min_y)\n",
    "print(\"Max Y:\", max_y)"
   ]
  },
  {
   "cell_type": "code",
   "execution_count": 17,
   "id": "bab160b1",
   "metadata": {},
   "outputs": [],
   "source": [
    "path = \"/home/smitesh22/Data/GIS Extracted/\""
   ]
  },
  {
   "cell_type": "code",
   "execution_count": 18,
   "id": "963357f8",
   "metadata": {},
   "outputs": [],
   "source": [
    "directories = [os.path.join(path, name) for name in os.listdir(path) if os.path.isdir(os.path.join(path, name))]"
   ]
  },
  {
   "cell_type": "code",
   "execution_count": 27,
   "id": "fa067ed4",
   "metadata": {},
   "outputs": [],
   "source": [
    "driver = ogr.GetDriverByName('ESRI Shapefile')\n",
    "file_paths = []\n",
    "for directory in directories:\n",
    "    for root, dirs, files in os.walk(directory):\n",
    "        for dir_name in dirs:\n",
    "            file_paths.append(os.path.join(root, dir_name))\n",
    "            "
   ]
  },
  {
   "cell_type": "code",
   "execution_count": 71,
   "id": "3c6944de",
   "metadata": {},
   "outputs": [
    {
     "name": "stdout",
     "output_type": "stream",
     "text": [
      "/home/smitesh22/Data/GIS Extracted/N13E092_wgs84/planet_92,13_93,14-shp/shape\n",
      "/home/smitesh22/Data/GIS Extracted/N09E092_wgs84/planet_92,9_93,10-shp/shape\n",
      "/home/smitesh22/Data/GIS Extracted/N15E073_wgs84/planet_73,15_74,16-shp/shape\n",
      "/home/smitesh22/Data/GIS Extracted/N19E072_wgs84/planet_72,19_73,20-shp/shape\n"
     ]
    }
   ],
   "source": [
    "driver = ogr.GetDriverByName('ESRI Shapefile')\n",
    "\n",
    "for shape_file in file_paths[1::2]:\n",
    "    match = re.findall(r'\\d+', shape_file)\n",
    "    match  = [int(num) for num in match[1:3]]\n",
    "    dataset = driver.Open(shape_file, 0)\n",
    "    layer = dataset.GetLayer()\n",
    "    extent = layer.GetExtent()\n",
    "    min_x, max_x, min_y, max_y = extent\n",
    "    coords = [int(np.round(coord)) for coord in extent]\n",
    "    \n",
    "    if sorted([coords[0], coords[2]]) != match :\n",
    "        print(shape_file)\n",
    "    \n",
    "     "
   ]
  },
  {
   "cell_type": "code",
   "execution_count": 39,
   "id": "cbe0b5ca",
   "metadata": {},
   "outputs": [
    {
     "data": {
      "text/plain": [
       "'/home/smitesh22/Data/GIS Extracted/N20E074_wgs84/planet_74,20_75,21-shp/shape'"
      ]
     },
     "execution_count": 39,
     "metadata": {},
     "output_type": "execute_result"
    }
   ],
   "source": []
  },
  {
   "cell_type": "code",
   "execution_count": null,
   "id": "2a575985",
   "metadata": {},
   "outputs": [],
   "source": []
  }
 ],
 "metadata": {
  "kernelspec": {
   "display_name": "Python 3 (ipykernel)",
   "language": "python",
   "name": "python3"
  },
  "language_info": {
   "codemirror_mode": {
    "name": "ipython",
    "version": 3
   },
   "file_extension": ".py",
   "mimetype": "text/x-python",
   "name": "python",
   "nbconvert_exporter": "python",
   "pygments_lexer": "ipython3",
   "version": "3.10.9"
  }
 },
 "nbformat": 4,
 "nbformat_minor": 5
}
