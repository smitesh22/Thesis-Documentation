{
 "cells": [
  {
   "cell_type": "code",
   "execution_count": 1,
   "id": "ee41735f",
   "metadata": {},
   "outputs": [],
   "source": [
    "import numpy as np\n",
    "from tqdm import tqdm\n",
    "import torch\n",
    "import glob\n",
    "from PIL import Image\n",
    "import re"
   ]
  },
  {
   "cell_type": "code",
   "execution_count": 2,
   "id": "ee45821f",
   "metadata": {},
   "outputs": [],
   "source": [
    "file = r\"/home/smitesh22/Data/DEM/N21E074_wgs84.tif\""
   ]
  },
  {
   "cell_type": "code",
   "execution_count": 3,
   "id": "87b14c13",
   "metadata": {},
   "outputs": [],
   "source": [
    "im = Image.open(file)"
   ]
  },
  {
   "cell_type": "code",
   "execution_count": 4,
   "id": "8cb45a2d",
   "metadata": {},
   "outputs": [],
   "source": [
    "data = np.asanyarray(im)"
   ]
  },
  {
   "cell_type": "code",
   "execution_count": 5,
   "id": "2fd9d63e",
   "metadata": {},
   "outputs": [],
   "source": [
    "import numpy as np\n",
    "\n",
    "def calculate_slope(dem_matrix, resolution):\n",
    "    rows, cols = dem_matrix.shape\n",
    "    \n",
    "    # Create a new matrix to store the slope values\n",
    "    slope_matrix = np.zeros((rows, cols))\n",
    "    \n",
    "    # Iterate over each cell in the DEM matrix\n",
    "    for i in range(1, rows - 1):\n",
    "        for j in range(1, cols - 1):\n",
    "            # Calculate the height differences between neighboring cells\n",
    "            delta_z_x = dem_matrix[i, j+1] - dem_matrix[i, j-1]\n",
    "            delta_z_y = dem_matrix[i+1, j] - dem_matrix[i-1, j]\n",
    "            \n",
    "            # Calculate the horizontal and vertical distances\n",
    "            distance_x = 2 * resolution\n",
    "            distance_y = 2 * resolution\n",
    "            \n",
    "            # Calculate the slope using the formula: slope = arctan(delta z / distance)\n",
    "            slope_x = np.arctan(delta_z_x / distance_x)\n",
    "            slope_y = np.arctan(delta_z_y / distance_y)\n",
    "            \n",
    "            # Calculate the overall slope magnitude\n",
    "            slope = np.sqrt(slope_x**2 + slope_y**2)\n",
    "            \n",
    "            # Assign the slope value to the corresponding cell in the slope matrix\n",
    "            slope_matrix[i, j] = slope\n",
    "    \n",
    "    return slope_matrix\n",
    "\n",
    "# Example usage\n",
    "resolution = 30  # Spatial resolution in meters\n",
    "\n",
    "slope_data = calculate_slope(data, resolution)\n",
    "\n"
   ]
  },
  {
   "cell_type": "code",
   "execution_count": 6,
   "id": "bed7f145",
   "metadata": {},
   "outputs": [],
   "source": [
    "device = torch.device('cuda' if torch.cuda.is_available() else 'cpu')\n"
   ]
  },
  {
   "cell_type": "code",
   "execution_count": 7,
   "id": "f55aade4",
   "metadata": {},
   "outputs": [
    {
     "name": "stderr",
     "output_type": "stream",
     "text": [
      "100%|███████████████████████████████████████████████████████████████████████████████████████████████████████████████████████████████████████████████████████████████████████████████████████████████████████████████████████████████████████████████████████████████████████████████████████| 50/50 [00:13<00:00,  3.55it/s]"
     ]
    }
   ],
   "source": [
    "file_paths = glob.glob('/home/smitesh22/Data/DEM/*.tif')\n",
    "\n",
    "progress_bar = tqdm(total=len(file_paths))\n",
    "pattern = r'\\/(\\w+)\\.tif$'\n",
    "elev_dict = {}\n",
    "dem_dict = {}\n",
    "for i, location in enumerate(file_paths):\n",
    "    match = re.search(pattern, location)\n",
    "    image = np.asanyarray(Image.open(location))\n",
    "    \n",
    "    dem_dict[match.group(1)] = image\n",
    "    #out = calculate_slope(image, 30)\n",
    "    #out = torch.tensor(out)\n",
    "    \n",
    "    #elev_dict[match.group(1)] = out\n",
    "    progress_bar.update(1)\n",
    "\n"
   ]
  },
  {
   "cell_type": "code",
   "execution_count": null,
   "id": "3afa054e",
   "metadata": {},
   "outputs": [],
   "source": [
    "#torch.save(dem_dict, '/home/smitesh22/Data/DEM_Elevation_data.pt')"
   ]
  },
  {
   "cell_type": "code",
   "execution_count": null,
   "id": "8404fe6e",
   "metadata": {},
   "outputs": [],
   "source": []
  }
 ],
 "metadata": {
  "kernelspec": {
   "display_name": "Python 3 (ipykernel)",
   "language": "python",
   "name": "python3"
  },
  "language_info": {
   "codemirror_mode": {
    "name": "ipython",
    "version": 3
   },
   "file_extension": ".py",
   "mimetype": "text/x-python",
   "name": "python",
   "nbconvert_exporter": "python",
   "pygments_lexer": "ipython3",
   "version": "3.10.9"
  }
 },
 "nbformat": 4,
 "nbformat_minor": 5
}
