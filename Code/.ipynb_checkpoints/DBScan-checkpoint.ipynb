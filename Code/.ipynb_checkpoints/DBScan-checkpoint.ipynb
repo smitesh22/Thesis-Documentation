{
 "cells": [
  {
   "cell_type": "code",
   "execution_count": 19,
   "id": "02711186",
   "metadata": {},
   "outputs": [],
   "source": [
    "import torch\n",
    "import torch.nn as nn\n",
    "from AutoEncoder import AutoEncoder"
   ]
  },
  {
   "cell_type": "code",
   "execution_count": 21,
   "id": "79f22303",
   "metadata": {},
   "outputs": [],
   "source": [
    "model = AutoEncoder()"
   ]
  },
  {
   "cell_type": "code",
   "execution_count": 23,
   "id": "95a60891",
   "metadata": {},
   "outputs": [],
   "source": [
    "load_weights = torch.load('DEM_model_weights.pt')"
   ]
  },
  {
   "cell_type": "code",
   "execution_count": 24,
   "id": "19950a2d",
   "metadata": {},
   "outputs": [
    {
     "data": {
      "text/plain": [
       "<All keys matched successfully>"
      ]
     },
     "execution_count": 24,
     "metadata": {},
     "output_type": "execute_result"
    }
   ],
   "source": [
    "model.load_state_dict(load_model)"
   ]
  },
  {
   "cell_type": "code",
   "execution_count": 26,
   "id": "95c47778",
   "metadata": {},
   "outputs": [
    {
     "ename": "NameError",
     "evalue": "name 'load' is not defined",
     "output_type": "error",
     "traceback": [
      "\u001b[0;31m---------------------------------------------------------------------------\u001b[0m",
      "\u001b[0;31mNameError\u001b[0m                                 Traceback (most recent call last)",
      "Cell \u001b[0;32mIn[26], line 3\u001b[0m\n\u001b[1;32m      1\u001b[0m embedded_dict \u001b[38;5;241m=\u001b[39m {}\n\u001b[0;32m----> 3\u001b[0m \u001b[38;5;28;01mfor\u001b[39;00m data \u001b[38;5;129;01min\u001b[39;00m \u001b[43mload\u001b[49m:\n\u001b[1;32m      4\u001b[0m     embedded_dict[data] \u001b[38;5;241m=\u001b[39m model\u001b[38;5;241m.\u001b[39mencoder(load[data]\u001b[38;5;241m.\u001b[39mfloat())\n\u001b[1;32m      5\u001b[0m     \u001b[38;5;28mprint\u001b[39m(\u001b[38;5;124m\"\u001b[39m\u001b[38;5;124mone dones\u001b[39m\u001b[38;5;124m\"\u001b[39m)\n",
      "\u001b[0;31mNameError\u001b[0m: name 'load' is not defined"
     ]
    }
   ],
   "source": [
    "embedded_dict = {}\n",
    "\n",
    "for data in load:\n",
    "    embedded_dict[data] = model.encoder(load[data].float())\n",
    "    print(\"one dones\")"
   ]
  },
  {
   "cell_type": "code",
   "execution_count": 7,
   "id": "58cd7ea7",
   "metadata": {},
   "outputs": [],
   "source": [
    "load_data = torch.load(r'/home/smitesh22/Data/DEM_slope_tensorv2.pt')"
   ]
  },
  {
   "cell_type": "code",
   "execution_count": null,
   "id": "c0355d3f",
   "metadata": {},
   "outputs": [],
   "source": [
    "embedded_dict = {}\n",
    "for data in load_data:\n",
    "    embedded_data = model.encoder(load_data[data].float())\n",
    "    embedded_dict[data] = embedded_data"
   ]
  },
  {
   "cell_type": "code",
   "execution_count": 16,
   "id": "f4a1c579",
   "metadata": {},
   "outputs": [
    {
     "ename": "NameError",
     "evalue": "name 'model' is not defined",
     "output_type": "error",
     "traceback": [
      "\u001b[0;31m---------------------------------------------------------------------------\u001b[0m",
      "\u001b[0;31mNameError\u001b[0m                                 Traceback (most recent call last)",
      "Cell \u001b[0;32mIn[16], line 1\u001b[0m\n\u001b[0;32m----> 1\u001b[0m \u001b[43mmodel\u001b[49m\u001b[38;5;241m.\u001b[39mstate_dict()\n",
      "\u001b[0;31mNameError\u001b[0m: name 'model' is not defined"
     ]
    }
   ],
   "source": [
    "model.state_dict()"
   ]
  },
  {
   "cell_type": "code",
   "execution_count": null,
   "id": "dd681d62",
   "metadata": {},
   "outputs": [],
   "source": []
  }
 ],
 "metadata": {
  "kernelspec": {
   "display_name": "Python 3 (ipykernel)",
   "language": "python",
   "name": "python3"
  },
  "language_info": {
   "codemirror_mode": {
    "name": "ipython",
    "version": 3
   },
   "file_extension": ".py",
   "mimetype": "text/x-python",
   "name": "python",
   "nbconvert_exporter": "python",
   "pygments_lexer": "ipython3",
   "version": "3.10.9"
  }
 },
 "nbformat": 4,
 "nbformat_minor": 5
}
