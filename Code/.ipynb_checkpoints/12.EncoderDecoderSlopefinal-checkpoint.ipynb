{
 "cells": [
  {
   "cell_type": "code",
   "execution_count": 1,
   "id": "3cea1e55",
   "metadata": {
    "executionInfo": {
     "elapsed": 1752,
     "status": "ok",
     "timestamp": 1691118549599,
     "user": {
      "displayName": "Smitesh Patil",
      "userId": "02654865415588935724"
     },
     "user_tz": -60
    },
    "id": "3cea1e55"
   },
   "outputs": [],
   "source": [
    "import torch\n",
    "import torch.nn as nn\n",
    "import torch.optim as optim\n",
    "from tqdm import tqdm\n",
    "from torch.utils.data import Dataset, DataLoader, random_split"
   ]
  },
  {
   "cell_type": "code",
   "execution_count": 2,
   "id": "GrMtSRcBjLug",
   "metadata": {
    "colab": {
     "base_uri": "https://localhost:8080/"
    },
    "executionInfo": {
     "elapsed": 1454,
     "status": "ok",
     "timestamp": 1691118551045,
     "user": {
      "displayName": "Smitesh Patil",
      "userId": "02654865415588935724"
     },
     "user_tz": -60
    },
    "id": "GrMtSRcBjLug",
    "outputId": "9dcb4a27-eac5-4c01-9065-70d6797ae023"
   },
   "outputs": [
    {
     "name": "stdout",
     "output_type": "stream",
     "text": [
      "Drive already mounted at /content/drive; to attempt to forcibly remount, call drive.mount(\"/content/drive\", force_remount=True).\n"
     ]
    }
   ],
   "source": [
    "from google.colab import drive\n",
    "drive.mount('/content/drive')"
   ]
  },
  {
   "cell_type": "code",
   "execution_count": 3,
   "id": "e62ce4c3",
   "metadata": {
    "executionInfo": {
     "elapsed": 6,
     "status": "ok",
     "timestamp": 1691118551046,
     "user": {
      "displayName": "Smitesh Patil",
      "userId": "02654865415588935724"
     },
     "user_tz": -60
    },
    "id": "e62ce4c3"
   },
   "outputs": [],
   "source": [
    "class AutoEncoder(nn.Module):\n",
    "    def __init__(self):\n",
    "\n",
    "        super().__init__()\n",
    "        self.encoder = nn.Sequential( # input : 3601*3601\n",
    "            nn.Conv2d(1, 32, kernel_size=(15, 15), stride=4, padding=1),\n",
    "            nn.BatchNorm2d(32),\n",
    "            nn.ReLU(),\n",
    "            nn.Dropout(0.2),\n",
    "            nn.Conv2d(32, 64, kernel_size=(8, 8), stride=4, padding=1),\n",
    "            nn.BatchNorm2d(64),\n",
    "            nn.ReLU(),\n",
    "            nn.Dropout(0.2),\n",
    "            nn.Conv2d(64, 128, kernel_size=(4, 4), stride=4, padding=1),\n",
    "            nn.BatchNorm2d(128),\n",
    "            nn.ReLU(),\n",
    "            nn.Dropout(0.2),\n",
    "            nn.Conv2d(128, 256, kernel_size=(4, 4), stride=2, padding=1),\n",
    "            nn.BatchNorm2d(256),\n",
    "            nn.ReLU(),\n",
    "            nn.Dropout(0.2),\n",
    "            nn.Conv2d(256, 512, kernel_size=(4, 4), stride=2, padding=1),\n",
    "            nn.BatchNorm2d(512),\n",
    "            nn.ReLU(),\n",
    "            nn.Dropout(0.2),\n",
    "            nn.Conv2d(512, 1024, kernel_size=(4, 4), stride=2, padding=1),\n",
    "            nn.BatchNorm2d(1024),\n",
    "            nn.ReLU(),\n",
    "            nn.Dropout(0.2),\n",
    "            nn.Conv2d(1024, 2048, kernel_size=(4, 4), stride=2, padding=1),\n",
    "            nn.BatchNorm2d(2048),\n",
    "            nn.ReLU(),\n",
    "            nn.Dropout(0.2),\n",
    "            nn.Flatten(),\n",
    "            nn.Linear(18432, 5000),\n",
    "            nn.ReLU(),\n",
    "            nn.Linear(5000, 1000),\n",
    "            nn.ReLU()\n",
    "        )\n",
    "\n",
    "        self.decoder = nn.Sequential(\n",
    "            nn.Linear(1000, 5000),\n",
    "            nn.ReLU(),\n",
    "            nn.Linear(5000, 18432),\n",
    "            nn.ReLU(),\n",
    "            nn.Unflatten(1, (2048, 3, 3)),\n",
    "            nn.ConvTranspose2d(2048, 1024, kernel_size=(4, 4), stride=2, padding=1, output_padding=1),\n",
    "            nn.BatchNorm2d(1024),\n",
    "            nn.ReLU(),\n",
    "            nn.Dropout(0.2),\n",
    "            nn.ConvTranspose2d(1024, 512, kernel_size=(4, 4), stride=2, padding=1, output_padding=0),\n",
    "            nn.BatchNorm2d(512),\n",
    "            nn.ReLU(),\n",
    "            nn.Dropout(0.2),\n",
    "            nn.ConvTranspose2d(512, 256, kernel_size=(4, 4), stride=2, padding=1, output_padding=0),\n",
    "            nn.BatchNorm2d(256),\n",
    "            nn.ReLU(),\n",
    "            nn.Dropout(0.2),\n",
    "            nn.ConvTranspose2d(256, 128, kernel_size=(4, 4), stride=2, padding=1, output_padding=0),\n",
    "            nn.BatchNorm2d(128),\n",
    "            nn.ReLU(),\n",
    "            nn.Dropout(0.2),\n",
    "            nn.ConvTranspose2d(128, 64, kernel_size=(4, 4), stride=4, padding=1, output_padding=2),\n",
    "            nn.BatchNorm2d(64),\n",
    "            nn.ReLU(),\n",
    "            nn.Dropout(0.2),\n",
    "            nn.ConvTranspose2d(64, 32, kernel_size=(8, 8), stride=4, padding=1, output_padding=0),\n",
    "            nn.BatchNorm2d(32),\n",
    "            nn.ReLU(),\n",
    "            nn.Dropout(0.2),\n",
    "            nn.ConvTranspose2d(32, 1, kernel_size=(15, 15), stride=4, padding=1, output_padding=0),\n",
    "            nn.Sigmoid()\n",
    "\n",
    "        )\n",
    "\n",
    "    def forward(self, x):\n",
    "        x = self.encoder(x)\n",
    "        x = self.decoder(x)\n",
    "        return x\n",
    "\n",
    "    def print_shapes(self, x):\n",
    "      print(f\"----------ENCODER----------\")\n",
    "      print(f\"Input shape : {x.shape}\")\n",
    "\n",
    "      for i, layer in enumerate(self.encoder):\n",
    "          x = layer(x)\n",
    "          print(f\"After layer {i+1} ({type(layer).__name__}): {x.shape}\")\n",
    "\n",
    "      print(f\"----------DECODER----------\")\n",
    "\n",
    "      for i, layer in enumerate(self.decoder):\n",
    "          x = layer(x)\n",
    "          print(f\"After layer {i+1} ({type(layer).__name__}): {x.shape}\")\n"
   ]
  },
  {
   "cell_type": "code",
   "execution_count": 4,
   "id": "1b07191f",
   "metadata": {
    "executionInfo": {
     "elapsed": 9607,
     "status": "ok",
     "timestamp": 1691118560648,
     "user": {
      "displayName": "Smitesh Patil",
      "userId": "02654865415588935724"
     },
     "user_tz": -60
    },
    "id": "1b07191f"
   },
   "outputs": [],
   "source": [
    "load = torch.load(r'/content/drive/My Drive/Data/DEM_slope_tensorv2.pt')"
   ]
  },
  {
   "cell_type": "code",
   "execution_count": 5,
   "id": "04c43514",
   "metadata": {
    "executionInfo": {
     "elapsed": 31,
     "status": "ok",
     "timestamp": 1691118560649,
     "user": {
      "displayName": "Smitesh Patil",
      "userId": "02654865415588935724"
     },
     "user_tz": -60
    },
    "id": "04c43514"
   },
   "outputs": [],
   "source": [
    "class DEM_Dataset(Dataset):\n",
    "    def __init__(self, data):\n",
    "        self.filename = list(data.keys())\n",
    "        self.data = data\n",
    "\n",
    "    def __len__(self):\n",
    "        return len(self.filename)\n",
    "\n",
    "    def __getitem__(self, index):\n",
    "        filename = self.filename[index]\n",
    "        data = self.data[filename]\n",
    "        return data"
   ]
  },
  {
   "cell_type": "code",
   "execution_count": 6,
   "id": "3b6001fc",
   "metadata": {
    "executionInfo": {
     "elapsed": 2275,
     "status": "ok",
     "timestamp": 1691118562895,
     "user": {
      "displayName": "Smitesh Patil",
      "userId": "02654865415588935724"
     },
     "user_tz": -60
    },
    "id": "3b6001fc"
   },
   "outputs": [],
   "source": [
    "model = AutoEncoder()"
   ]
  },
  {
   "cell_type": "code",
   "execution_count": 7,
   "id": "d4fbef1a",
   "metadata": {
    "colab": {
     "base_uri": "https://localhost:8080/"
    },
    "executionInfo": {
     "elapsed": 2872,
     "status": "ok",
     "timestamp": 1691118565740,
     "user": {
      "displayName": "Smitesh Patil",
      "userId": "02654865415588935724"
     },
     "user_tz": -60
    },
    "id": "d4fbef1a",
    "outputId": "f77090bf-8bc7-42f5-c77c-7b5e49cddb5f"
   },
   "outputs": [
    {
     "name": "stdout",
     "output_type": "stream",
     "text": [
      "----------ENCODER----------\n",
      "Input shape : torch.Size([1, 1, 3601, 3601])\n",
      "After layer 1 (Conv2d): torch.Size([1, 32, 898, 898])\n",
      "After layer 2 (BatchNorm2d): torch.Size([1, 32, 898, 898])\n",
      "After layer 3 (ReLU): torch.Size([1, 32, 898, 898])\n",
      "After layer 4 (Dropout): torch.Size([1, 32, 898, 898])\n",
      "After layer 5 (Conv2d): torch.Size([1, 64, 224, 224])\n",
      "After layer 6 (BatchNorm2d): torch.Size([1, 64, 224, 224])\n",
      "After layer 7 (ReLU): torch.Size([1, 64, 224, 224])\n",
      "After layer 8 (Dropout): torch.Size([1, 64, 224, 224])\n",
      "After layer 9 (Conv2d): torch.Size([1, 128, 56, 56])\n",
      "After layer 10 (BatchNorm2d): torch.Size([1, 128, 56, 56])\n",
      "After layer 11 (ReLU): torch.Size([1, 128, 56, 56])\n",
      "After layer 12 (Dropout): torch.Size([1, 128, 56, 56])\n",
      "After layer 13 (Conv2d): torch.Size([1, 256, 28, 28])\n",
      "After layer 14 (BatchNorm2d): torch.Size([1, 256, 28, 28])\n",
      "After layer 15 (ReLU): torch.Size([1, 256, 28, 28])\n",
      "After layer 16 (Dropout): torch.Size([1, 256, 28, 28])\n",
      "After layer 17 (Conv2d): torch.Size([1, 512, 14, 14])\n",
      "After layer 18 (BatchNorm2d): torch.Size([1, 512, 14, 14])\n",
      "After layer 19 (ReLU): torch.Size([1, 512, 14, 14])\n",
      "After layer 20 (Dropout): torch.Size([1, 512, 14, 14])\n",
      "After layer 21 (Conv2d): torch.Size([1, 1024, 7, 7])\n",
      "After layer 22 (BatchNorm2d): torch.Size([1, 1024, 7, 7])\n",
      "After layer 23 (ReLU): torch.Size([1, 1024, 7, 7])\n",
      "After layer 24 (Dropout): torch.Size([1, 1024, 7, 7])\n",
      "After layer 25 (Conv2d): torch.Size([1, 2048, 3, 3])\n",
      "After layer 26 (BatchNorm2d): torch.Size([1, 2048, 3, 3])\n",
      "After layer 27 (ReLU): torch.Size([1, 2048, 3, 3])\n",
      "After layer 28 (Dropout): torch.Size([1, 2048, 3, 3])\n",
      "After layer 29 (Flatten): torch.Size([1, 18432])\n",
      "After layer 30 (Linear): torch.Size([1, 5000])\n",
      "After layer 31 (ReLU): torch.Size([1, 5000])\n",
      "After layer 32 (Linear): torch.Size([1, 1000])\n",
      "After layer 33 (ReLU): torch.Size([1, 1000])\n",
      "----------DECODER----------\n",
      "After layer 1 (Linear): torch.Size([1, 5000])\n",
      "After layer 2 (ReLU): torch.Size([1, 5000])\n",
      "After layer 3 (Linear): torch.Size([1, 18432])\n",
      "After layer 4 (ReLU): torch.Size([1, 18432])\n",
      "After layer 5 (Unflatten): torch.Size([1, 2048, 3, 3])\n",
      "After layer 6 (ConvTranspose2d): torch.Size([1, 1024, 7, 7])\n",
      "After layer 7 (BatchNorm2d): torch.Size([1, 1024, 7, 7])\n",
      "After layer 8 (ReLU): torch.Size([1, 1024, 7, 7])\n",
      "After layer 9 (Dropout): torch.Size([1, 1024, 7, 7])\n",
      "After layer 10 (ConvTranspose2d): torch.Size([1, 512, 14, 14])\n",
      "After layer 11 (BatchNorm2d): torch.Size([1, 512, 14, 14])\n",
      "After layer 12 (ReLU): torch.Size([1, 512, 14, 14])\n",
      "After layer 13 (Dropout): torch.Size([1, 512, 14, 14])\n",
      "After layer 14 (ConvTranspose2d): torch.Size([1, 256, 28, 28])\n",
      "After layer 15 (BatchNorm2d): torch.Size([1, 256, 28, 28])\n",
      "After layer 16 (ReLU): torch.Size([1, 256, 28, 28])\n",
      "After layer 17 (Dropout): torch.Size([1, 256, 28, 28])\n",
      "After layer 18 (ConvTranspose2d): torch.Size([1, 128, 56, 56])\n",
      "After layer 19 (BatchNorm2d): torch.Size([1, 128, 56, 56])\n",
      "After layer 20 (ReLU): torch.Size([1, 128, 56, 56])\n",
      "After layer 21 (Dropout): torch.Size([1, 128, 56, 56])\n",
      "After layer 22 (ConvTranspose2d): torch.Size([1, 64, 224, 224])\n",
      "After layer 23 (BatchNorm2d): torch.Size([1, 64, 224, 224])\n",
      "After layer 24 (ReLU): torch.Size([1, 64, 224, 224])\n",
      "After layer 25 (Dropout): torch.Size([1, 64, 224, 224])\n",
      "After layer 26 (ConvTranspose2d): torch.Size([1, 32, 898, 898])\n",
      "After layer 27 (BatchNorm2d): torch.Size([1, 32, 898, 898])\n",
      "After layer 28 (ReLU): torch.Size([1, 32, 898, 898])\n",
      "After layer 29 (Dropout): torch.Size([1, 32, 898, 898])\n",
      "After layer 30 (ConvTranspose2d): torch.Size([1, 1, 3601, 3601])\n",
      "After layer 31 (Sigmoid): torch.Size([1, 1, 3601, 3601])\n"
     ]
    }
   ],
   "source": [
    "dummy_input = torch.randn(1, 1, 3601, 3601)\n",
    "model.print_shapes(dummy_input)"
   ]
  },
  {
   "cell_type": "code",
   "execution_count": 8,
   "id": "e81dcacd",
   "metadata": {
    "executionInfo": {
     "elapsed": 9,
     "status": "ok",
     "timestamp": 1691118565741,
     "user": {
      "displayName": "Smitesh Patil",
      "userId": "02654865415588935724"
     },
     "user_tz": -60
    },
    "id": "e81dcacd"
   },
   "outputs": [],
   "source": [
    "data = DEM_Dataset(load)\n",
    "batch_size = 4\n",
    "train_size = 35\n",
    "test_size = 7\n",
    "val_size = 8\n",
    "\n",
    "train_dataset, test_dataset, val_dataset = random_split(data, [train_size, test_size, val_size])\n",
    "\n",
    "train_loader = DataLoader(train_dataset, batch_size=batch_size, shuffle=True)\n",
    "test_loader = DataLoader(test_dataset, batch_size=batch_size, shuffle=False)\n",
    "val_loader = DataLoader(val_dataset, batch_size=batch_size, shuffle=False)"
   ]
  },
  {
   "cell_type": "code",
   "execution_count": 9,
   "id": "18b96634",
   "metadata": {
    "colab": {
     "base_uri": "https://localhost:8080/"
    },
    "executionInfo": {
     "elapsed": 5150,
     "status": "ok",
     "timestamp": 1691118570885,
     "user": {
      "displayName": "Smitesh Patil",
      "userId": "02654865415588935724"
     },
     "user_tz": -60
    },
    "id": "18b96634",
    "outputId": "4a43ecb5-e771-4fe4-fdfa-71005b70cb62"
   },
   "outputs": [
    {
     "data": {
      "text/plain": [
       "AutoEncoder(\n",
       "  (encoder): Sequential(\n",
       "    (0): Conv2d(1, 32, kernel_size=(15, 15), stride=(4, 4), padding=(1, 1))\n",
       "    (1): BatchNorm2d(32, eps=1e-05, momentum=0.1, affine=True, track_running_stats=True)\n",
       "    (2): ReLU()\n",
       "    (3): Dropout(p=0.2, inplace=False)\n",
       "    (4): Conv2d(32, 64, kernel_size=(8, 8), stride=(4, 4), padding=(1, 1))\n",
       "    (5): BatchNorm2d(64, eps=1e-05, momentum=0.1, affine=True, track_running_stats=True)\n",
       "    (6): ReLU()\n",
       "    (7): Dropout(p=0.2, inplace=False)\n",
       "    (8): Conv2d(64, 128, kernel_size=(4, 4), stride=(4, 4), padding=(1, 1))\n",
       "    (9): BatchNorm2d(128, eps=1e-05, momentum=0.1, affine=True, track_running_stats=True)\n",
       "    (10): ReLU()\n",
       "    (11): Dropout(p=0.2, inplace=False)\n",
       "    (12): Conv2d(128, 256, kernel_size=(4, 4), stride=(2, 2), padding=(1, 1))\n",
       "    (13): BatchNorm2d(256, eps=1e-05, momentum=0.1, affine=True, track_running_stats=True)\n",
       "    (14): ReLU()\n",
       "    (15): Dropout(p=0.2, inplace=False)\n",
       "    (16): Conv2d(256, 512, kernel_size=(4, 4), stride=(2, 2), padding=(1, 1))\n",
       "    (17): BatchNorm2d(512, eps=1e-05, momentum=0.1, affine=True, track_running_stats=True)\n",
       "    (18): ReLU()\n",
       "    (19): Dropout(p=0.2, inplace=False)\n",
       "    (20): Conv2d(512, 1024, kernel_size=(4, 4), stride=(2, 2), padding=(1, 1))\n",
       "    (21): BatchNorm2d(1024, eps=1e-05, momentum=0.1, affine=True, track_running_stats=True)\n",
       "    (22): ReLU()\n",
       "    (23): Dropout(p=0.2, inplace=False)\n",
       "    (24): Conv2d(1024, 2048, kernel_size=(4, 4), stride=(2, 2), padding=(1, 1))\n",
       "    (25): BatchNorm2d(2048, eps=1e-05, momentum=0.1, affine=True, track_running_stats=True)\n",
       "    (26): ReLU()\n",
       "    (27): Dropout(p=0.2, inplace=False)\n",
       "    (28): Flatten(start_dim=1, end_dim=-1)\n",
       "    (29): Linear(in_features=18432, out_features=5000, bias=True)\n",
       "    (30): ReLU()\n",
       "    (31): Linear(in_features=5000, out_features=1000, bias=True)\n",
       "    (32): ReLU()\n",
       "  )\n",
       "  (decoder): Sequential(\n",
       "    (0): Linear(in_features=1000, out_features=5000, bias=True)\n",
       "    (1): ReLU()\n",
       "    (2): Linear(in_features=5000, out_features=18432, bias=True)\n",
       "    (3): ReLU()\n",
       "    (4): Unflatten(dim=1, unflattened_size=(2048, 3, 3))\n",
       "    (5): ConvTranspose2d(2048, 1024, kernel_size=(4, 4), stride=(2, 2), padding=(1, 1), output_padding=(1, 1))\n",
       "    (6): BatchNorm2d(1024, eps=1e-05, momentum=0.1, affine=True, track_running_stats=True)\n",
       "    (7): ReLU()\n",
       "    (8): Dropout(p=0.2, inplace=False)\n",
       "    (9): ConvTranspose2d(1024, 512, kernel_size=(4, 4), stride=(2, 2), padding=(1, 1))\n",
       "    (10): BatchNorm2d(512, eps=1e-05, momentum=0.1, affine=True, track_running_stats=True)\n",
       "    (11): ReLU()\n",
       "    (12): Dropout(p=0.2, inplace=False)\n",
       "    (13): ConvTranspose2d(512, 256, kernel_size=(4, 4), stride=(2, 2), padding=(1, 1))\n",
       "    (14): BatchNorm2d(256, eps=1e-05, momentum=0.1, affine=True, track_running_stats=True)\n",
       "    (15): ReLU()\n",
       "    (16): Dropout(p=0.2, inplace=False)\n",
       "    (17): ConvTranspose2d(256, 128, kernel_size=(4, 4), stride=(2, 2), padding=(1, 1))\n",
       "    (18): BatchNorm2d(128, eps=1e-05, momentum=0.1, affine=True, track_running_stats=True)\n",
       "    (19): ReLU()\n",
       "    (20): Dropout(p=0.2, inplace=False)\n",
       "    (21): ConvTranspose2d(128, 64, kernel_size=(4, 4), stride=(4, 4), padding=(1, 1), output_padding=(2, 2))\n",
       "    (22): BatchNorm2d(64, eps=1e-05, momentum=0.1, affine=True, track_running_stats=True)\n",
       "    (23): ReLU()\n",
       "    (24): Dropout(p=0.2, inplace=False)\n",
       "    (25): ConvTranspose2d(64, 32, kernel_size=(8, 8), stride=(4, 4), padding=(1, 1))\n",
       "    (26): BatchNorm2d(32, eps=1e-05, momentum=0.1, affine=True, track_running_stats=True)\n",
       "    (27): ReLU()\n",
       "    (28): Dropout(p=0.2, inplace=False)\n",
       "    (29): ConvTranspose2d(32, 1, kernel_size=(15, 15), stride=(4, 4), padding=(1, 1))\n",
       "    (30): Sigmoid()\n",
       "  )\n",
       ")"
      ]
     },
     "execution_count": 9,
     "metadata": {},
     "output_type": "execute_result"
    }
   ],
   "source": [
    "model = AutoEncoder()\n",
    "device = torch.device('cuda' if torch.cuda.is_available() else 'cpu')\n",
    "model.to(device)\n"
   ]
  },
  {
   "cell_type": "code",
   "execution_count": 10,
   "id": "4lJaahWkm4Xg",
   "metadata": {
    "colab": {
     "base_uri": "https://localhost:8080/"
    },
    "executionInfo": {
     "elapsed": 311141,
     "status": "ok",
     "timestamp": 1691118881996,
     "user": {
      "displayName": "Smitesh Patil",
      "userId": "02654865415588935724"
     },
     "user_tz": -60
    },
    "id": "4lJaahWkm4Xg",
    "outputId": "27919c24-910b-4e14-810e-5c5099777cad"
   },
   "outputs": [
    {
     "name": "stderr",
     "output_type": "stream",
     "text": [
      "Epochs:   1%|          | 1/100 [00:04<07:31,  4.56s/it]"
     ]
    },
    {
     "name": "stdout",
     "output_type": "stream",
     "text": [
      "Epoch 1/100, Loss: 0.17685504257678986, Val Loss: 0.14070627465844154\n"
     ]
    },
    {
     "name": "stderr",
     "output_type": "stream",
     "text": [
      "\r",
      "Epochs:   2%|▏         | 2/100 [00:07<05:47,  3.55s/it]"
     ]
    },
    {
     "name": "stdout",
     "output_type": "stream",
     "text": [
      "Epoch 2/100, Loss: 0.17962798476219177, Val Loss: 0.13944503292441368\n"
     ]
    },
    {
     "name": "stderr",
     "output_type": "stream",
     "text": [
      "\r",
      "Epochs:   3%|▎         | 3/100 [00:10<05:17,  3.28s/it]"
     ]
    },
    {
     "name": "stdout",
     "output_type": "stream",
     "text": [
      "Epoch 3/100, Loss: 0.20102757215499878, Val Loss: 0.13768117129802704\n"
     ]
    },
    {
     "name": "stderr",
     "output_type": "stream",
     "text": [
      "\r",
      "Epochs:   4%|▍         | 4/100 [00:13<05:15,  3.28s/it]"
     ]
    },
    {
     "name": "stdout",
     "output_type": "stream",
     "text": [
      "Epoch 4/100, Loss: 0.18046070635318756, Val Loss: 0.13570014387369156\n"
     ]
    },
    {
     "name": "stderr",
     "output_type": "stream",
     "text": [
      "\r",
      "Epochs:   5%|▌         | 5/100 [00:16<05:06,  3.23s/it]"
     ]
    },
    {
     "name": "stdout",
     "output_type": "stream",
     "text": [
      "Epoch 5/100, Loss: 0.13555528223514557, Val Loss: 0.13375072926282883\n"
     ]
    },
    {
     "name": "stderr",
     "output_type": "stream",
     "text": [
      "\r",
      "Epochs:   6%|▌         | 6/100 [00:19<04:55,  3.14s/it]"
     ]
    },
    {
     "name": "stdout",
     "output_type": "stream",
     "text": [
      "Epoch 6/100, Loss: 0.14664360880851746, Val Loss: 0.1322716772556305\n"
     ]
    },
    {
     "name": "stderr",
     "output_type": "stream",
     "text": [
      "\r",
      "Epochs:   7%|▋         | 7/100 [00:22<04:48,  3.11s/it]"
     ]
    },
    {
     "name": "stdout",
     "output_type": "stream",
     "text": [
      "Epoch 7/100, Loss: 0.1370866894721985, Val Loss: 0.1310119479894638\n"
     ]
    },
    {
     "name": "stderr",
     "output_type": "stream",
     "text": [
      "\r",
      "Epochs:   8%|▊         | 8/100 [00:25<04:48,  3.14s/it]"
     ]
    },
    {
     "name": "stdout",
     "output_type": "stream",
     "text": [
      "Epoch 8/100, Loss: 0.12935586273670197, Val Loss: 0.1291475035250187\n"
     ]
    },
    {
     "name": "stderr",
     "output_type": "stream",
     "text": [
      "\r",
      "Epochs:   9%|▉         | 9/100 [00:29<04:46,  3.14s/it]"
     ]
    },
    {
     "name": "stdout",
     "output_type": "stream",
     "text": [
      "Epoch 9/100, Loss: 0.1759214997291565, Val Loss: 0.12664056196808815\n"
     ]
    },
    {
     "name": "stderr",
     "output_type": "stream",
     "text": [
      "\r",
      "Epochs:  10%|█         | 10/100 [00:32<04:38,  3.09s/it]"
     ]
    },
    {
     "name": "stdout",
     "output_type": "stream",
     "text": [
      "Epoch 10/100, Loss: 0.19437091052532196, Val Loss: 0.12453725934028625\n"
     ]
    },
    {
     "name": "stderr",
     "output_type": "stream",
     "text": [
      "\r",
      "Epochs:  11%|█         | 11/100 [00:35<04:33,  3.08s/it]"
     ]
    },
    {
     "name": "stdout",
     "output_type": "stream",
     "text": [
      "Epoch 11/100, Loss: 0.17106863856315613, Val Loss: 0.12324032932519913\n"
     ]
    },
    {
     "name": "stderr",
     "output_type": "stream",
     "text": [
      "\r",
      "Epochs:  12%|█▏        | 12/100 [00:38<04:36,  3.14s/it]"
     ]
    },
    {
     "name": "stdout",
     "output_type": "stream",
     "text": [
      "Epoch 12/100, Loss: 0.1269320845603943, Val Loss: 0.12036223709583282\n"
     ]
    },
    {
     "name": "stderr",
     "output_type": "stream",
     "text": [
      "\r",
      "Epochs:  13%|█▎        | 13/100 [00:41<04:35,  3.17s/it]"
     ]
    },
    {
     "name": "stdout",
     "output_type": "stream",
     "text": [
      "Epoch 13/100, Loss: 0.16547317802906036, Val Loss: 0.11693055182695389\n"
     ]
    },
    {
     "name": "stderr",
     "output_type": "stream",
     "text": [
      "\r",
      "Epochs:  14%|█▍        | 14/100 [00:44<04:29,  3.14s/it]"
     ]
    },
    {
     "name": "stdout",
     "output_type": "stream",
     "text": [
      "Epoch 14/100, Loss: 0.15926265716552734, Val Loss: 0.11577135697007179\n"
     ]
    },
    {
     "name": "stderr",
     "output_type": "stream",
     "text": [
      "\r",
      "Epochs:  15%|█▌        | 15/100 [00:47<04:22,  3.09s/it]"
     ]
    },
    {
     "name": "stdout",
     "output_type": "stream",
     "text": [
      "Epoch 15/100, Loss: 0.17327861487865448, Val Loss: 0.1145702600479126\n"
     ]
    },
    {
     "name": "stderr",
     "output_type": "stream",
     "text": [
      "\r",
      "Epochs:  16%|█▌        | 16/100 [00:50<04:22,  3.12s/it]"
     ]
    },
    {
     "name": "stdout",
     "output_type": "stream",
     "text": [
      "Epoch 16/100, Loss: 0.11626800149679184, Val Loss: 0.11526187881827354\n"
     ]
    },
    {
     "name": "stderr",
     "output_type": "stream",
     "text": [
      "\r",
      "Epochs:  17%|█▋        | 17/100 [00:54<04:20,  3.14s/it]"
     ]
    },
    {
     "name": "stdout",
     "output_type": "stream",
     "text": [
      "Epoch 17/100, Loss: 0.1032707542181015, Val Loss: 0.11386855319142342\n"
     ]
    },
    {
     "name": "stderr",
     "output_type": "stream",
     "text": [
      "\r",
      "Epochs:  18%|█▊        | 18/100 [00:57<04:14,  3.11s/it]"
     ]
    },
    {
     "name": "stdout",
     "output_type": "stream",
     "text": [
      "Epoch 18/100, Loss: 0.1503273993730545, Val Loss: 0.11782440543174744\n"
     ]
    },
    {
     "name": "stderr",
     "output_type": "stream",
     "text": [
      "\r",
      "Epochs:  19%|█▉        | 19/100 [01:00<04:10,  3.09s/it]"
     ]
    },
    {
     "name": "stdout",
     "output_type": "stream",
     "text": [
      "Epoch 19/100, Loss: 0.14778628945350647, Val Loss: 0.11585110425949097\n"
     ]
    },
    {
     "name": "stderr",
     "output_type": "stream",
     "text": [
      "\r",
      "Epochs:  20%|██        | 20/100 [01:03<04:10,  3.13s/it]"
     ]
    },
    {
     "name": "stdout",
     "output_type": "stream",
     "text": [
      "Epoch 20/100, Loss: 0.11939720809459686, Val Loss: 0.11498544365167618\n"
     ]
    },
    {
     "name": "stderr",
     "output_type": "stream",
     "text": [
      "\r",
      "Epochs:  21%|██        | 21/100 [01:06<04:13,  3.20s/it]"
     ]
    },
    {
     "name": "stdout",
     "output_type": "stream",
     "text": [
      "Epoch 21/100, Loss: 0.11056464165449142, Val Loss: 0.11433801427483559\n"
     ]
    },
    {
     "name": "stderr",
     "output_type": "stream",
     "text": [
      "\r",
      "Epochs:  22%|██▏       | 22/100 [01:09<04:04,  3.14s/it]"
     ]
    },
    {
     "name": "stdout",
     "output_type": "stream",
     "text": [
      "Epoch 22/100, Loss: 0.09254379570484161, Val Loss: 0.11430582031607628\n"
     ]
    },
    {
     "name": "stderr",
     "output_type": "stream",
     "text": [
      "\r",
      "Epochs:  23%|██▎       | 23/100 [01:12<04:01,  3.13s/it]"
     ]
    },
    {
     "name": "stdout",
     "output_type": "stream",
     "text": [
      "Epoch 23/100, Loss: 0.12403688579797745, Val Loss: 0.11572564020752907\n"
     ]
    },
    {
     "name": "stderr",
     "output_type": "stream",
     "text": [
      "\r",
      "Epochs:  24%|██▍       | 24/100 [01:15<03:56,  3.12s/it]"
     ]
    },
    {
     "name": "stdout",
     "output_type": "stream",
     "text": [
      "Epoch 24/100, Loss: 0.13344977796077728, Val Loss: 0.1188632920384407\n"
     ]
    },
    {
     "name": "stderr",
     "output_type": "stream",
     "text": [
      "\r",
      "Epochs:  25%|██▌       | 25/100 [01:19<03:59,  3.19s/it]"
     ]
    },
    {
     "name": "stdout",
     "output_type": "stream",
     "text": [
      "Epoch 25/100, Loss: 0.08895094692707062, Val Loss: 0.1152031309902668\n"
     ]
    },
    {
     "name": "stderr",
     "output_type": "stream",
     "text": [
      "\r",
      "Epochs:  26%|██▌       | 26/100 [01:22<03:53,  3.15s/it]"
     ]
    },
    {
     "name": "stdout",
     "output_type": "stream",
     "text": [
      "Epoch 26/100, Loss: 0.11866931617259979, Val Loss: 0.10549923405051231\n"
     ]
    },
    {
     "name": "stderr",
     "output_type": "stream",
     "text": [
      "\r",
      "Epochs:  27%|██▋       | 27/100 [01:25<03:47,  3.12s/it]"
     ]
    },
    {
     "name": "stdout",
     "output_type": "stream",
     "text": [
      "Epoch 27/100, Loss: 0.09126529842615128, Val Loss: 0.0980634056031704\n"
     ]
    },
    {
     "name": "stderr",
     "output_type": "stream",
     "text": [
      "\r",
      "Epochs:  28%|██▊       | 28/100 [01:28<03:45,  3.13s/it]"
     ]
    },
    {
     "name": "stdout",
     "output_type": "stream",
     "text": [
      "Epoch 28/100, Loss: 0.08325780183076859, Val Loss: 0.10349175706505775\n"
     ]
    },
    {
     "name": "stderr",
     "output_type": "stream",
     "text": [
      "\r",
      "Epochs:  29%|██▉       | 29/100 [01:32<03:48,  3.22s/it]"
     ]
    },
    {
     "name": "stdout",
     "output_type": "stream",
     "text": [
      "Epoch 29/100, Loss: 0.09290491789579391, Val Loss: 0.10729612037539482\n"
     ]
    },
    {
     "name": "stderr",
     "output_type": "stream",
     "text": [
      "\r",
      "Epochs:  30%|███       | 30/100 [01:35<03:41,  3.16s/it]"
     ]
    },
    {
     "name": "stdout",
     "output_type": "stream",
     "text": [
      "Epoch 30/100, Loss: 0.0751735270023346, Val Loss: 0.10266610234975815\n"
     ]
    },
    {
     "name": "stderr",
     "output_type": "stream",
     "text": [
      "\r",
      "Epochs:  31%|███       | 31/100 [01:38<03:35,  3.12s/it]"
     ]
    },
    {
     "name": "stdout",
     "output_type": "stream",
     "text": [
      "Epoch 31/100, Loss: 0.07796542346477509, Val Loss: 0.09940139949321747\n"
     ]
    },
    {
     "name": "stderr",
     "output_type": "stream",
     "text": [
      "\r",
      "Epochs:  32%|███▏      | 32/100 [01:41<03:31,  3.11s/it]"
     ]
    },
    {
     "name": "stdout",
     "output_type": "stream",
     "text": [
      "Epoch 32/100, Loss: 0.11255455762147903, Val Loss: 0.09993002563714981\n"
     ]
    },
    {
     "name": "stderr",
     "output_type": "stream",
     "text": [
      "\r",
      "Epochs:  33%|███▎      | 33/100 [01:44<03:33,  3.19s/it]"
     ]
    },
    {
     "name": "stdout",
     "output_type": "stream",
     "text": [
      "Epoch 33/100, Loss: 0.06564559042453766, Val Loss: 0.0993923731148243\n"
     ]
    },
    {
     "name": "stderr",
     "output_type": "stream",
     "text": [
      "\r",
      "Epochs:  34%|███▍      | 34/100 [01:47<03:29,  3.17s/it]"
     ]
    },
    {
     "name": "stdout",
     "output_type": "stream",
     "text": [
      "Epoch 34/100, Loss: 0.05054820328950882, Val Loss: 0.09399061277508736\n"
     ]
    },
    {
     "name": "stderr",
     "output_type": "stream",
     "text": [
      "\r",
      "Epochs:  35%|███▌      | 35/100 [01:50<03:22,  3.11s/it]"
     ]
    },
    {
     "name": "stdout",
     "output_type": "stream",
     "text": [
      "Epoch 35/100, Loss: 0.10194475203752518, Val Loss: 0.0939352810382843\n"
     ]
    },
    {
     "name": "stderr",
     "output_type": "stream",
     "text": [
      "\r",
      "Epochs:  36%|███▌      | 36/100 [01:53<03:18,  3.10s/it]"
     ]
    },
    {
     "name": "stdout",
     "output_type": "stream",
     "text": [
      "Epoch 36/100, Loss: 0.049442753195762634, Val Loss: 0.09554626420140266\n"
     ]
    },
    {
     "name": "stderr",
     "output_type": "stream",
     "text": [
      "\r",
      "Epochs:  37%|███▋      | 37/100 [01:57<03:22,  3.21s/it]"
     ]
    },
    {
     "name": "stdout",
     "output_type": "stream",
     "text": [
      "Epoch 37/100, Loss: 0.06999455392360687, Val Loss: 0.09454870223999023\n"
     ]
    },
    {
     "name": "stderr",
     "output_type": "stream",
     "text": [
      "\r",
      "Epochs:  38%|███▊      | 38/100 [02:00<03:15,  3.15s/it]"
     ]
    },
    {
     "name": "stdout",
     "output_type": "stream",
     "text": [
      "Epoch 38/100, Loss: 0.10820204019546509, Val Loss: 0.0956568494439125\n"
     ]
    },
    {
     "name": "stderr",
     "output_type": "stream",
     "text": [
      "\r",
      "Epochs:  39%|███▉      | 39/100 [02:03<03:10,  3.12s/it]"
     ]
    },
    {
     "name": "stdout",
     "output_type": "stream",
     "text": [
      "Epoch 39/100, Loss: 0.09415977448225021, Val Loss: 0.10017714649438858\n"
     ]
    },
    {
     "name": "stderr",
     "output_type": "stream",
     "text": [
      "\r",
      "Epochs:  40%|████      | 40/100 [02:06<03:06,  3.11s/it]"
     ]
    },
    {
     "name": "stdout",
     "output_type": "stream",
     "text": [
      "Epoch 40/100, Loss: 0.06464075297117233, Val Loss: 0.0871141068637371\n"
     ]
    },
    {
     "name": "stderr",
     "output_type": "stream",
     "text": [
      "\r",
      "Epochs:  41%|████      | 41/100 [02:09<03:10,  3.23s/it]"
     ]
    },
    {
     "name": "stdout",
     "output_type": "stream",
     "text": [
      "Epoch 41/100, Loss: 0.10068793594837189, Val Loss: 0.07789792865514755\n"
     ]
    },
    {
     "name": "stderr",
     "output_type": "stream",
     "text": [
      "\r",
      "Epochs:  42%|████▏     | 42/100 [02:12<03:05,  3.20s/it]"
     ]
    },
    {
     "name": "stdout",
     "output_type": "stream",
     "text": [
      "Epoch 42/100, Loss: 0.07335405796766281, Val Loss: 0.07701390609145164\n"
     ]
    },
    {
     "name": "stderr",
     "output_type": "stream",
     "text": [
      "\r",
      "Epochs:  43%|████▎     | 43/100 [02:16<03:01,  3.18s/it]"
     ]
    },
    {
     "name": "stdout",
     "output_type": "stream",
     "text": [
      "Epoch 43/100, Loss: 0.05830793455243111, Val Loss: 0.07533556595444679\n"
     ]
    },
    {
     "name": "stderr",
     "output_type": "stream",
     "text": [
      "\r",
      "Epochs:  44%|████▍     | 44/100 [02:19<03:02,  3.27s/it]"
     ]
    },
    {
     "name": "stdout",
     "output_type": "stream",
     "text": [
      "Epoch 44/100, Loss: 0.08326654136180878, Val Loss: 0.08386793732643127\n"
     ]
    },
    {
     "name": "stderr",
     "output_type": "stream",
     "text": [
      "\r",
      "Epochs:  45%|████▌     | 45/100 [02:22<03:00,  3.29s/it]"
     ]
    },
    {
     "name": "stdout",
     "output_type": "stream",
     "text": [
      "Epoch 45/100, Loss: 0.05895160511136055, Val Loss: 0.08961622044444084\n"
     ]
    },
    {
     "name": "stderr",
     "output_type": "stream",
     "text": [
      "\r",
      "Epochs:  46%|████▌     | 46/100 [02:26<02:54,  3.23s/it]"
     ]
    },
    {
     "name": "stdout",
     "output_type": "stream",
     "text": [
      "Epoch 46/100, Loss: 0.05940398946404457, Val Loss: 0.08006442710757256\n"
     ]
    },
    {
     "name": "stderr",
     "output_type": "stream",
     "text": [
      "\r",
      "Epochs:  47%|████▋     | 47/100 [02:29<02:48,  3.17s/it]"
     ]
    },
    {
     "name": "stdout",
     "output_type": "stream",
     "text": [
      "Epoch 47/100, Loss: 0.062663733959198, Val Loss: 0.08076821267604828\n"
     ]
    },
    {
     "name": "stderr",
     "output_type": "stream",
     "text": [
      "\r",
      "Epochs:  48%|████▊     | 48/100 [02:32<02:43,  3.14s/it]"
     ]
    },
    {
     "name": "stdout",
     "output_type": "stream",
     "text": [
      "Epoch 48/100, Loss: 0.052079714834690094, Val Loss: 0.07557084783911705\n"
     ]
    },
    {
     "name": "stderr",
     "output_type": "stream",
     "text": [
      "\r",
      "Epochs:  49%|████▉     | 49/100 [02:35<02:44,  3.23s/it]"
     ]
    },
    {
     "name": "stdout",
     "output_type": "stream",
     "text": [
      "Epoch 49/100, Loss: 0.05240128934383392, Val Loss: 0.06699030101299286\n"
     ]
    },
    {
     "name": "stderr",
     "output_type": "stream",
     "text": [
      "\r",
      "Epochs:  50%|█████     | 50/100 [02:38<02:39,  3.19s/it]"
     ]
    },
    {
     "name": "stdout",
     "output_type": "stream",
     "text": [
      "Epoch 50/100, Loss: 0.06781795620918274, Val Loss: 0.07015395164489746\n"
     ]
    },
    {
     "name": "stderr",
     "output_type": "stream",
     "text": [
      "\r",
      "Epochs:  51%|█████     | 51/100 [02:41<02:34,  3.15s/it]"
     ]
    },
    {
     "name": "stdout",
     "output_type": "stream",
     "text": [
      "Epoch 51/100, Loss: 0.050069328397512436, Val Loss: 0.0752909854054451\n"
     ]
    },
    {
     "name": "stderr",
     "output_type": "stream",
     "text": [
      "\r",
      "Epochs:  52%|█████▏    | 52/100 [02:44<02:30,  3.14s/it]"
     ]
    },
    {
     "name": "stdout",
     "output_type": "stream",
     "text": [
      "Epoch 52/100, Loss: 0.06438062340021133, Val Loss: 0.07222399860620499\n"
     ]
    },
    {
     "name": "stderr",
     "output_type": "stream",
     "text": [
      "\r",
      "Epochs:  53%|█████▎    | 53/100 [02:48<02:32,  3.25s/it]"
     ]
    },
    {
     "name": "stdout",
     "output_type": "stream",
     "text": [
      "Epoch 53/100, Loss: 0.07772756367921829, Val Loss: 0.06776324659585953\n"
     ]
    },
    {
     "name": "stderr",
     "output_type": "stream",
     "text": [
      "\r",
      "Epochs:  54%|█████▍    | 54/100 [02:51<02:26,  3.18s/it]"
     ]
    },
    {
     "name": "stdout",
     "output_type": "stream",
     "text": [
      "Epoch 54/100, Loss: 0.05589725449681282, Val Loss: 0.06937849149107933\n"
     ]
    },
    {
     "name": "stderr",
     "output_type": "stream",
     "text": [
      "\r",
      "Epochs:  55%|█████▌    | 55/100 [02:54<02:22,  3.16s/it]"
     ]
    },
    {
     "name": "stdout",
     "output_type": "stream",
     "text": [
      "Epoch 55/100, Loss: 0.07489027082920074, Val Loss: 0.06838607043027878\n"
     ]
    },
    {
     "name": "stderr",
     "output_type": "stream",
     "text": [
      "\r",
      "Epochs:  56%|█████▌    | 56/100 [02:57<02:17,  3.13s/it]"
     ]
    },
    {
     "name": "stdout",
     "output_type": "stream",
     "text": [
      "Epoch 56/100, Loss: 0.056157324463129044, Val Loss: 0.0652790442109108\n"
     ]
    },
    {
     "name": "stderr",
     "output_type": "stream",
     "text": [
      "\r",
      "Epochs:  57%|█████▋    | 57/100 [03:01<02:19,  3.25s/it]"
     ]
    },
    {
     "name": "stdout",
     "output_type": "stream",
     "text": [
      "Epoch 57/100, Loss: 0.049812428653240204, Val Loss: 0.059255726635456085\n"
     ]
    },
    {
     "name": "stderr",
     "output_type": "stream",
     "text": [
      "\r",
      "Epochs:  58%|█████▊    | 58/100 [03:04<02:14,  3.21s/it]"
     ]
    },
    {
     "name": "stdout",
     "output_type": "stream",
     "text": [
      "Epoch 58/100, Loss: 0.04879378899931908, Val Loss: 0.06430117040872574\n"
     ]
    },
    {
     "name": "stderr",
     "output_type": "stream",
     "text": [
      "\r",
      "Epochs:  59%|█████▉    | 59/100 [03:07<02:08,  3.14s/it]"
     ]
    },
    {
     "name": "stdout",
     "output_type": "stream",
     "text": [
      "Epoch 59/100, Loss: 0.045216210186481476, Val Loss: 0.08039524778723717\n"
     ]
    },
    {
     "name": "stderr",
     "output_type": "stream",
     "text": [
      "\r",
      "Epochs:  60%|██████    | 60/100 [03:10<02:04,  3.12s/it]"
     ]
    },
    {
     "name": "stdout",
     "output_type": "stream",
     "text": [
      "Epoch 60/100, Loss: 0.0456305667757988, Val Loss: 0.06964972987771034\n"
     ]
    },
    {
     "name": "stderr",
     "output_type": "stream",
     "text": [
      "\r",
      "Epochs:  61%|██████    | 61/100 [03:13<02:04,  3.20s/it]"
     ]
    },
    {
     "name": "stdout",
     "output_type": "stream",
     "text": [
      "Epoch 61/100, Loss: 0.04545252025127411, Val Loss: 0.06004120595753193\n"
     ]
    },
    {
     "name": "stderr",
     "output_type": "stream",
     "text": [
      "\r",
      "Epochs:  62%|██████▏   | 62/100 [03:16<01:59,  3.16s/it]"
     ]
    },
    {
     "name": "stdout",
     "output_type": "stream",
     "text": [
      "Epoch 62/100, Loss: 0.04293933883309364, Val Loss: 0.06572503224015236\n"
     ]
    },
    {
     "name": "stderr",
     "output_type": "stream",
     "text": [
      "\r",
      "Epochs:  63%|██████▎   | 63/100 [03:19<01:55,  3.12s/it]"
     ]
    },
    {
     "name": "stdout",
     "output_type": "stream",
     "text": [
      "Epoch 63/100, Loss: 0.047282155603170395, Val Loss: 0.062489377334713936\n"
     ]
    },
    {
     "name": "stderr",
     "output_type": "stream",
     "text": [
      "\r",
      "Epochs:  64%|██████▍   | 64/100 [03:22<01:51,  3.11s/it]"
     ]
    },
    {
     "name": "stdout",
     "output_type": "stream",
     "text": [
      "Epoch 64/100, Loss: 0.04312265291810036, Val Loss: 0.06004168651998043\n"
     ]
    },
    {
     "name": "stderr",
     "output_type": "stream",
     "text": [
      "\r",
      "Epochs:  65%|██████▌   | 65/100 [03:26<01:52,  3.21s/it]"
     ]
    },
    {
     "name": "stdout",
     "output_type": "stream",
     "text": [
      "Epoch 65/100, Loss: 0.055779293179512024, Val Loss: 0.055837517604231834\n"
     ]
    },
    {
     "name": "stderr",
     "output_type": "stream",
     "text": [
      "\r",
      "Epochs:  66%|██████▌   | 66/100 [03:29<01:46,  3.14s/it]"
     ]
    },
    {
     "name": "stdout",
     "output_type": "stream",
     "text": [
      "Epoch 66/100, Loss: 0.054330985993146896, Val Loss: 0.05695698410272598\n"
     ]
    },
    {
     "name": "stderr",
     "output_type": "stream",
     "text": [
      "\r",
      "Epochs:  67%|██████▋   | 67/100 [03:32<01:43,  3.13s/it]"
     ]
    },
    {
     "name": "stdout",
     "output_type": "stream",
     "text": [
      "Epoch 67/100, Loss: 0.05130188539624214, Val Loss: 0.06273397244513035\n"
     ]
    },
    {
     "name": "stderr",
     "output_type": "stream",
     "text": [
      "\r",
      "Epochs:  68%|██████▊   | 68/100 [03:35<01:38,  3.09s/it]"
     ]
    },
    {
     "name": "stdout",
     "output_type": "stream",
     "text": [
      "Epoch 68/100, Loss: 0.045816417783498764, Val Loss: 0.06103663332760334\n"
     ]
    },
    {
     "name": "stderr",
     "output_type": "stream",
     "text": [
      "\r",
      "Epochs:  69%|██████▉   | 69/100 [03:38<01:39,  3.23s/it]"
     ]
    },
    {
     "name": "stdout",
     "output_type": "stream",
     "text": [
      "Epoch 69/100, Loss: 0.05294499546289444, Val Loss: 0.05772401951253414\n"
     ]
    },
    {
     "name": "stderr",
     "output_type": "stream",
     "text": [
      "\r",
      "Epochs:  70%|███████   | 70/100 [03:41<01:35,  3.18s/it]"
     ]
    },
    {
     "name": "stdout",
     "output_type": "stream",
     "text": [
      "Epoch 70/100, Loss: 0.0492827333509922, Val Loss: 0.05326233245432377\n"
     ]
    },
    {
     "name": "stderr",
     "output_type": "stream",
     "text": [
      "\r",
      "Epochs:  71%|███████   | 71/100 [03:44<01:31,  3.14s/it]"
     ]
    },
    {
     "name": "stdout",
     "output_type": "stream",
     "text": [
      "Epoch 71/100, Loss: 0.03929772228002548, Val Loss: 0.05305172689259052\n"
     ]
    },
    {
     "name": "stderr",
     "output_type": "stream",
     "text": [
      "\r",
      "Epochs:  72%|███████▏  | 72/100 [03:47<01:26,  3.11s/it]"
     ]
    },
    {
     "name": "stdout",
     "output_type": "stream",
     "text": [
      "Epoch 72/100, Loss: 0.044352103024721146, Val Loss: 0.05526845157146454\n"
     ]
    },
    {
     "name": "stderr",
     "output_type": "stream",
     "text": [
      "\r",
      "Epochs:  73%|███████▎  | 73/100 [03:51<01:27,  3.23s/it]"
     ]
    },
    {
     "name": "stdout",
     "output_type": "stream",
     "text": [
      "Epoch 73/100, Loss: 0.0418618880212307, Val Loss: 0.053219376131892204\n"
     ]
    },
    {
     "name": "stderr",
     "output_type": "stream",
     "text": [
      "\r",
      "Epochs:  74%|███████▍  | 74/100 [03:54<01:22,  3.19s/it]"
     ]
    },
    {
     "name": "stdout",
     "output_type": "stream",
     "text": [
      "Epoch 74/100, Loss: 0.04561718553304672, Val Loss: 0.05679435655474663\n"
     ]
    },
    {
     "name": "stderr",
     "output_type": "stream",
     "text": [
      "\r",
      "Epochs:  75%|███████▌  | 75/100 [03:57<01:18,  3.13s/it]"
     ]
    },
    {
     "name": "stdout",
     "output_type": "stream",
     "text": [
      "Epoch 75/100, Loss: 0.05078919604420662, Val Loss: 0.06383457407355309\n"
     ]
    },
    {
     "name": "stderr",
     "output_type": "stream",
     "text": [
      "\r",
      "Epochs:  76%|███████▌  | 76/100 [04:00<01:14,  3.12s/it]"
     ]
    },
    {
     "name": "stdout",
     "output_type": "stream",
     "text": [
      "Epoch 76/100, Loss: 0.04844089224934578, Val Loss: 0.05443510599434376\n"
     ]
    },
    {
     "name": "stderr",
     "output_type": "stream",
     "text": [
      "\r",
      "Epochs:  77%|███████▋  | 77/100 [04:04<01:14,  3.24s/it]"
     ]
    },
    {
     "name": "stdout",
     "output_type": "stream",
     "text": [
      "Epoch 77/100, Loss: 0.03627726435661316, Val Loss: 0.0503841582685709\n"
     ]
    },
    {
     "name": "stderr",
     "output_type": "stream",
     "text": [
      "\r",
      "Epochs:  78%|███████▊  | 78/100 [04:07<01:10,  3.20s/it]"
     ]
    },
    {
     "name": "stdout",
     "output_type": "stream",
     "text": [
      "Epoch 78/100, Loss: 0.03669421002268791, Val Loss: 0.050237784162163734\n"
     ]
    },
    {
     "name": "stderr",
     "output_type": "stream",
     "text": [
      "\r",
      "Epochs:  79%|███████▉  | 79/100 [04:10<01:06,  3.15s/it]"
     ]
    },
    {
     "name": "stdout",
     "output_type": "stream",
     "text": [
      "Epoch 79/100, Loss: 0.04235406219959259, Val Loss: 0.049169937148690224\n"
     ]
    },
    {
     "name": "stderr",
     "output_type": "stream",
     "text": [
      "\r",
      "Epochs:  80%|████████  | 80/100 [04:13<01:02,  3.14s/it]"
     ]
    },
    {
     "name": "stdout",
     "output_type": "stream",
     "text": [
      "Epoch 80/100, Loss: 0.03978722542524338, Val Loss: 0.048226164653897285\n"
     ]
    },
    {
     "name": "stderr",
     "output_type": "stream",
     "text": [
      "\r",
      "Epochs:  81%|████████  | 81/100 [04:16<01:01,  3.25s/it]"
     ]
    },
    {
     "name": "stdout",
     "output_type": "stream",
     "text": [
      "Epoch 81/100, Loss: 0.040774449706077576, Val Loss: 0.04700755514204502\n"
     ]
    },
    {
     "name": "stderr",
     "output_type": "stream",
     "text": [
      "\r",
      "Epochs:  82%|████████▏ | 82/100 [04:20<00:57,  3.20s/it]"
     ]
    },
    {
     "name": "stdout",
     "output_type": "stream",
     "text": [
      "Epoch 82/100, Loss: 0.0447908379137516, Val Loss: 0.04712715744972229\n"
     ]
    },
    {
     "name": "stderr",
     "output_type": "stream",
     "text": [
      "\r",
      "Epochs:  83%|████████▎ | 83/100 [04:23<00:53,  3.15s/it]"
     ]
    },
    {
     "name": "stdout",
     "output_type": "stream",
     "text": [
      "Epoch 83/100, Loss: 0.049379490315914154, Val Loss: 0.05385212227702141\n"
     ]
    },
    {
     "name": "stderr",
     "output_type": "stream",
     "text": [
      "\r",
      "Epochs:  84%|████████▍ | 84/100 [04:26<00:49,  3.12s/it]"
     ]
    },
    {
     "name": "stdout",
     "output_type": "stream",
     "text": [
      "Epoch 84/100, Loss: 0.03789094462990761, Val Loss: 0.052895426750183105\n"
     ]
    },
    {
     "name": "stderr",
     "output_type": "stream",
     "text": [
      "\r",
      "Epochs:  85%|████████▌ | 85/100 [04:29<00:48,  3.23s/it]"
     ]
    },
    {
     "name": "stdout",
     "output_type": "stream",
     "text": [
      "Epoch 85/100, Loss: 0.03540440648794174, Val Loss: 0.05143149197101593\n"
     ]
    },
    {
     "name": "stderr",
     "output_type": "stream",
     "text": [
      "\r",
      "Epochs:  86%|████████▌ | 86/100 [04:32<00:44,  3.19s/it]"
     ]
    },
    {
     "name": "stdout",
     "output_type": "stream",
     "text": [
      "Epoch 86/100, Loss: 0.04040089622139931, Val Loss: 0.04818272963166237\n"
     ]
    },
    {
     "name": "stderr",
     "output_type": "stream",
     "text": [
      "\r",
      "Epochs:  87%|████████▋ | 87/100 [04:35<00:41,  3.16s/it]"
     ]
    },
    {
     "name": "stdout",
     "output_type": "stream",
     "text": [
      "Epoch 87/100, Loss: 0.04029134660959244, Val Loss: 0.044652948155999184\n"
     ]
    },
    {
     "name": "stderr",
     "output_type": "stream",
     "text": [
      "\r",
      "Epochs:  88%|████████▊ | 88/100 [04:38<00:37,  3.14s/it]"
     ]
    },
    {
     "name": "stdout",
     "output_type": "stream",
     "text": [
      "Epoch 88/100, Loss: 0.03837999701499939, Val Loss: 0.04272535257041454\n"
     ]
    },
    {
     "name": "stderr",
     "output_type": "stream",
     "text": [
      "\r",
      "Epochs:  89%|████████▉ | 89/100 [04:42<00:35,  3.25s/it]"
     ]
    },
    {
     "name": "stdout",
     "output_type": "stream",
     "text": [
      "Epoch 89/100, Loss: 0.03277314454317093, Val Loss: 0.04397737234830856\n"
     ]
    },
    {
     "name": "stderr",
     "output_type": "stream",
     "text": [
      "\r",
      "Epochs:  90%|█████████ | 90/100 [04:45<00:31,  3.18s/it]"
     ]
    },
    {
     "name": "stdout",
     "output_type": "stream",
     "text": [
      "Epoch 90/100, Loss: 0.0377209298312664, Val Loss: 0.047303276136517525\n"
     ]
    },
    {
     "name": "stderr",
     "output_type": "stream",
     "text": [
      "\r",
      "Epochs:  91%|█████████ | 91/100 [04:48<00:28,  3.14s/it]"
     ]
    },
    {
     "name": "stdout",
     "output_type": "stream",
     "text": [
      "Epoch 91/100, Loss: 0.03506602719426155, Val Loss: 0.045267852023243904\n"
     ]
    },
    {
     "name": "stderr",
     "output_type": "stream",
     "text": [
      "\r",
      "Epochs:  92%|█████████▏| 92/100 [04:51<00:25,  3.13s/it]"
     ]
    },
    {
     "name": "stdout",
     "output_type": "stream",
     "text": [
      "Epoch 92/100, Loss: 0.03570064157247543, Val Loss: 0.047433456405997276\n"
     ]
    },
    {
     "name": "stderr",
     "output_type": "stream",
     "text": [
      "\r",
      "Epochs:  93%|█████████▎| 93/100 [04:55<00:22,  3.23s/it]"
     ]
    },
    {
     "name": "stdout",
     "output_type": "stream",
     "text": [
      "Epoch 93/100, Loss: 0.03906713426113129, Val Loss: 0.04439019411802292\n"
     ]
    },
    {
     "name": "stderr",
     "output_type": "stream",
     "text": [
      "\r",
      "Epochs:  94%|█████████▍| 94/100 [04:58<00:19,  3.18s/it]"
     ]
    },
    {
     "name": "stdout",
     "output_type": "stream",
     "text": [
      "Epoch 94/100, Loss: 0.032055579125881195, Val Loss: 0.047162728384137154\n"
     ]
    },
    {
     "name": "stderr",
     "output_type": "stream",
     "text": [
      "\r",
      "Epochs:  95%|█████████▌| 95/100 [05:01<00:16,  3.20s/it]"
     ]
    },
    {
     "name": "stdout",
     "output_type": "stream",
     "text": [
      "Epoch 95/100, Loss: 0.047531355172395706, Val Loss: 0.048491913825273514\n"
     ]
    },
    {
     "name": "stderr",
     "output_type": "stream",
     "text": [
      "\r",
      "Epochs:  96%|█████████▌| 96/100 [05:04<00:12,  3.22s/it]"
     ]
    },
    {
     "name": "stdout",
     "output_type": "stream",
     "text": [
      "Epoch 96/100, Loss: 0.035009149461984634, Val Loss: 0.04535835608839989\n"
     ]
    },
    {
     "name": "stderr",
     "output_type": "stream",
     "text": [
      "\r",
      "Epochs:  97%|█████████▋| 97/100 [05:08<00:09,  3.30s/it]"
     ]
    },
    {
     "name": "stdout",
     "output_type": "stream",
     "text": [
      "Epoch 97/100, Loss: 0.03543752059340477, Val Loss: 0.04469993896782398\n"
     ]
    },
    {
     "name": "stderr",
     "output_type": "stream",
     "text": [
      "\r",
      "Epochs:  97%|█████████▋| 97/100 [05:11<00:09,  3.21s/it]"
     ]
    },
    {
     "name": "stdout",
     "output_type": "stream",
     "text": [
      "Epoch 98/100, Loss: 0.03603076934814453, Val Loss: 0.04362916201353073\n",
      "Early stopping triggered. Stopped at epoch 98. Best epoch was 88 with val loss: 0.04272535257041454\n"
     ]
    },
    {
     "name": "stderr",
     "output_type": "stream",
     "text": [
      "\n"
     ]
    }
   ],
   "source": [
    "from copy import deepcopy\n",
    "\n",
    "criterion = nn.MSELoss()\n",
    "optimizer = optim.Adam(model.parameters(), lr=1e-5)\n",
    "num_epochs = 100\n",
    "best_model = None\n",
    "best_loss = float('inf')\n",
    "patience = 10\n",
    "patience_counter = 0\n",
    "\n",
    "\n",
    "for epoch in tqdm(range(num_epochs), desc='Epochs'):\n",
    "    model.train()\n",
    "    for batch_idx, batch_data in enumerate(train_loader):\n",
    "        batch_data = batch_data.float().to(device)\n",
    "        optimizer.zero_grad()\n",
    "        #print(batch_data.unsqueeze(1).shape)\n",
    "        #model.dimensions(batch_data.unsqueeze(1))\n",
    "        outputs = model(batch_data.unsqueeze(1))\n",
    "        loss = criterion(outputs, batch_data.unsqueeze(1))\n",
    "        loss.backward()\n",
    "        optimizer.step()\n",
    "    model.eval()  # Set the model to evaluation mode\n",
    "    val_loss = 0.0\n",
    "    with torch.no_grad():\n",
    "        for val_batch_data in val_loader:\n",
    "            val_batch_data = val_batch_data.float().to(device)\n",
    "            val_outputs = model(val_batch_data.unsqueeze(1))\n",
    "            val_loss += criterion(val_outputs, val_batch_data.unsqueeze(1)).item()\n",
    "\n",
    "    val_loss /= len(val_loader)\n",
    "\n",
    "    print(f\"Epoch {epoch+1}/{num_epochs}, Loss: {loss.item()}, Val Loss: {val_loss}\")\n",
    "\n",
    "     # Check if the validation loss has improved\n",
    "    if val_loss < best_loss:\n",
    "        best_loss = val_loss\n",
    "        best_model = deepcopy(model)  # Save a copy of the model\n",
    "        patience_counter = 0  # Reset patience counter\n",
    "    else:\n",
    "        patience_counter += 1\n",
    "\n",
    "    if patience_counter >= patience:\n",
    "        print(f\"Early stopping triggered. Stopped at epoch {epoch+1}. Best epoch was {epoch+1-patience_counter} with val loss: {best_loss}\")\n",
    "        break"
   ]
  },
  {
   "cell_type": "code",
   "execution_count": 11,
   "id": "f15588db",
   "metadata": {
    "colab": {
     "base_uri": "https://localhost:8080/"
    },
    "executionInfo": {
     "elapsed": 374,
     "status": "ok",
     "timestamp": 1691118882323,
     "user": {
      "displayName": "Smitesh Patil",
      "userId": "02654865415588935724"
     },
     "user_tz": -60
    },
    "id": "f15588db",
    "outputId": "5d74c413-62cd-4ee6-a53f-385ed9591d80"
   },
   "outputs": [
    {
     "name": "stderr",
     "output_type": "stream",
     "text": [
      "                                                      "
     ]
    },
    {
     "name": "stdout",
     "output_type": "stream",
     "text": [
      "Test Loss: 0.032788218930363655\n"
     ]
    },
    {
     "name": "stderr",
     "output_type": "stream",
     "text": [
      "\r"
     ]
    }
   ],
   "source": [
    "model.eval()  # Set the model to evaluation mode\n",
    "test_loss = 0.0\n",
    "with torch.no_grad():\n",
    "    with tqdm(test_loader, desc='Testing', leave=False) as t:\n",
    "        for test_batch_data in t:\n",
    "            test_batch_data = test_batch_data.float().to(device)\n",
    "            test_outputs = model(test_batch_data.unsqueeze(1))\n",
    "            test_loss += criterion(test_outputs, test_batch_data.unsqueeze(1)).item()\n",
    "\n",
    "test_loss /= len(test_loader)  # Average the test loss\n",
    "print(f\"Test Loss: {test_loss}\")"
   ]
  },
  {
   "cell_type": "code",
   "execution_count": 12,
   "id": "d8d3be0b",
   "metadata": {
    "executionInfo": {
     "elapsed": 10233,
     "status": "ok",
     "timestamp": 1691118892550,
     "user": {
      "displayName": "Smitesh Patil",
      "userId": "02654865415588935724"
     },
     "user_tz": -60
    },
    "id": "d8d3be0b"
   },
   "outputs": [],
   "source": [
    "#torch.save(embedded_dict, \"/home/smitesh22/Unsupervised-Machine-Learning-for-Solar-Site-Selection/Code/embedded_dict.pt\")\n",
    "\n",
    "torch.save(model, \"/content/drive/My Drive/Thesis/Model/EncoderDecoderSlopeModel.pt\")"
   ]
  },
  {
   "cell_type": "code",
   "execution_count": 12,
   "id": "R5fslaYSi-A4",
   "metadata": {
    "executionInfo": {
     "elapsed": 33,
     "status": "ok",
     "timestamp": 1691118892551,
     "user": {
      "displayName": "Smitesh Patil",
      "userId": "02654865415588935724"
     },
     "user_tz": -60
    },
    "id": "R5fslaYSi-A4"
   },
   "outputs": [],
   "source": []
  }
 ],
 "metadata": {
  "accelerator": "GPU",
  "colab": {
   "gpuType": "V100",
   "machine_shape": "hm",
   "provenance": []
  },
  "kernelspec": {
   "display_name": "Python 3 (ipykernel)",
   "language": "python",
   "name": "python3"
  },
  "language_info": {
   "codemirror_mode": {
    "name": "ipython",
    "version": 3
   },
   "file_extension": ".py",
   "mimetype": "text/x-python",
   "name": "python",
   "nbconvert_exporter": "python",
   "pygments_lexer": "ipython3",
   "version": "3.10.9"
  }
 },
 "nbformat": 4,
 "nbformat_minor": 5
}
